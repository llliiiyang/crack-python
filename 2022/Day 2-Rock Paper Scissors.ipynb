{
 "cells": [
  {
   "cell_type": "markdown",
   "id": "5aec0865",
   "metadata": {},
   "source": [
    "# Day 2: Rock Paper Scissors"
   ]
  },
  {
   "cell_type": "markdown",
   "id": "09c18f74",
   "metadata": {},
   "source": [
    "### Part1"
   ]
  },
  {
   "cell_type": "code",
   "execution_count": 19,
   "id": "f864ddb6",
   "metadata": {},
   "outputs": [
    {
     "name": "stdout",
     "output_type": "stream",
     "text": [
      "13565\n"
     ]
    }
   ],
   "source": [
    "myfile=open(\"/Users/yang/Desktop/adventofcode/game.txt\",'r')\n",
    "lines=myfile.readlines()\n",
    "#print(type(lines[1]))\n",
    "myscore=0\n",
    "for line in lines:\n",
    "    #print(line[0])\n",
    "    tempscore=0\n",
    "    if line[2]==\"X\" and line[0]==\"A\":\n",
    "        tempscore=1+3\n",
    "    elif line[2]==\"X\" and line[0]==\"B\":\n",
    "        tempscore=1+0\n",
    "    elif line[2]==\"X\" and line[0]==\"C\":\n",
    "        tempscore=1+6\n",
    "    elif line[2]==\"Y\" and line[0]==\"A\":\n",
    "        tempscore=2+6\n",
    "    elif line[2]==\"Y\" and line[0]==\"B\":\n",
    "        tempscore=2+3\n",
    "    elif line[2]==\"Y\" and line[0]==\"C\":\n",
    "        tempscore=2+0\n",
    "    elif line[2]==\"Z\" and line[0]==\"A\":\n",
    "        tempscore=3+0\n",
    "    elif line[2]==\"Z\" and line[0]==\"B\":\n",
    "        tempscore=3+6\n",
    "    else:\n",
    "        tempscore=3+3\n",
    "    myscore+=tempscore\n",
    "print(myscore)"
   ]
  },
  {
   "cell_type": "markdown",
   "id": "9f4ac569",
   "metadata": {},
   "source": [
    "### Part2"
   ]
  },
  {
   "cell_type": "code",
   "execution_count": 18,
   "id": "78b321c1",
   "metadata": {},
   "outputs": [
    {
     "name": "stdout",
     "output_type": "stream",
     "text": [
      "12424\n"
     ]
    }
   ],
   "source": [
    "myfile=open(\"/Users/yang/Desktop/adventofcode/game.txt\",'r')\n",
    "lines=myfile.readlines()\n",
    "myscore=0\n",
    "for line in lines:\n",
    "    tempscore=0\n",
    "    if line[2]==\"Z\" and line[0]==\"A\":\n",
    "        tempscore=6+2\n",
    "    elif line[2]==\"Z\" and line[0]==\"B\":\n",
    "        tempscore=6+3\n",
    "    elif line[2]==\"Z\" and line[0]==\"C\":\n",
    "        tempscore=6+1\n",
    "    elif line[2]==\"Y\" and line[0]==\"A\":\n",
    "        tempscore=3+1\n",
    "    elif line[2]==\"Y\" and line[0]==\"B\":\n",
    "        tempscore=3+2\n",
    "    elif line[2]==\"Y\" and line[0]==\"C\":\n",
    "        tempscore=3+3\n",
    "    elif line[2]==\"X\" and line[0]==\"A\":\n",
    "        tempscore=3\n",
    "    elif line[2]==\"X\" and line[0]==\"B\":\n",
    "        tempscore=1\n",
    "    else:\n",
    "        tempscore=2\n",
    "    myscore+=tempscore\n",
    "print(myscore)"
   ]
  },
  {
   "cell_type": "code",
   "execution_count": 16,
   "id": "39edbecc",
   "metadata": {},
   "outputs": [
    {
     "name": "stdout",
     "output_type": "stream",
     "text": [
      "12424\n"
     ]
    }
   ],
   "source": [
    "myfile=open(\"/Users/yang/Desktop/adventofcode/game.txt\",'r')\n",
    "lines=myfile.readlines()\n",
    "myscore=0\n",
    "points = {\n",
    "    (\"Z\", \"A\"): 8, \n",
    "    (\"Z\", \"B\"): 9,\n",
    "    (\"Z\", \"C\"): 7,\n",
    "    (\"Y\", \"A\"): 4,\n",
    "    (\"Y\", \"B\"): 5,\n",
    "    (\"Y\", \"C\"): 6,\n",
    "    (\"X\", \"A\"): 3,\n",
    "    (\"X\", \"B\"): 1,\n",
    "    (\"X\", \"C\"): 2,\n",
    "}\n",
    "for line in lines:\n",
    "    myscore+=points[(line[2], line[0])]\n",
    "print(myscore)"
   ]
  },
  {
   "cell_type": "code",
   "execution_count": 17,
   "id": "46f1c0e5",
   "metadata": {},
   "outputs": [
    {
     "name": "stdout",
     "output_type": "stream",
     "text": [
      "12424\n"
     ]
    }
   ],
   "source": [
    "myfile=open(\"/Users/yang/Desktop/adventofcode/game.txt\",'r')\n",
    "lines=myfile.readlines()\n",
    "myscore=0\n",
    "points = {\n",
    "    \"A Z\": 8, \n",
    "    \"B Z\": 9,\n",
    "    \"C Z\": 7,\n",
    "    \"A Y\": 4,\n",
    "    \"B Y\": 5,\n",
    "    \"C Y\": 6,\n",
    "    \"A X\": 3,\n",
    "    \"B X\": 1,\n",
    "    \"C X\": 2,\n",
    "}\n",
    "for line in lines:\n",
    "    myscore+=points[line.strip()]\n",
    "print(myscore)adventofcode/"
   ]
  },
  {
   "cell_type": "code",
   "execution_count": 13,
   "id": "2501d9e4",
   "metadata": {
    "scrolled": true
   },
   "outputs": [
    {
     "data": {
      "text/plain": [
       "'/Users/yang/Jupyter Notebook'"
      ]
     },
     "execution_count": 13,
     "metadata": {},
     "output_type": "execute_result"
    }
   ],
   "source": [
    "%pwd"
   ]
  }
 ],
 "metadata": {
  "kernelspec": {
   "display_name": "Python 3 (ipykernel)",
   "language": "python",
   "name": "python3"
  },
  "language_info": {
   "codemirror_mode": {
    "name": "ipython",
    "version": 3
   },
   "file_extension": ".py",
   "mimetype": "text/x-python",
   "name": "python",
   "nbconvert_exporter": "python",
   "pygments_lexer": "ipython3",
   "version": "3.11.2"
  }
 },
 "nbformat": 4,
 "nbformat_minor": 5
}
