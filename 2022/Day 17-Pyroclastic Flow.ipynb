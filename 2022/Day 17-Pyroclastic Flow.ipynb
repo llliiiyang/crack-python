{
 "cells": [
  {
   "attachments": {},
   "cell_type": "markdown",
   "metadata": {},
   "source": [
    "--Part 1--"
   ]
  },
  {
   "cell_type": "code",
   "execution_count": 151,
   "metadata": {},
   "outputs": [
    {
     "name": "stdout",
     "output_type": "stream",
     "text": [
      "[[0 0 0 1 0 0 0]\n",
      " [0 0 1 1 1 0 0]\n",
      " [0 0 0 1 0 0 0]]\n",
      "[[0, 1, 1, 1, 2], [3, 2, 3, 4, 3]]\n",
      "[array([1, 2, 2, 2, 3]), array([3, 2, 3, 4, 3])]\n",
      "[[1 7 5 4 2 6 2]\n",
      " [7 0 7 7 4 6 7]\n",
      " [1 0 1 5 7 5 0]\n",
      " [3 2 3 3 2 5 3]\n",
      " [5 0 0 7 6 3 4]]\n",
      "[7 1 5 7 3]\n"
     ]
    }
   ],
   "source": [
    "import numpy as np\n",
    "\n",
    "\n",
    "# current space occupation of the falling rock\n",
    "rock1 = np.zeros((1,7),dtype=int)\n",
    "rock1[0][2:6]=1\n",
    "# print(rock1)\n",
    "\n",
    "rock2 = np.zeros((3,7),dtype=int)\n",
    "rock2[[0,1,1,1,2],[3,2,3,4,3]]=1\n",
    "print(rock2)\n",
    "indexlist_r2=[[0,1,1,1,2],[3,2,3,4,3]]\n",
    "\n",
    "print(indexlist_r2)\n",
    "test=np.array(indexlist_r2)\n",
    "test[0]+=1\n",
    "test=list(test)\n",
    "print(test)\n",
    "mylist=np.random.randint(0,8, size=(5,7))\n",
    "print(mylist)\n",
    "print(mylist[tuple(test)])\n",
    "\n",
    "#current space occupation of the falling rock2\n",
    "# print(rock2[tuple(indexlist_r2)])\n",
    "\n",
    "rock3 = np.zeros((3,7),dtype=int)\n",
    "rock3[[0,1,2,2,2],[4,4,2,3,4]]=1\n",
    "# print(rock3)\n",
    "\n",
    "rock4=np.zeros((4,7),dtype=int)\n",
    "rock4[:,2]=1\n",
    "# print(rock4)"
   ]
  },
  {
   "cell_type": "code",
   "execution_count": 90,
   "metadata": {},
   "outputs": [],
   "source": [
    "import numpy as np\n",
    "space_l = np.zeros((4,7), dtype=int)\n",
    "# space_l+=1\n",
    "\n",
    "\n",
    "#after resting\n",
    "# space_l[-1][2:6]=1\n",
    "# print(space_l)\n",
    "\n",
    "# intial space occupation of the falling rock\n",
    "indexlist_r1=[[0],[2,3,4,5]]\n",
    "indexlist_r2=[[0,1,1,1,2],[3,2,3,4,3]]\n",
    "indexlist_r3=[[0,1,2,2,2],[4,4,2,3,4]]\n",
    "indexlist_r4=[[0,1,2,3],[2,2,2,2]]\n",
    "\n",
    "#make class object of each rock\n",
    "def rock_move(rocktype, space,i):\n",
    "    #rocktype.indexlist\n",
    "    #check movement\n",
    "    arr=np.array(rocktype.indexlist)\n",
    "    if i % 2 == 0:\n",
    "        #move right or left\n",
    "        # if \"<\" and [0<j<6 for j in arr[1]]:\n",
    "        #     arr[1]-=1\n",
    "        # elif \">\" and [0<j<6 for j in arr[1]]:\n",
    "        #     arr[1]+=1\n",
    "    else:\n",
    "        #move down\n",
    "        arr[0]+=1\n",
    "    indexlist_update=list(arr)\n",
    "    i+1\n",
    "    return indexlist_update, i\n",
    "\n",
    "\n",
    "\n",
    "def initiate_fall(rocktype, space):\n",
    "    hp = np.where(space==1)[0][0] #highest point of resting rock\n",
    "    # print(hp)\n",
    "    #preparing for a new fall\n",
    "    a = hp+3-space_l.shape[0]\n",
    "    # print(\"hp:\",hp, \"space_l rows:\",space_l.shape[0], \"a:\",a)\n",
    "    add = np.zeros((a,7),dtype=int)\n",
    "    np.vstack([rocktype,add,space])\n"
   ]
  },
  {
   "cell_type": "code",
   "execution_count": 147,
   "metadata": {},
   "outputs": [
    {
     "name": "stdout",
     "output_type": "stream",
     "text": [
      "[[ 0  1  2  3  4  5  6]\n",
      " [ 7  8  9 10 11 12 13]\n",
      " [14 15 16 17 18 19 20]\n",
      " [21 22 23 24 25 26 27]\n",
      " [28 29 30 31 32 33 34]]\n",
      "indexlist: [[0, 1], [0, 2], [3, 3]]\n",
      "indexlist.T: [[0, 0, 3], [1, 2, 3]]\n",
      "y[indexlist.T]: [ 1  2 24]\n"
     ]
    }
   ],
   "source": [
    "y = np.arange(35).reshape(5,7)\n",
    "print(y) \n",
    "indexlist = [[0,1], [0,2], [3,3]]\n",
    "print ('indexlist:', indexlist)\n",
    "indexlisttranspose = np.array(indexlist).T.tolist()\n",
    "print ('indexlist.T:', indexlisttranspose)\n",
    "print ('y[indexlist.T]:', y[ tuple(indexlisttranspose) ])"
   ]
  },
  {
   "cell_type": "code",
   "execution_count": 33,
   "metadata": {},
   "outputs": [
    {
     "name": "stdout",
     "output_type": "stream",
     "text": [
      "[[0 1 2]\n",
      " [0 2 0]\n",
      " [1 2 3]]\n"
     ]
    }
   ],
   "source": [
    "A = np.array([[0, 1, 2], [0, 2, 0]])\n",
    "newrow = [1, 2, 3]\n",
    "A = np.vstack([A, newrow])\n",
    "print(A)\n"
   ]
  },
  {
   "cell_type": "code",
   "execution_count": 26,
   "metadata": {},
   "outputs": [
    {
     "name": "stdout",
     "output_type": "stream",
     "text": [
      "[0, 0, 0, 0, 0, 0, 0]\n",
      "[0, 0, 0, 0, 0, 0, 0]\n",
      "[0, 0, 0, 0, 0, 0, 0]\n",
      "[0, 0, 0, 0, 0, 0, 0]\n",
      "[0, 0, 0, 0, 0, 0, 0]\n"
     ]
    },
    {
     "data": {
      "text/plain": [
       "[(0, 2), (1, 1), (2, 2)]"
      ]
     },
     "execution_count": 26,
     "metadata": {},
     "output_type": "execute_result"
    }
   ],
   "source": [
    "row_l=[0 for i in range(7)]\n",
    "print(row_l)\n",
    "space_l = [row_l for i in range(4)]\n",
    "for line in space_l:\n",
    "    print(line)\n",
    "\n",
    "\n",
    "mymatrix=[[1,2,9],[4,9,6],[7,8,9]]\n",
    "val = 9\n",
    "[(index, row.index(val)) for index, row in enumerate(mymatrix) if val in row]\n"
   ]
  }
 ],
 "metadata": {
  "kernelspec": {
   "display_name": "Python 3",
   "language": "python",
   "name": "python3"
  },
  "language_info": {
   "codemirror_mode": {
    "name": "ipython",
    "version": 3
   },
   "file_extension": ".py",
   "mimetype": "text/x-python",
   "name": "python",
   "nbconvert_exporter": "python",
   "pygments_lexer": "ipython3",
   "version": "3.11.3"
  },
  "orig_nbformat": 4,
  "vscode": {
   "interpreter": {
    "hash": "aee8b7b246df8f9039afb4144a1f6fd8d2ca17a180786b69acc140d282b71a49"
   }
  }
 },
 "nbformat": 4,
 "nbformat_minor": 2
}
