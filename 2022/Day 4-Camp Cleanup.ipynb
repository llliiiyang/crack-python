{
 "cells": [
  {
   "cell_type": "raw",
   "id": "0912374f",
   "metadata": {},
   "source": [
    "read \"-\"\",\"\"-\"as line[a],line[b],line[c]\n",
    "v1=int(line[:a])\n",
    "v2=int(line[a+1:b])\n",
    "v3=int(line[b+1:c])\n",
    "v4=int(line[c:])\n",
    "\n",
    "if x is int:pass\n",
    "else: v_break.append()\n",
    "a=v_break[0]\n",
    "b=v_break[1]\n",
    "c=v_break[2]\n",
    "\n",
    "v1..v3 v4...v2\n",
    "v3..v1 v2...v4"
   ]
  },
  {
   "cell_type": "markdown",
   "id": "046ee4f2",
   "metadata": {},
   "source": [
    "# --Part 1--"
   ]
  },
  {
   "cell_type": "code",
   "execution_count": 21,
   "id": "5f4c2882",
   "metadata": {},
   "outputs": [
    {
     "name": "stdout",
     "output_type": "stream",
     "text": [
      "<class 'str'>\n",
      "530\n"
     ]
    }
   ],
   "source": [
    "myfile=open(\"/Users/yang/Desktop/adventofcode/campclean.txt\",'r')\n",
    "lines=myfile.readlines()\n",
    "print(type(lines[0]))\n",
    "k=0\n",
    "for line in lines:\n",
    "    count=0\n",
    "    v_br=[]\n",
    "    for x in line:\n",
    "        if x.isnumeric():\n",
    "            pass\n",
    "        elif len(v_br)<3:\n",
    "            v_br.append(count)\n",
    "        count+=1\n",
    "    v1=int(line[:v_br[0]])\n",
    "    v2=int(line[v_br[0]+1:v_br[1]])\n",
    "    v3=int(line[v_br[1]+1:v_br[2]])\n",
    "    v4=int(line[v_br[2]+1:])\n",
    "    #print(v_br)     \n",
    "    if v1<=v3 and v2>=v4:\n",
    "                k+=1\n",
    "    elif v3<=v1 and v4>=v2:\n",
    "                k+=1\n",
    "    #print(v1,v2,v3,v4)\n",
    "    #print(k)\n",
    "print(k)"
   ]
  },
  {
   "cell_type": "code",
   "execution_count": 8,
   "id": "23c556cd",
   "metadata": {},
   "outputs": [
    {
     "name": "stdout",
     "output_type": "stream",
     "text": [
      "123\n",
      "<class 'str'>\n"
     ]
    }
   ],
   "source": [
    "x=\"2\"\n",
    "x.isnumeric()\n",
    "y=\"123245\"\n",
    "print (y[:3])\n",
    "print(type(y[:3]))"
   ]
  },
  {
   "cell_type": "markdown",
   "id": "61ee9f8e",
   "metadata": {},
   "source": [
    "# --Part 2--"
   ]
  },
  {
   "cell_type": "raw",
   "id": "49e429b0",
   "metadata": {},
   "source": [
    "v1..v2..v3..v4\n",
    "v3..v4..v1..v2"
   ]
  },
  {
   "cell_type": "code",
   "execution_count": null,
   "id": "8ceef7ac",
   "metadata": {},
   "outputs": [],
   "source": []
  },
  {
   "cell_type": "raw",
   "id": "4f76df01",
   "metadata": {},
   "source": [
    "k=0\n",
    "for line in lines:\n",
    "    count=0\n",
    "    v_br=[]\n",
    "    for x in line:\n",
    "        if x.isnumeric():\n",
    "            pass\n",
    "        elif len(v_br)<3:\n",
    "            v_br.append(count)\n",
    "        count+=1\n",
    "    v1=int(line[:v_br[0]])\n",
    "    v2=int(line[v_br[0]+1:v_br[1]])\n",
    "    v3=int(line[v_br[1]+1:v_br[2]])\n",
    "    v4=int(line[v_br[2]+1:])\n",
    "    \n",
    "    if v1<=v2<v3<=v4:\n",
    "        pass\n",
    "    elif v3<=v4<v1<=v2:\n",
    "        pass\n",
    "    else:\n",
    "        k+=1\n",
    "print(k)"
   ]
  }
 ],
 "metadata": {
  "kernelspec": {
   "display_name": "Python 3 (ipykernel)",
   "language": "python",
   "name": "python3"
  },
  "language_info": {
   "codemirror_mode": {
    "name": "ipython",
    "version": 3
   },
   "file_extension": ".py",
   "mimetype": "text/x-python",
   "name": "python",
   "nbconvert_exporter": "python",
   "pygments_lexer": "ipython3",
   "version": "3.11.2"
  }
 },
 "nbformat": 4,
 "nbformat_minor": 5
}
