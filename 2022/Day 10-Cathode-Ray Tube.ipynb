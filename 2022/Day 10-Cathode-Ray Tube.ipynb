{
 "cells": [
  {
   "cell_type": "markdown",
   "id": "6ae696d1-6e6d-416b-af81-a6fb9feb1405",
   "metadata": {},
   "source": [
    "# --Part 1--"
   ]
  },
  {
   "cell_type": "code",
   "execution_count": 42,
   "id": "5ed08000-ed42-46c6-ac2f-b4f984dc1ea8",
   "metadata": {
    "tags": []
   },
   "outputs": [
    {
     "name": "stdout",
     "output_type": "stream",
     "text": [
      "21 20 11 420\n",
      "19 60 33 1560\n",
      "18 100 60 3360\n",
      "21 140 86 6300\n",
      "16 180 110 9180\n",
      "18 220 133 13140\n",
      "13140\n"
     ]
    }
   ],
   "source": [
    "import re\n",
    "myfile=open(\"/Users/yang/Desktop/adventofcode/cr-tube.txt\",'r')\n",
    "lines=myfile.readlines()\n",
    "\n",
    "cycles=0\n",
    "vx=1\n",
    "target=[]\n",
    "acc=0\n",
    "\n",
    "for i in range(20,221,40):\n",
    "    target.append(i)\n",
    "\n",
    "i=0\n",
    "for k in target:\n",
    "    while cycles<k:\n",
    "        if re.search(r\"^noop\",lines[i]):\n",
    "            cycles+=1\n",
    "            vx0=vx\n",
    "        else:\n",
    "            cycles+=2\n",
    "            vx0=vx\n",
    "            a=lines[i].split()\n",
    "            vx+=int(a[1])\n",
    "        i+=1\n",
    "    acc+=vx0*k\n",
    "    print(vx0,k,i,acc)\n",
    "\n",
    "print(acc)"
   ]
  },
  {
   "cell_type": "code",
   "execution_count": 52,
   "id": "b8d6dfa8-3dd0-46ab-8ac3-7d8fa87a45e7",
   "metadata": {
    "tags": []
   },
   "outputs": [
    {
     "name": "stdout",
     "output_type": "stream",
     "text": [
      "(0, 21) 21\n",
      "(1, 21) 19\n",
      "(2, 20) 18\n",
      "(3, 21) 21\n",
      "(4, 21) 16\n",
      "(5, 20) 18\n",
      "13140\n"
     ]
    }
   ],
   "source": [
    "#method2-use remainder\n",
    "\n",
    "acc=0\n",
    "cc=0\n",
    "ccr=cc%40\n",
    "x=1\n",
    "\n",
    "for i in range(len(lines)):\n",
    "    \n",
    "    if re.search(r\"^noop\",lines[i]):\n",
    "        cc+=1\n",
    "        ccr=cc%40\n",
    "        if ccr==20:\n",
    "            acc+=x*((divmod(cc,40)[0])*40+20)\n",
    "            print(divmod(cc,40),x) \n",
    "    else:\n",
    "        cc+=2\n",
    "        ccr=cc%40\n",
    "        if ccr==20 or ccr==21:\n",
    "            acc+=x*((divmod(cc,40)[0])*40+20)\n",
    "            print(divmod(cc,40),x)\n",
    "        a=lines[i].split()\n",
    "        x+=int(a[1])\n",
    "    \n",
    "    \n",
    "print(acc)\n",
    "        "
   ]
  },
  {
   "cell_type": "markdown",
   "id": "0e11293c-6e23-444e-aa48-267ad5be7e2f",
   "metadata": {},
   "source": [
    "# --Part 2-- "
   ]
  },
  {
   "cell_type": "code",
   "execution_count": 58,
   "id": "88d58d42-7a62-420e-b20a-5b6206b68cbc",
   "metadata": {
    "tags": []
   },
   "outputs": [
    {
     "name": "stdout",
     "output_type": "stream",
     "text": [
      "40 ####.####..##..####.####.#....#..#.####.\n",
      "40 #....#....#..#....#.#....#....#..#.#....\n",
      "40 ###..###..#......#..###..#....####.###..\n",
      "40 #....#....#.....#...#....#....#..#.#...#\n",
      "40 #....#....#..#.#....#....#....#..#.#...#\n",
      "40 #....####..##..####.####.####.#..#.####.\n"
     ]
    }
   ],
   "source": [
    "import re\n",
    "myfile=open(\"/Users/yang/Desktop/adventofcode/cr-tube.txt\",'r')\n",
    "lines=myfile.readlines()\n",
    "\n",
    "def sprite_func(x):\n",
    "    sprite=[x-1,x,x+1]\n",
    "    return sprite\n",
    "\n",
    "def pix_func(digit,sprite):\n",
    "    if digit-1 in sprite:\n",
    "        return \"#\"\n",
    "    else:\n",
    "        return \".\"\n",
    "    \n",
    "    \n",
    "plot=[\"\" for row in range(6)]\n",
    "\n",
    "\n",
    "def plot_update(row,cc,digit):\n",
    "    if len(plot[row])==40:\n",
    "        row+=1\n",
    "        plot[row]+=digit\n",
    "        cc+=1\n",
    "        ccr=cc%40\n",
    "    else:\n",
    "        plot[row]+=digit\n",
    "        cc+=1\n",
    "        ccr=cc%40 \n",
    "    return row,cc,ccr\n",
    "           \n",
    "\n",
    "cc=1\n",
    "ccr=cc%40\n",
    "sprite=sprite_func(1)\n",
    "row=0\n",
    "x=1\n",
    "for i in range(len(lines)):\n",
    "    if re.search(r\"^noop\",lines[i]):\n",
    "        digit=pix_func(ccr,sprite)\n",
    "        row,cc,ccr = plot_update(row,cc,digit)\n",
    "        #print(cc,ccr,digit)\n",
    "    else:\n",
    "        for j in range(2):\n",
    "            digit=pix_func(ccr,sprite)\n",
    "            row,cc,ccr = plot_update(row,cc,digit)    \n",
    "            #print(cc,ccr,digit)\n",
    "            \n",
    "        x+=int(lines[i].split()[1])\n",
    "        sprite=sprite_func(x)\n",
    "    \n",
    "\n",
    "for i in plot:\n",
    "    print(len(i),i)\n"
   ]
  },
  {
   "cell_type": "raw",
   "id": "aa52d14b-d7bf-4485-9e0a-3690e8ec3a4c",
   "metadata": {
    "jupyter": {
     "source_hidden": true
    },
    "tags": []
   },
   "source": [
    "###not working\n",
    "###not working\n",
    "###not working\n",
    "\n",
    "\n",
    "import re\n",
    "myfile=open(\"/Users/yang/Desktop/adventofcode/cr-tube.txt\",'r')\n",
    "lines=myfile.readlines()\n",
    "\n",
    "plot=[]\n",
    "rowlist=[]\n",
    "for i in range(40,240,40):\n",
    "    rowlist.append(i)\n",
    "print(rowlist)\n",
    "\n",
    "def sprite_func(x):\n",
    "    sprite=[x-1,x,x+1]\n",
    "    return sprite\n",
    "\n",
    "cycle=0\n",
    "i=0\n",
    "x=1\n",
    "for k in rowlist:\n",
    "    while cycle<k:\n",
    "        sprite=sprite_func(x)\n",
    "        if re.search(r\"^noop\",lines[i]):\n",
    "            if cycles in sprite:\n",
    "                plot.append(\"#\")\n",
    "            else:\n",
    "                plot.append(\".\")\n",
    "                cycles+=1\n",
    "        else:\n",
    "            j=0\n",
    "            while j<2:\n",
    "                if cycles in sprite:\n",
    "                    plot.append(\"#\")\n",
    "                else:\n",
    "                    plot.append(\".\")\n",
    "                    cycles+=1\n",
    "                j+=1\n",
    "            \n",
    "            a=lines[i].split()\n",
    "            x+=int(a[1])\n",
    "\n",
    "    plot.append(\"\\n\")\n",
    "    \n",
    "    \n",
    "print(plot)\n",
    "\n",
    "###not working\n",
    "###not working\n",
    "###not working"
   ]
  },
  {
   "cell_type": "markdown",
   "id": "9c2b6bb5-6ab0-4711-b8d1-3edf8ee52dcc",
   "metadata": {},
   "source": [
    "### note"
   ]
  },
  {
   "cell_type": "code",
   "execution_count": 19,
   "id": "fd12ab5e-8279-4244-96b4-46b5f61035e3",
   "metadata": {},
   "outputs": [
    {
     "name": "stdout",
     "output_type": "stream",
     "text": [
      "3 5 3.7142857142857144 (3, 5)\n",
      "foobar\n"
     ]
    }
   ],
   "source": [
    "#求余数\n",
    "a = 26 // 7\n",
    "b = 26 % 7\n",
    "c = 26 / 7\n",
    "d=divmod(26, 7)\n",
    "\n",
    "print(a,b,c,d)\n",
    "\n",
    "\n",
    "#add to string\n",
    "var1 = \"foo\"\n",
    "var2 = \"bar\"\n",
    "var3 = var1 + var2\n",
    "print(var3)"
   ]
  },
  {
   "cell_type": "code",
   "execution_count": 18,
   "id": "2ed8a799-5011-445a-8c85-e2c14f75efdc",
   "metadata": {
    "tags": []
   },
   "outputs": [
    {
     "name": "stdout",
     "output_type": "stream",
     "text": [
      "['addx', '-6'] -6\n",
      "[20, 60, 100, 140, 180, 220]\n"
     ]
    }
   ],
   "source": [
    "row=\"addx -6\\n\"\n",
    "a=row.split()\n",
    "b=int(a[1])\n",
    "print(a,b)\n",
    "\n",
    "tgt=[]\n",
    "for i in range(20,221,40):\n",
    "    tgt.append(i)\n",
    "print(tgt)"
   ]
  },
  {
   "cell_type": "code",
   "execution_count": 23,
   "id": "040416de-a4e3-4174-8497-98a2da450d56",
   "metadata": {},
   "outputs": [
    {
     "name": "stdout",
     "output_type": "stream",
     "text": [
      "['1', '1', '1', '1', '1', '1']\n",
      "['1', '1#', '1', '1', '1', '1']\n"
     ]
    }
   ],
   "source": [
    "mylist=[\"1\" for i in range(6)]\n",
    "print(plot)\n",
    "mylist[1]+=\"#\"\n",
    "print(mylist)"
   ]
  },
  {
   "cell_type": "code",
   "execution_count": null,
   "id": "c0b21374-83e9-40c8-bf0a-fba397fdb304",
   "metadata": {},
   "outputs": [],
   "source": []
  }
 ],
 "metadata": {
  "kernelspec": {
   "display_name": "Python 3 (ipykernel)",
   "language": "python",
   "name": "python3"
  },
  "language_info": {
   "codemirror_mode": {
    "name": "ipython",
    "version": 3
   },
   "file_extension": ".py",
   "mimetype": "text/x-python",
   "name": "python",
   "nbconvert_exporter": "python",
   "pygments_lexer": "ipython3",
   "version": "3.10.9"
  }
 },
 "nbformat": 4,
 "nbformat_minor": 5
}
