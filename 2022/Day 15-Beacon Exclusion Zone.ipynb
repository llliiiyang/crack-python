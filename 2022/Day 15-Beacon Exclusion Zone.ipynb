{
 "cells": [
  {
   "cell_type": "markdown",
   "id": "a077e360-dabd-4211-9240-f80929557f0d",
   "metadata": {},
   "source": [
    "# --Part 1--"
   ]
  },
  {
   "cell_type": "code",
   "execution_count": 1,
   "id": "3fd8ab6f",
   "metadata": {},
   "outputs": [],
   "source": [
    "#Sensor at x=2, y=18: closest beacon is at x=-2, y=15\n"
   ]
  },
  {
   "cell_type": "markdown",
   "id": "3040c547",
   "metadata": {},
   "source": []
  },
  {
   "cell_type": "code",
   "execution_count": 2,
   "id": "05ab5c2b",
   "metadata": {},
   "outputs": [
    {
     "name": "stdout",
     "output_type": "stream",
     "text": [
      "length of pairs: 23 \n",
      "sensor:\n",
      " [[3907621, 2895218], [1701067, 3075142], [3532369, 884718], [2362427, 41763], [398408, 3688691], [1727615, 1744968], [2778183, 3611924], [2452818, 2533012], [88162, 2057063], [2985370, 2315046], [2758780, 3000106], [3501114, 3193710], [313171, 1016326], [3997998, 3576392], [84142, 102550], [3768533, 3985372], [2999744, 3998031], [3380504, 2720962], [3357940, 3730208], [1242851, 838744], [3991401, 2367688], [3292286, 2624894], [2194423, 3990859]] \n",
      "beacon:\n",
      " [[3790542, 2949630], [2275951, 3717327], [2733699, 2000000], [2999439, -958188], [2275951, 3717327], [2733699, 2000000], [2275951, 3717327], [2733699, 2000000], [-109096, 390805], [2733699, 2000000], [3279264, 2775610], [3790542, 2949630], [-109096, 390805], [3691556, 3980872], [-109096, 390805], [3691556, 3980872], [3691556, 3980872], [3279264, 2775610], [3691556, 3980872], [-109096, 390805], [3790542, 2949630], [3279264, 2775610], [2275951, 3717327]]\n"
     ]
    }
   ],
   "source": [
    "import re\n",
    "\n",
    "with open('/Users/yang/Desktop/adventofcode/sensor_beacon.txt') as file:\n",
    "    lines=file.read().splitlines()\n",
    "\n",
    "regex=r\"-?\\d+\"\n",
    "\n",
    "#create lists of sensor and beacon\n",
    "sensor_list=[]\n",
    "beacon_list=[]\n",
    "\n",
    "for line in lines:\n",
    "    inputlist=list(map(int,re.findall(regex,line)))\n",
    "    sensor_list.append(inputlist[:2])\n",
    "    beacon_list.append(inputlist[2:])\n",
    "    \n",
    "print(\"length of pairs:\",len(sensor_list),\"\\nsensor:\\n\",sensor_list,\"\\nbeacon:\\n\",beacon_list)\n"
   ]
  },
  {
   "cell_type": "code",
   "execution_count": 3,
   "id": "d3f31b7c-3031-44d9-a548-5f69449d73ff",
   "metadata": {},
   "outputs": [
    {
     "name": "stdout",
     "output_type": "stream",
     "text": [
      "hello world\n",
      "\n",
      "covered_ranges: [(1559140, 1842994), (2733699, 4331039), (180920, 615896), (721531, 2733699), (2171937, 2733699), (-1718291, 1894615), (2733699, 3237041), (249057, 377285), (604221, 1881481), (3576288, 4406514)]\n",
      "sorted_ranges[0]: (-1718291, 1894615)\n",
      "\n",
      "acc: 6124806 \n",
      "merged ranges [(-1718291, 4406514)]\n",
      "acc: 6124806 \n",
      "merged ranges [(-1718291, 4406514)]\n",
      "beacon covered: {2733699} 1\n",
      "sensor covered: set() 0\n",
      "final result: 6124805\n"
     ]
    }
   ],
   "source": [
    "#calculate the covered range of each sensor\n",
    "\n",
    "def merge_range(ranges)->list[tuple[int,int]]:\n",
    "    #sort the ranges\n",
    "    sorted_ranges = sorted(ranges)\n",
    "    print(\"sorted_ranges[0]:\",sorted_ranges[0])\n",
    "    merged_ranges=[sorted_ranges[0]]\n",
    "    \n",
    "    for current_range in sorted_ranges[1:]:\n",
    "        #print(current_range[0],merged_ranges[-1][1])\n",
    "        if current_range[0] <= merged_ranges[-1][1]+1:\n",
    "            merged_ranges[-1] = (merged_ranges[-1][0],max(current_range[1],merged_ranges[-1][1]))\n",
    "        else:\n",
    "            merged_ranges.append(current_range)\n",
    "    #calculate the total length of the merged ranges\n",
    "    acc=0\n",
    "    for current_range in merged_ranges:\n",
    "        start,end=current_range\n",
    "        acc+=end-start+1\n",
    "    print(\"\\nacc:\",acc,\"\\nmerged ranges\",merged_ranges)\n",
    "    return acc,merged_ranges  \n",
    "\n",
    "\n",
    "\n",
    "\n",
    "#make class for sensors\n",
    "class Sensor:\n",
    "    def __init__(self,pos:[int,int],beacon:[int,int]):\n",
    "        self.pos=pos\n",
    "        self.beacon=beacon\n",
    "        \n",
    "    def cal_range(self):\n",
    "        x1,y1=self.pos\n",
    "        x2,y2=self.beacon\n",
    "        self.range=abs(x1-x2)+abs(y1-y2)\n",
    "        return self.range\n",
    "    \n",
    "    #optional\n",
    "    def if_in_range(self,point):\n",
    "        x1,y1=self.pos\n",
    "        x2,y2=point\n",
    "        return abs(x1-x2)+abs(y1-y2)<=self.range\n",
    "    \n",
    "    def cal_covered_points(self,row:int) -> list[tuple[int,int]]:\n",
    "        x1,y1=self.pos\n",
    "        y2=row\n",
    "        x_dif=self.range-abs(y2-y1)\n",
    "        \n",
    "        # print(\"\\nx_dif:\",x_dif)\n",
    "        # print(\"y_dif:\",abs(y2-y1))\n",
    "\n",
    "        if x_dif>=0:\n",
    "            return (x1-x_dif,x1+x_dif)\n",
    "        else:\n",
    "            return None\n",
    "\n",
    "\n",
    "print(\"hello world\")\n",
    "\n",
    "\n",
    "#create sensor objects  \n",
    "sensor_objects=[]\n",
    "for i in range(len(sensor_list)):\n",
    "    sensor_objects.append(Sensor(sensor_list[i],beacon_list[i]))\n",
    "\n",
    "\n",
    "#decide how many points on the certain row are covered by the sensors\n",
    "#input the row number\n",
    "target_row=2000000\n",
    "\n",
    "sensor_range=[]\n",
    "covered_ranges=[]\n",
    "for sensor in sensor_objects:\n",
    "    sensor_range.append(sensor.cal_range())\n",
    "    current_range=sensor.cal_covered_points(target_row)\n",
    "    \n",
    "    # print(\"\\n\",sensor.pos,sensor.beacon)\n",
    "    # print(\"current sensor search dist:\",sensor_range[-1])\n",
    "    # print(\"current range:\",current_range)\n",
    "    covered_ranges.append(current_range)\n",
    "\n",
    "#get rid of the None values\n",
    "covered_ranges=[x for x in covered_ranges if x is not None]\n",
    "#covered_ranges = list(filter(lambda x: x is not None, covered_ranges))\n",
    "print(\"\\ncovered_ranges:\",covered_ranges)\n",
    "\n",
    "acc,merged_ranges=merge_range(covered_ranges)\n",
    "print(\"acc:\",acc,\"\\nmerged ranges\",merged_ranges)\n",
    "    \n",
    "#get rid of positions that a beacon has covered\n",
    "beacon_covered=[]\n",
    "for beacon in beacon_list:\n",
    "    x,y=beacon\n",
    "    if y == target_row:\n",
    "        if merged_ranges[0][0] <= x <= merged_ranges[0][1]:\n",
    "            beacon_covered.append(x)\n",
    "\n",
    "sensor_covered=[]\n",
    "for sensor in sensor_list:\n",
    "    x,y=sensor\n",
    "    if y == target_row:\n",
    "        if merged_ranges[0][0] <= x <= merged_ranges[0][1]:\n",
    "            sensor_covered.append(x)\n",
    "\n",
    "\n",
    "beacon_covered=set(beacon_covered)\n",
    "sensor_covered=set(sensor_covered)\n",
    "print(\"beacon covered:\",beacon_covered, len(beacon_covered))\n",
    "print(\"sensor covered:\",sensor_covered, len(sensor_covered))\n",
    "            \n",
    "print(\"final result:\",acc-len(beacon_covered)-len(sensor_covered))\n",
    "    "
   ]
  },
  {
   "attachments": {},
   "cell_type": "markdown",
   "id": "48c15abb",
   "metadata": {},
   "source": [
    "# --Part 2--"
   ]
  },
  {
   "cell_type": "code",
   "execution_count": 18,
   "id": "6790de71",
   "metadata": {},
   "outputs": [
    {
     "name": "stdout",
     "output_type": "stream",
     "text": [
      "length of pairs: 23 \n",
      "sensor:\n",
      " [[3907621, 2895218], [1701067, 3075142], [3532369, 884718], [2362427, 41763], [398408, 3688691], [1727615, 1744968], [2778183, 3611924], [2452818, 2533012], [88162, 2057063], [2985370, 2315046], [2758780, 3000106], [3501114, 3193710], [313171, 1016326], [3997998, 3576392], [84142, 102550], [3768533, 3985372], [2999744, 3998031], [3380504, 2720962], [3357940, 3730208], [1242851, 838744], [3991401, 2367688], [3292286, 2624894], [2194423, 3990859]] \n",
      "beacon:\n",
      " [[3790542, 2949630], [2275951, 3717327], [2733699, 2000000], [2999439, -958188], [2275951, 3717327], [2733699, 2000000], [2275951, 3717327], [2733699, 2000000], [-109096, 390805], [2733699, 2000000], [3279264, 2775610], [3790542, 2949630], [-109096, 390805], [3691556, 3980872], [-109096, 390805], [3691556, 3980872], [3691556, 3980872], [3279264, 2775610], [3691556, 3980872], [-109096, 390805], [3790542, 2949630], [3279264, 2775610], [2275951, 3717327]]\n"
     ]
    }
   ],
   "source": [
    "import re\n",
    "\n",
    "with open('/Users/yang/Desktop/adventofcode/sensor_beacon.txt') as file:\n",
    "    lines=file.read().splitlines()\n",
    "\n",
    "regex=r\"-?\\d+\"\n",
    "\n",
    "#create lists of sensor and beacon\n",
    "sensor_list=[]\n",
    "beacon_list=[]\n",
    "\n",
    "for line in lines:\n",
    "    inputlist=list(map(int,re.findall(regex,line)))\n",
    "    sensor_list.append(inputlist[:2])\n",
    "    beacon_list.append(inputlist[2:])\n",
    "    \n",
    "print(\"length of pairs:\",len(sensor_list),\"\\nsensor:\\n\",sensor_list,\"\\nbeacon:\\n\",beacon_list)\n",
    "\n",
    "\n",
    "#calculate the covered range of each sensor\n",
    "def merge_range2(ranges):\n",
    "    sorted_ranges = sorted(ranges)\n",
    "    merged_ranges=[sorted_ranges[0]]\n",
    "    \n",
    "    for current_range in sorted_ranges[1:]:\n",
    "        #print(current_range[0],merged_ranges[-1][1])\n",
    "        if current_range[0] <= merged_ranges[-1][1]+1:\n",
    "            merged_ranges[-1] = (merged_ranges[-1][0],max(current_range[1],merged_ranges[-1][1]))\n",
    "        else:\n",
    "            merged_ranges.append(current_range)\n",
    "    \n",
    "    #print(\"\\nmerged ranges\",merged_ranges)\n",
    "    return merged_ranges   "
   ]
  },
  {
   "cell_type": "code",
   "execution_count": 19,
   "id": "7a560e11",
   "metadata": {},
   "outputs": [
    {
     "name": "stdout",
     "output_type": "stream",
     "text": [
      "hello world\n",
      "possible points: [(3138881, 3364986)]\n"
     ]
    }
   ],
   "source": [
    "#make class for sensors\n",
    "class Sensor:\n",
    "    def __init__(self,pos:[int,int],beacon:[int,int]):\n",
    "        self.pos=pos\n",
    "        self.beacon=beacon\n",
    "        \n",
    "    def cal_range(self):\n",
    "        x1,y1=self.pos\n",
    "        x2,y2=self.beacon\n",
    "        self.range=abs(x1-x2)+abs(y1-y2)\n",
    "        return self.range\n",
    "    \n",
    "    \n",
    "    def cal_covered_points(self,row_dict:dict):\n",
    "        x1,y1=self.pos\n",
    "        #calculate the range of the sensor\n",
    "        self.range=self.cal_range()\n",
    "        #loop through the rows\n",
    "        for y in range(y1-self.range,y1+self.range+1):\n",
    "            if y in row_dict:\n",
    "                x_dif=self.range-abs(y-y1)\n",
    "                if x_dif>=0:\n",
    "                    row_dict[y].append((x1-x_dif,x1+x_dif))\n",
    "        return row_dict\n",
    "\n",
    "print(\"hello world\")\n",
    "\n",
    "#create empty dictionary to store the covered points\n",
    "#keys range from 0 to 4000000\n",
    "row_dict={}\n",
    "limit=4000000\n",
    "\n",
    "for i in range(limit+1):\n",
    "    row_dict[i]=[]\n",
    "\n",
    "#create sensor objects\n",
    "sensor_objects=[]\n",
    "for i in range(len(sensor_list)):\n",
    "    sensor_objects.append(Sensor(sensor_list[i],beacon_list[i]))\n",
    "    #update the row_dict\n",
    "    row_dict=sensor_objects[-1].cal_covered_points(row_dict)\n",
    "\n",
    "#decide how many points on the certain row are covered by the sensors\n",
    "#loop through keys in row_dict\n",
    "\n",
    "possible_points=[]\n",
    "for key in row_dict:\n",
    "    if row_dict[key]:\n",
    "        merged_ranges=merge_range2(row_dict[key])\n",
    "        #print(\"merged ranges:\",key,\"\\n\",merged_ranges)\n",
    "        #check if any number between 0 to 4000000 is not covered\n",
    "\n",
    "\n",
    "        for i in range(len(merged_ranges)):\n",
    "            bg=merged_ranges[i][0]\n",
    "            ed=merged_ranges[i][1]\n",
    "            if 0 < bg < limit:\n",
    "                possible_points.append((bg-1, key))\n",
    "                break\n",
    "            if 0 < ed < limit:\n",
    "                possible_points.append((ed+1, key))\n",
    "                break\n",
    "\n",
    "print(\"possible points:\",possible_points)\n",
<<<<<<< HEAD
    "\n",
    "#consider adding a tqdm to show the progress"
=======
    "\n"
>>>>>>> ce29f4439e499acecbb61796157d9f256e71ccaa
   ]
  },
  {
   "cell_type": "code",
   "execution_count": 20,
   "id": "bcc06c94",
   "metadata": {},
   "outputs": [
    {
     "name": "stdout",
     "output_type": "stream",
     "text": [
      "12555527364986\n"
     ]
    }
   ],
   "source": [
    "possible_point=possible_points[0]\n",
    "x,y=possible_point[0],possible_point[1]\n",
    "print(x*4000000+y)"
   ]
  },
  {
   "attachments": {},
   "cell_type": "markdown",
   "id": "26a7f127",
   "metadata": {},
   "source": [
    "note"
   ]
  },
  {
   "cell_type": "code",
   "execution_count": null,
   "id": "457fe386",
   "metadata": {},
   "outputs": [],
   "source": [
    "#archive previous code\n",
    "\n",
    "\"\"\"\n",
    "def split_list(mylist, size=1):\n",
    "    length = len(mylist)//size\n",
    "    arrs = []\n",
    "    while len(mylist) > size:\n",
    "        cluster = mylist[:size]\n",
    "        arrs.append(cluster)\n",
    "        mylist=mylist[size:]\n",
    "    arrs.append(mylist)\n",
    "    return arrs\n",
    "\"\"\"\n",
    "\n",
    "\"\"\"\n",
    "\n",
    "def cal_covered_pos(sensor_list,beacon_list,ty=0):\n",
    "    covered_pos=[]\n",
    "    for i in range(len(sensor_list)):\n",
    "        dist=abs(sensor_list[i][0]-beacon_list[i][0])+abs(sensor_list[i][1]-beacon_list[i][1])\n",
    "        print(i,dist)\n",
    "        \n",
    "        y_dif=abs(sensor_list[i][1]-ty)\n",
    "        x_dif=dist-y_dif\n",
    "        print(i,x_dif,y_dif)\n",
    "        \n",
    "        if x_dif>0:\n",
    "            x_min=sensor_list[i][0]-x_dif\n",
    "            x_max=sensor_list[i][0]+x_dif\n",
    "            print(sensor_list[i],x_min,x_max)\n",
    "            \n",
    "            covered_pos.append((x_min,x_max))\n",
    "            \"\"\"\n",
    "            \"\"\"\n",
    "            if \"xmin\" in covered_pos:\n",
    "                x_min=min(x_min,covered_pos[\"xmin\"])\n",
    "                covered_pos[\"xmin\"]=x_min\n",
    "                x_max=max(x_max,covered_pos[\"xmax\"])\n",
    "                covered_pos[\"xmax\"]=x_max\n",
    "            else:\n",
    "                \n",
    "                covered_pos[\"xmin\"]=sensor_list[i][0]-x_dif\n",
    "                covered_pos[\"xmax\"]=sensor_list[i][0]+x_dif\n",
    "            \"\"\"\n",
    "            \"\"\"\n",
    "    #print(\"covered_pos:\",covered_pos)\n",
    "   \n",
    "    return covered_pos\n",
    "\n",
    "\n",
    "def del_SBcovered (sensor_list,beacon_list,covered_range,ty=0):\n",
    "    SBcovered=[]\n",
    "    for i in range(len(sensor_list)):\n",
    "        \n",
    "        if beacon_list[i][1]==ty:\n",
    "            for rg in covered_range:\n",
    "                start,end = rg\n",
    "                if start<=beacon_list[i][0]<=end:\n",
    "                    print(beacon_list[i])\n",
    "                    SBcovered.append(beacon_list[i][0])\n",
    "                    break\n",
    "    SBcovered_num=len(set(SBcovered))\n",
    "    return SBcovered_num\n",
    " \n",
    "\n",
    "\n",
    "covered_pos = cal_covered_pos(sensor_list,beacon_list,10)\n",
    "#covered_pos = cal_covered_pos(sensor_list,beacon_list,2000000)\n",
    "\n",
    "acc,covered_range=merge_range(covered_pos)\n",
    "\n",
    "print(\"\\n acc:\",acc,\"\\n covered_range:\",covered_range, \"\\n covered_pos:\",covered_pos)\n",
    "SBcovered_num = del_SBcovered(sensor_list,beacon_list,covered_range, 10)\n",
    "#SBcovered_num = del_SBcovered(sensor_list,beacon_list,covered_range, 2000000)\n",
    "\n",
    "print(\"del:\",SBcovered_num)\n",
    "    \n",
    "print(acc-SBcovered_num)\n",
    "\"\"\""
   ]
  },
  {
   "cell_type": "code",
   "execution_count": 1,
   "id": "6d13f4b6",
   "metadata": {},
   "outputs": [],
   "source": [
    "def main():\n",
    "    #print 10 numbers\n",
    "    for i in range(10):\n",
    "        print(i)\n",
    "        #print(i, end=' ')  #print 10 numbers in one line\n",
    "        #print(i, end=',')  #print 10 numbers in one line, separated by comma\n",
    "    print()  #print a new line"
   ]
  },
  {
   "cell_type": "code",
   "execution_count": 100,
   "id": "7c087af0-3c8f-442a-b7b0-6ba9731b6563",
   "metadata": {},
   "outputs": [
    {
     "name": "stdout",
     "output_type": "stream",
     "text": [
      "{(1, 2), (3, 4)}\n"
     ]
    }
   ],
   "source": [
    "mylist=[(3,4),(1,2),(1,2)]\n",
    "myset=set(mylist)\n",
    "print(myset)\n",
    "\n",
    "#not working for mylist=[[3,4],[1,2],[1,2]]\n",
    "#TypeError: unhashable type: 'list'\n",
    "    "
   ]
  },
  {
   "cell_type": "markdown",
   "id": "bd19c998-c13c-48e4-b036-4e617e63de73",
   "metadata": {},
   "source": [
    "### note "
   ]
  },
  {
   "cell_type": "code",
   "execution_count": 15,
   "id": "05d6eff7-c1d4-443b-a42a-af76bd47a5b4",
   "metadata": {},
   "outputs": [
    {
     "name": "stdout",
     "output_type": "stream",
     "text": [
      "[[0], [1], [2], [3], [4], [5], [6], [7], [8], [9]]\n",
      "[[0, 1], [2, 3], [4, 5], [6, 7], [8, 9]]\n",
      "[[0, 1, 2, 3, 4, 5, 6, 7], [8, 9]]\n"
     ]
    }
   ],
   "source": [
    "def split_list(mylist, size=1):\n",
    "    length = len(mylist)//size\n",
    "    arrs = []\n",
    "    while len(mylist) > size:\n",
    "        cluster = mylist[:size]\n",
    "        arrs.append(cluster)\n",
    "        mylist=mylist[size:]\n",
    "    arrs.append(mylist)\n",
    "    return arrs\n",
    "    \n",
    "\n",
    "A = [0,1,2,3,4,5,6,7,8,9]\n",
    "\n",
    "print (split_list(A, 1))\n",
    "print (split_list(A, 2))\n",
    "print (split_list(A, 8))"
   ]
  },
  {
   "cell_type": "code",
   "execution_count": 21,
   "id": "94e1e109-baf0-4697-94c4-486e5996bba5",
   "metadata": {},
   "outputs": [
    {
     "name": "stdout",
     "output_type": "stream",
     "text": [
      "[ 0  1  2  3  4  5  6  7  8  9 10 11 12 13 14 15 16 17 18 19 20 21 22 23\n",
      " 24] [array([0, 1, 2, 3, 4]), array([5, 6, 7, 8]), array([ 9, 10, 11, 12]), array([13, 14, 15, 16]), array([17, 18, 19, 20]), array([21, 22, 23, 24])]\n"
     ]
    }
   ],
   "source": [
    "import numpy\n",
    "x = numpy.arange(25)\n",
    "l = numpy.array_split(x,6);\n",
    "print(x,l)"
   ]
  },
  {
   "cell_type": "code",
   "execution_count": 81,
   "id": "591c3bb5-83c0-478b-9e6f-ec45addd2d66",
   "metadata": {},
   "outputs": [
    {
     "name": "stdout",
     "output_type": "stream",
     "text": [
      "3 5\n"
     ]
    }
   ],
   "source": [
    "test=(3,5)\n",
    "a,b=test\n",
    "print(a,b)"
   ]
  },
  {
   "cell_type": "code",
   "execution_count": 5,
   "id": "60993cde-a629-4898-90d4-a0bfa4e25884",
   "metadata": {},
   "outputs": [
    {
     "name": "stdout",
     "output_type": "stream",
     "text": [
      "acc: 36 \n",
      "merged ranges [(-4, 30), (32, 32)]\n"
     ]
    }
   ],
   "source": [
    "#create function to merge ranges\n",
    "ranges = [(2, 22), (-4, 20), (23, 30),(32,32)]\n",
    "#ranges=[(12, 12), (2, 14), (2, 2), (-2, 2), (16, 24), (14, 18)]\n",
    "# ranges=[(1559140, 1842994), (2733699, 4331039), (180920, 615896), (721531, 2733699),\\\n",
    "#         (2171937, 2733699), (-1541967, 1718291), (2733699, 3237041), (822413, 1663289), (3576288, 4406514)]\n",
    "\n",
    "def merge_range(ranges):\n",
    "    sorted_ranges = sorted(ranges)\n",
    "    merged_ranges=[sorted_ranges[0]]\n",
    "    \n",
    "    for current_range in sorted_ranges[1:]:\n",
    "        #print(current_range[0],merged_ranges[-1][1])\n",
    "        if current_range[0] <= merged_ranges[-1][1]+1:\n",
    "            merged_ranges[-1] = (merged_ranges[-1][0],max(current_range[1],merged_ranges[-1][1]))\n",
    "        else:\n",
    "            merged_ranges.append(current_range)\n",
    "    #calculate the total length of the merged ranges\n",
    "    acc=0\n",
    "    for current_range in merged_ranges:\n",
    "        start,end=current_range\n",
    "        acc+=end-start+1\n",
    "    print(\"acc:\",acc,\"\\nmerged ranges\",merged_ranges)\n",
    "    return acc,merged_ranges    \n",
    "\n",
    "\n",
    "acc,merged_ranges=merge_range(ranges)\n",
    "\n",
    "#print(\"acc:\",acc,\"\\nmerged ranges\",merged_ranges)"
   ]
  },
  {
   "cell_type": "code",
   "execution_count": 38,
   "id": "768855a7-0951-4e37-b508-0edb66e72a53",
   "metadata": {},
   "outputs": [
    {
     "name": "stdout",
     "output_type": "stream",
     "text": [
      "[(-1541967, 4647651)]\n",
      "6189619\n"
     ]
    }
   ],
   "source": [
    "\n",
    "ranges = [(1559140, 1842994), (2417087, 4647651), (180920, 615896), (721531, 2733699), (2171937, 2733699), (-1541967, 1718291), (2733699, 3237041), (822413, 1663289), (3576288, 4406514)]\n",
    "# Sort the ranges by their start values\n",
    "sorted_ranges = sorted(ranges)\n",
    "\n",
    "# Initialize the merged ranges with the first range\n",
    "merged_ranges = [sorted_ranges[0]]\n",
    "\n",
    "# Iterate through the remaining ranges and merge them if necessary\n",
    "for current_range in sorted_ranges[1:]:\n",
    "    # If the current range overlaps with the last merged range, merge them\n",
    "    if current_range[0] <= merged_ranges[-1][1]:\n",
    "        merged_ranges[-1] = (merged_ranges[-1][0], max(current_range[1], merged_ranges[-1][1]))\n",
    "    else:\n",
    "        # Otherwise, add the current range to the merged ranges\n",
    "        merged_ranges.append(current_range)\n",
    "\n",
    "print(merged_ranges)\n",
    "acc=merged_ranges[0][1]-merged_ranges[0][0]+1\n",
    "print(acc)"
   ]
  },
  {
   "cell_type": "code",
   "execution_count": 101,
   "id": "d38f1763-bfea-495a-bfe3-76a47cc3f633",
   "metadata": {},
   "outputs": [
    {
     "data": {
      "text/plain": [
       "{2, 3, 4, 5, 6}"
      ]
     },
     "execution_count": 101,
     "metadata": {},
     "output_type": "execute_result"
    }
   ],
   "source": [
    "{*range(2, 5), *range(3, 7)}"
   ]
  },
  {
   "cell_type": "code",
   "execution_count": 6,
   "id": "12eb33c1-54f9-4d07-a7d4-47793bbc2806",
   "metadata": {},
   "outputs": [
    {
     "name": "stdout",
     "output_type": "stream",
     "text": [
      "4\n"
     ]
    }
   ],
   "source": [
    "a=(3,7)\n",
    "range(a[0],a[1])\n",
    "print(len(range(a[0],a[1])))"
   ]
  },
  {
   "cell_type": "code",
   "execution_count": 26,
   "id": "381d5702-c835-4297-b89b-73e4a04a07ab",
   "metadata": {},
   "outputs": [
    {
     "name": "stdout",
     "output_type": "stream",
     "text": [
      "False\n",
      "[8]\n",
      "<class 'list'> <class 'types.GenericAlias'>\n",
      "(8, 9)\n"
     ]
    }
   ],
   "source": [
    "print(5>=6)\n",
    "\n",
    "x=[8]\n",
    "y=tuple[x]\n",
    "print(x)\n",
    "print(type(x),type(y))\n",
    "\n",
    "x=(8,9)\n",
    "print(x)"
   ]
  }
 ],
 "metadata": {
  "kernelspec": {
   "display_name": "Python 3 (ipykernel)",
   "language": "python",
   "name": "python3"
  },
  "language_info": {
   "codemirror_mode": {
    "name": "ipython",
    "version": 3
   },
   "file_extension": ".py",
   "mimetype": "text/x-python",
   "name": "python",
   "nbconvert_exporter": "python",
   "pygments_lexer": "ipython3",
   "version": "3.10.9"
  }
 },
 "nbformat": 4,
 "nbformat_minor": 5
}
