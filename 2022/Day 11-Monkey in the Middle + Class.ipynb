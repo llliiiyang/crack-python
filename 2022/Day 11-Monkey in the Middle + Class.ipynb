{
 "cells": [
  {
   "cell_type": "markdown",
   "id": "332767c0-b8a5-4556-83d2-53d05faaa992",
   "metadata": {},
   "source": [
    "# --Part 1-- "
   ]
  },
  {
   "cell_type": "code",
   "execution_count": 11,
   "id": "0d6f3361-cdc6-40bc-b990-73ba27925855",
   "metadata": {
    "tags": []
   },
   "outputs": [
    {
     "name": "stdout",
     "output_type": "stream",
     "text": [
      "[266, 144, 148, 11, 145, 132, 274, 142]\n",
      "72884\n"
     ]
    }
   ],
   "source": [
    "import operator\n",
    "ops = {\n",
    "    \"+\": operator.add,\n",
    "    \"-\": operator.sub,\n",
    "    \"*\": operator.mul,\n",
    "    \"//\": operator.floordiv,\n",
    "    \"**\": operator.pow\n",
    "} \n",
    "\n",
    "class Monkey:\n",
    "    def __init__(self, name, items, op_act,op_value, test, target, inspected):\n",
    "        self.name=name\n",
    "        self.items=items\n",
    "        self.op_act=op_act\n",
    "        self.op_value=op_value\n",
    "        self.test=test\n",
    "        self.target=target\n",
    "        self.inspected=inspected\n",
    "        \n",
    "    def operate(self):\n",
    "        op_func = ops[self.op_act]\n",
    "        i=0\n",
    "        for item in self.items:\n",
    "            new_item=op_func(item,self.op_value)\n",
    "            new_item=new_item // 3\n",
    "            self.items[i]=new_item\n",
    "            i+=1  \n",
    "            self.inspected+=1\n",
    "        #print(self.name,self.items)\n",
    "        return self.items,self.inspected\n",
    "        \n",
    "    def get_item(self, items_got):\n",
    "        self.items.append(items_got)\n",
    "    \n",
    "    \n",
    "    def throw_item(self,monkeys_dict):\n",
    "        self.operate()\n",
    "        i=0\n",
    "        while self.items:\n",
    "            if self.items[0] % self.test ==0:\n",
    "                #avoid using global\n",
    "                monkeys_dict[self.target[0]].get_item(self.items.pop(0))\n",
    "                #print (\"moved\",monkeys_dict[self.target[0]].name,monkeys_dict[self.target[0]].items)\n",
    "            else:\n",
    "               \n",
    "                monkeys_dict[self.target[1]].get_item(self.items.pop(0))\n",
    "                #print (\"moved\",monkeys_dict[self.target[1]].name,monkeys_dict[self.target[1]].items)\n",
    "            \n",
    "            #print(item,self.items)\n",
    "            \n",
    "            \n",
    "monkeys={\n",
    "    0:Monkey(\"0\",[89, 95, 92, 64, 87, 68],\"*\",11,2,(7,4),0),\n",
    "    1:Monkey(\"1\",[87, 67],\"+\",1,13,(3,6),0),\n",
    "    2:Monkey(\"2\",[95, 79, 92, 82, 60],\"+\",6,3,(1,6),0),\n",
    "    3:Monkey(\"3\",[67, 97, 56],\"**\",2,17,(7,0),0),\n",
    "    4:Monkey(\"4\",[80, 68, 87, 94, 61, 59, 50, 68],\"*\",7,19,(5,2),0),\n",
    "    5:Monkey(\"5\",[73, 51, 76, 59],\"+\",8,7,(2,1),0),\n",
    "    6:Monkey(\"6\",[92],\"+\",5,11,(3,0),0),\n",
    "    7:Monkey(\"7\",[99, 76, 78, 76, 79, 90, 89],\"+\",7,5,(4,5),0),\n",
    "}\n",
    "\n",
    "monkeys_test={\n",
    "    0:Monkey(\"0\",[79,98],\"*\",19,23,(2,3),0),\n",
    "    1:Monkey(\"1\",[54, 65, 75, 74],\"+\",6,19,(2,0),0),\n",
    "    2:Monkey(\"2\",[79, 60, 97],\"**\",2,13,(1,3),0),\n",
    "    3:Monkey(\"3\",[74],\"+\",3,17,(0,1),0)\n",
    "}\n",
    "    \n",
    "\n",
    "monkeys_list = list(monkeys.keys())\n",
    "monkeys_list_test=list(monkeys_test.keys())\n",
    "\n",
    "for k in range(20):\n",
    "    for i in range(len(monkeys_list)):\n",
    "        monkeys[i].throw_item(monkeys)\n",
    "    #if k%10==0:\n",
    "     #   for i in monkeys:\n",
    "      #      print(k,monkeys[i].items)\n",
    "   # for i in range(len(monkeys_list)):\n",
    "        #print(monkeys[i].name,monkeys[i].items,monkeys[i].inspected)\n",
    "\n",
    "inspected_list=[]\n",
    "\n",
    "for i in range(len(monkeys_list)):\n",
    "    inspected_list.append(monkeys[i].inspected)\n",
    "    \n",
    "    \n",
    "print(inspected_list)\n",
    "inspected_list.sort()\n",
    "print(inspected_list[-1]*inspected_list[-2])"
   ]
  },
  {
   "cell_type": "markdown",
   "id": "cd8add75-e590-4797-8738-85620cc7a3d2",
   "metadata": {},
   "source": [
    "# --Part 2-- "
   ]
  },
  {
   "cell_type": "markdown",
   "id": "c0b5c5ef-a731-48cd-9cbb-3e9581a414e6",
   "metadata": {},
   "source": [
    "### test success "
   ]
  },
  {
   "cell_type": "code",
   "execution_count": 32,
   "id": "c8bdf046-fd54-487f-89f4-aab961fd5201",
   "metadata": {
    "tags": []
   },
   "outputs": [
    {
     "name": "stdout",
     "output_type": "stream",
     "text": [
      "2 13\n",
      "26 3\n",
      "78 17\n",
      "1326 19\n",
      "25194 7\n",
      "176358 11\n",
      "1939938 5\n",
      "lcd: 9699690\n",
      "[123733, 112466, 101233, 11268, 112470, 22524, 123741, 11285]\n",
      "15310845153\n"
     ]
    }
   ],
   "source": [
    "import operator\n",
    "import math\n",
    "\n",
    "ops = {\n",
    "    \"+\": operator.add,\n",
    "    \"-\": operator.sub,\n",
    "    \"*\": operator.mul,\n",
    "    \"//\": operator.floordiv,\n",
    "    \"**\": operator.pow\n",
    "} \n",
    "\n",
    "   \n",
    "    \n",
    "class Monkey2:\n",
    "    def __init__(self, name, items, op_act,op_value, test, target, inspected):\n",
    "        self.name=name\n",
    "        self.items=items\n",
    "        self.op_act=op_act\n",
    "        self.op_value=op_value\n",
    "        self.test=test\n",
    "        self.target=target\n",
    "        self.inspected=inspected\n",
    "        \n",
    "        \n",
    "    def find_lcd(self,monkeys_dict):  #########new function\n",
    "        lcd=monkeys_dict[0].test\n",
    "        for i in range(1,len(monkeys_dict)):\n",
    "            num=monkeys_dict[i].test\n",
    "            print(lcd,num)\n",
    "            lcd = lcd*num // math.gcd(lcd, num)\n",
    "            \n",
    "        return lcd\n",
    "\n",
    "    \n",
    "    def operate(self,my_lcd):\n",
    "        op_func = ops[self.op_act]\n",
    "        i=0\n",
    "        for item in self.items:\n",
    "            new_item=op_func(item,self.op_value)\n",
    "            new_item=new_item % my_lcd ########added operation\n",
    "            self.items[i]=new_item\n",
    "            i+=1  \n",
    "            self.inspected+=1\n",
    "        #print(self.name,self.items)\n",
    "        return self.items,self.inspected\n",
    "    \n",
    "    \n",
    "        \n",
    "    def get_item(self, items_got):\n",
    "        self.items.append(items_got)\n",
    "    \n",
    "    \n",
    "    def throw_item(self,monkeys_dict,my_lcd):\n",
    "        self.operate(my_lcd)\n",
    "        i=0\n",
    "        while self.items:\n",
    "            if self.items[0] % self.test ==0:\n",
    "                #avoid using global\n",
    "                monkeys_dict[self.target[0]].get_item(self.items.pop(0))\n",
    "                #print (\"moved\",monkeys_dict[self.target[0]].name,monkeys_dict[self.target[0]].items)\n",
    "            else:\n",
    "               \n",
    "                monkeys_dict[self.target[1]].get_item(self.items.pop(0))\n",
    "                #print (\"moved\",monkeys_dict[self.target[1]].name,monkeys_dict[self.target[1]].items)\n",
    "            \n",
    "            #print(item,self.items)\n",
    "            \n",
    "            \n",
    "monkeys={\n",
    "    0:Monkey2(\"0\",[89, 95, 92, 64, 87, 68],\"*\",11,2,(7,4),0),\n",
    "    1:Monkey2(\"1\",[87, 67],\"+\",1,13,(3,6),0),\n",
    "    2:Monkey2(\"2\",[95, 79, 92, 82, 60],\"+\",6,3,(1,6),0),\n",
    "    3:Monkey2(\"3\",[67, 97, 56],\"**\",2,17,(7,0),0),\n",
    "    4:Monkey2(\"4\",[80, 68, 87, 94, 61, 59, 50, 68],\"*\",7,19,(5,2),0),\n",
    "    5:Monkey2(\"5\",[73, 51, 76, 59],\"+\",8,7,(2,1),0),\n",
    "    6:Monkey2(\"6\",[92],\"+\",5,11,(3,0),0),\n",
    "    7:Monkey2(\"7\",[99, 76, 78, 76, 79, 90, 89],\"+\",7,5,(4,5),0),\n",
    "}\n",
    "\n",
    "\n",
    "monkeys_list = list(monkeys.keys())\n",
    "\n",
    "lcd=monkeys[0].find_lcd(monkeys)  ###try to calculate only once, instead of everytime operate() is called\n",
    "print(\"lcd:\",lcd)\n",
    "\n",
    "for k in range(10000):\n",
    "    for i in range(len(monkeys_list)):\n",
    "        monkeys[i].throw_item(monkeys,lcd)\n",
    "    #if k%10==0:\n",
    "     #   print(k, \"rounds\")\n",
    "    #for i in range(len(monkeys_list)):\n",
    "     #   print(monkeys[i].name,monkeys[i].items,monkeys[i].inspected)\n",
    "\n",
    "inspected_list=[]\n",
    "\n",
    "for i in range(len(monkeys_list)):\n",
    "    inspected_list.append(monkeys[i].inspected)\n",
    "\n",
    "print(inspected_list)\n",
    "inspected_list.sort()\n",
    "print(inspected_list[-1]*inspected_list[-2])"
   ]
  },
  {
   "cell_type": "markdown",
   "id": "c92b743f-2686-4674-a2f6-51fa04885482",
   "metadata": {},
   "source": [
    "### test success "
   ]
  },
  {
   "cell_type": "code",
   "execution_count": 30,
   "id": "ab3e76d9-5695-4ae4-ab8d-9beafa31274a",
   "metadata": {},
   "outputs": [
    {
     "name": "stdout",
     "output_type": "stream",
     "text": [
      "23 19\n",
      "437 13\n",
      "5681 17\n",
      "lcd: 96577\n",
      "[15638, 14358, 587, 15593]\n",
      "243843334\n"
     ]
    }
   ],
   "source": [
    "import operator\n",
    "import math\n",
    "\n",
    "ops = {\n",
    "    \"+\": operator.add,\n",
    "    \"-\": operator.sub,\n",
    "    \"*\": operator.mul,\n",
    "    \"//\": operator.floordiv,\n",
    "    \"**\": operator.pow\n",
    "} \n",
    "\n",
    "   \n",
    "    \n",
    "class Monkey2:\n",
    "    def __init__(self, name, items, op_act,op_value, test, target, inspected):\n",
    "        self.name=name\n",
    "        self.items=items\n",
    "        self.op_act=op_act\n",
    "        self.op_value=op_value\n",
    "        self.test=test\n",
    "        self.target=target\n",
    "        self.inspected=inspected\n",
    "        \n",
    "        \n",
    "    def find_lcd(self,monkeys_dict):  #########new function\n",
    "        lcd=monkeys_dict[0].test\n",
    "        for i in range(1,len(monkeys_dict)):\n",
    "            num=monkeys_dict[i].test\n",
    "            print(lcd,num)\n",
    "            lcd = lcd*num // math.gcd(lcd, num)\n",
    "            \n",
    "        return lcd\n",
    "\n",
    "    \n",
    "    def operate(self,my_lcd):\n",
    "        op_func = ops[self.op_act]\n",
    "        i=0\n",
    "        for item in self.items:\n",
    "            new_item=op_func(item,self.op_value)\n",
    "            new_item=new_item % my_lcd ########added operation\n",
    "            self.items[i]=new_item\n",
    "            i+=1  \n",
    "            self.inspected+=1\n",
    "        #print(self.name,self.items)\n",
    "        return self.items,self.inspected\n",
    "    \n",
    "    \n",
    "        \n",
    "    def get_item(self, items_got):\n",
    "        self.items.append(items_got)\n",
    "    \n",
    "    \n",
    "    def throw_item(self,monkeys_dict,my_lcd):\n",
    "        self.operate(my_lcd)\n",
    "        i=0\n",
    "        while self.items:\n",
    "            if self.items[0] % self.test ==0:\n",
    "                #avoid using global\n",
    "                monkeys_dict[self.target[0]].get_item(self.items.pop(0))\n",
    "                #print (\"moved\",monkeys_dict[self.target[0]].name,monkeys_dict[self.target[0]].items)\n",
    "            else:\n",
    "               \n",
    "                monkeys_dict[self.target[1]].get_item(self.items.pop(0))\n",
    "                #print (\"moved\",monkeys_dict[self.target[1]].name,monkeys_dict[self.target[1]].items)\n",
    "            \n",
    "            #print(item,self.items)\n",
    "            \n",
    "monkeys_test={\n",
    "    0:Monkey2(\"0\",[79,98],\"*\",19,23,(2,3),0),\n",
    "    1:Monkey2(\"1\",[54, 65, 75, 74],\"+\",6,19,(2,0),0),\n",
    "    2:Monkey2(\"2\",[79, 60, 97],\"**\",2,13,(1,3),0),\n",
    "    3:Monkey2(\"3\",[74],\"+\",3,17,(0,1),0)\n",
    "}\n",
    "\n",
    "\n",
    "monkeys_list_test=list(monkeys_test.keys())\n",
    "\n",
    "lcd=monkeys_test[0].find_lcd(monkeys_test)\n",
    "print(\"lcd:\",lcd)\n",
    "\n",
    "for k in range(3000):\n",
    "    for i in range(len(monkeys_list_test)):\n",
    "        monkeys_test[i].throw_item(monkeys_test,lcd)\n",
    "    #if k%10==0:\n",
    "     #   print(k, \"rounds\")\n",
    "    #for i in range(len(monkeys_list)):\n",
    "     #   print(monkeys[i].name,monkeys[i].items,monkeys[i].inspected)\n",
    "\n",
    "inspected_list=[]\n",
    "\n",
    "for i in range(len(monkeys_list_test)):\n",
    "    inspected_list.append(monkeys_test[i].inspected)\n",
    "\n",
    "print(inspected_list)\n",
    "inspected_list.sort()\n",
    "print(inspected_list[-1]*inspected_list[-2])"
   ]
  },
  {
   "cell_type": "markdown",
   "id": "7fd8ebeb-0343-4523-9e26-e289b43c6eca",
   "metadata": {},
   "source": [
    "### draft"
   ]
  },
  {
   "cell_type": "code",
   "execution_count": null,
   "id": "76a3305f-0d3d-44db-9d2f-bf6c4794b39c",
   "metadata": {},
   "outputs": [],
   "source": [
    "#TypeError: 'int' object is not iterable\n",
    "\n",
    "test=[1,2,3,4,1]\n",
    "add=\"\"\n",
    "\n",
    "test.extend(add)\n",
    "print(test)\n",
    "\n",
    "test=test.extend(add)\n",
    "print(test)"
   ]
  },
  {
   "cell_type": "code",
   "execution_count": 21,
   "id": "ad99197e-735a-49ef-8bd5-9c1fe563f2eb",
   "metadata": {},
   "outputs": [
    {
     "name": "stdout",
     "output_type": "stream",
     "text": [
      "最小公约数为: 12\n",
      "最小公倍数为: 720\n"
     ]
    }
   ],
   "source": [
    "import math\n",
    "\n",
    "# 输入一串数字\n",
    "num_list = [12, 24, 36, 48, 60]\n",
    "\n",
    "# 初始化最小公约数为第一个数字\n",
    "result = num_list[0]\n",
    "\n",
    "# 循环计算每个数字的最大公约数，并更新为当前数字的最小公约数\n",
    "for num in num_list[1:]:\n",
    "    result = math.gcd(result, num)\n",
    "\n",
    "# 输出最小公约数\n",
    "print(\"最小公约数为:\", result)\n",
    "\n",
    "\n",
    "\n",
    "\n",
    "num_list = [12, 24, 36, 48, 60]\n",
    "\n",
    "# 初始化最小公倍数为第一个数字\n",
    "result = num_list[0]\n",
    "\n",
    "# 循环计算每个数字与当前最小公倍数的最小公倍数，并更新为当前数字的最小公倍数\n",
    "for num in num_list[1:]:\n",
    "    result = result * num // math.gcd(result, num)\n",
    "\n",
    "# 输出最小公倍数\n",
    "print(\"最小公倍数为:\", result)"
   ]
  },
  {
   "cell_type": "code",
   "execution_count": 31,
   "id": "7113b4aa-5393-460b-ad58-425a98f39ccc",
   "metadata": {
    "tags": []
   },
   "outputs": [
    {
     "name": "stdout",
     "output_type": "stream",
     "text": [
      "[0, 1, 2, 3, 4, 5, 6, 7, 8, 9, 10, 11, 12, 13, 14, 15, 16, 17, 18, 19, 20, 21, 22, 23, 24, 25, 26, 27, 28, 29, 30, 31, 32, 33, 34, 35, 36, 37, 38, 39, 40, 41, 42, 43, 44, 45, 46, 47, 48, 49, 50, 51, 52, 53, 54, 55, 56, 57, 58, 59, 60, 61, 62, 63, 64, 65, 66, 67, 68, 69, 70, 71, 72, 73, 74, 75, 76, 77, 78, 79, 80, 81, 82, 83, 84, 85, 86, 87, 88]\n"
     ]
    }
   ],
   "source": [
    "test=89\n",
    "mylist=[i for i in range(test)]\n",
    "print(mylist)"
   ]
  },
  {
   "cell_type": "code",
   "execution_count": 64,
   "id": "ba6a5386-c35c-46c8-83ac-147110abad3a",
   "metadata": {
    "tags": []
   },
   "outputs": [
    {
     "name": "stdout",
     "output_type": "stream",
     "text": [
      "1 [4, 3, 6, 7]\n",
      "4 [3, 6, 7]\n",
      "3 [6, 7]\n",
      "6 [7]\n",
      "7 []\n"
     ]
    }
   ],
   "source": [
    "#remove all items\n",
    "test_list = [1, 4, 3, 6, 7]\n",
    "while test_list:\n",
    "    remove_item = test_list.pop(0)\n",
    "    print(remove_item, test_list)"
   ]
  },
  {
   "cell_type": "markdown",
   "id": "38e9d6e2-578f-43b8-95eb-e1f71a62f17e",
   "metadata": {},
   "source": [
    "# Class note"
   ]
  },
  {
   "cell_type": "code",
   "execution_count": 1,
   "id": "db41324d-5728-482d-a4a9-5ac18acf63e3",
   "metadata": {
    "tags": []
   },
   "outputs": [
    {
     "name": "stdout",
     "output_type": "stream",
     "text": [
      "mammal\n",
      "I'm a mammal\n",
      "I'm a dog\n"
     ]
    }
   ],
   "source": [
    "class Dog:\n",
    " \n",
    "    # A simple class\n",
    "    # attribute\n",
    "    attr1 = \"mammal\"\n",
    "    attr2 = \"dog\"\n",
    " \n",
    "    # A sample method\n",
    "    def fun(self):\n",
    "        print(\"I'm a\", self.attr1)\n",
    "        print(\"I'm a\", self.attr2)\n",
    " \n",
    " \n",
    "# Driver code\n",
    "# Object instantiation\n",
    "Rodger = Dog()\n",
    " \n",
    "# Accessing class attributes\n",
    "# and method through objects\n",
    "print(Rodger.attr1)\n",
    "Rodger.fun()\n",
    "\n",
    "#When we call a method of this object as myobject.method(arg1, arg2), this is automatically\n",
    "#converted by Python into MyClass.method(myobject, arg1, arg2) – this is all the special self is about.\n",
    "\n",
    "class Person:\n",
    " \n",
    "    # init method or constructor\n",
    "    def __init__(self, name):\n",
    "        self.name = name\n",
    " \n",
    "    # Sample Method\n",
    "    def say_hi(self):\n",
    "        print('Hello, my name is', self.name)\n",
    " \n",
    " \n",
    "p = Person('Nikhil')\n",
    "p.say_hi()"
   ]
  },
  {
   "cell_type": "code",
   "execution_count": null,
   "id": "73a3f7e8-0bbc-4f11-b80a-f9dffab03958",
   "metadata": {},
   "outputs": [],
   "source": [
    "class Dog:\n",
    " \n",
    "    # Class Variable\n",
    "    animal = 'dog'\n",
    " \n",
    "    # The init method or constructor\n",
    "    def __init__(self, breed):\n",
    " \n",
    "        # Instance Variable\n",
    "        self.breed = breed\n",
    " \n",
    "    # Adds an instance variable\n",
    "    def setColor(self, color):\n",
    "        self.color = color\n",
    " \n",
    "    # Retrieves instance variable\n",
    "    def getColor(self):\n",
    "        return self.color\n",
    " \n",
    " \n",
    "# Driver Code\n",
    "Rodger = Dog(\"pug\")\n",
    "Rodger.setColor(\"brown\")\n",
    "print(Rodger.getColor())"
   ]
  },
  {
   "cell_type": "code",
   "execution_count": 4,
   "id": "8cf5baaf-7913-44e0-9060-c0225d316c32",
   "metadata": {
    "tags": []
   },
   "outputs": [
    {
     "name": "stdout",
     "output_type": "stream",
     "text": [
      "enter a operand *\n"
     ]
    },
    {
     "ename": "NameError",
     "evalue": "name 'a' is not defined",
     "output_type": "error",
     "traceback": [
      "\u001b[0;31m---------------------------------------------------------------------------\u001b[0m",
      "\u001b[0;31mNameError\u001b[0m                                 Traceback (most recent call last)",
      "Cell \u001b[0;32mIn[4], line 10\u001b[0m\n\u001b[1;32m      8\u001b[0m op_char \u001b[38;5;241m=\u001b[39m \u001b[38;5;28minput\u001b[39m(\u001b[38;5;124m'\u001b[39m\u001b[38;5;124menter a operand\u001b[39m\u001b[38;5;124m'\u001b[39m)\n\u001b[1;32m      9\u001b[0m op_func \u001b[38;5;241m=\u001b[39m ops[op_char]\n\u001b[0;32m---> 10\u001b[0m result \u001b[38;5;241m=\u001b[39m op_func(\u001b[43ma\u001b[49m, b)\n",
      "\u001b[0;31mNameError\u001b[0m: name 'a' is not defined"
     ]
    }
   ],
   "source": [
    "import operator\n",
    "ops = {\n",
    "    \"+\": operator.add,\n",
    "    \"-\": operator.sub,\n",
    "    \"*\": operator.mul,\n",
    "    \"//\": operator.floordiv\n",
    "}   \n",
    "op_char = input('enter a operand')\n",
    "op_func = ops[op_char]\n",
    "result = op_func(a, b)"
   ]
  }
 ],
 "metadata": {
  "kernelspec": {
   "display_name": "Python 3",
   "language": "python",
   "name": "python3"
  },
  "language_info": {
   "codemirror_mode": {
    "name": "ipython",
    "version": 3
   },
   "file_extension": ".py",
   "mimetype": "text/x-python",
   "name": "python",
   "nbconvert_exporter": "python",
   "pygments_lexer": "ipython3",
   "version": "3.11.2"
  },
  "vscode": {
   "interpreter": {
    "hash": "aee8b7b246df8f9039afb4144a1f6fd8d2ca17a180786b69acc140d282b71a49"
   }
  }
 },
 "nbformat": 4,
 "nbformat_minor": 5
}
