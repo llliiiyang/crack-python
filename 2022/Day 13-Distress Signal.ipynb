{
 "cells": [
  {
   "cell_type": "markdown",
   "id": "8dc4c4fe-48a8-4c1a-8cad-4133355b6a5f",
   "metadata": {},
   "source": [
    "# --Part 1--"
   ]
  },
  {
   "cell_type": "code",
   "execution_count": 34,
   "id": "2ebab30a-3076-4c3b-96e5-b4d46049244d",
   "metadata": {},
   "outputs": [
    {
     "name": "stdout",
     "output_type": "stream",
     "text": [
      "13\n",
      "4\n",
      "[1, 2, 4, 6]\n"
     ]
    }
   ],
   "source": [
    "import ast\n",
    "\n",
    "myfile=open(\"/Users/yang/Desktop/adventofcode/packets_order.txt\",'r')\n",
    "lines=myfile.readlines()\n",
    "\n",
    "def compare_func(left,right):\n",
    "    #print(left)\n",
    "    #print(right)\n",
    "    if len(left) == 0 and len(right) == 0:\n",
    "        return \"Next\"\n",
    "    elif len(left) ==0:\n",
    "        return \"True\"\n",
    "    elif len(right) == 0:\n",
    "        return \"False\"\n",
    "    else:\n",
    "        for i in range(len(left)):\n",
    "            if i >= len(right):\n",
    "                return \"False\"\n",
    "            elif type(left[i]) == int and type(right[i]) == int:\n",
    "                if left[i] < right[i]:\n",
    "                    return \"True\"\n",
    "                elif left[i] > right[i]:\n",
    "                    return \"False\"\n",
    "                else:\n",
    "                    continue\n",
    "            elif type(left[i]) == int and type(right[i]) == list:\n",
    "                left[i]=[left[i]]\n",
    "                result=compare_func(left[i],right[i])\n",
    "                if result == \"Next\":\n",
    "                    continue\n",
    "                else:\n",
    "                    return result\n",
    "            elif type(left[i]) == list and type(right[i]) == int:\n",
    "                right[i]=[right[i]]\n",
    "                result=compare_func(left[i],right[i])\n",
    "                if result == \"Next\":\n",
    "                    continue\n",
    "                else:\n",
    "                    return result\n",
    "            else:\n",
    "                result=compare_func(left[i],right[i])\n",
    "                if result == \"Next\":\n",
    "                    continue\n",
    "                else:\n",
    "                    return result\n",
    "                \n",
    "        if len(right)>len(left):\n",
    "            return \"True\"\n",
    "        else:\n",
    "            return \"Next\"\n",
    "    \n",
    "i=0\n",
    "index_list=[]\n",
    "index=1\n",
    "acc=0\n",
    "while i < len(lines):\n",
    "    pair_l=ast.literal_eval(lines[i].strip())\n",
    "    pair_r=ast.literal_eval(lines[i+1].strip())\n",
    "    result = compare_func(pair_l,pair_r)\n",
    "    #print(result,\"\\n\")\n",
    "    if result == \"True\":\n",
    "        index_list.append(index)\n",
    "        acc+=index\n",
    "    i+=3\n",
    "    index+=1\n",
    "\n",
    "print(acc)\n",
    "print(len(index_list))\n",
    "print(index_list)\n"
   ]
  },
  {
   "cell_type": "markdown",
   "id": "84b79732-5ac9-43ce-b280-370ad1e3f30f",
   "metadata": {},
   "source": [
    "# --Part 2--"
   ]
  },
  {
   "cell_type": "code",
   "execution_count": 87,
   "id": "be1fcf96-018a-49ec-8629-91e79e29e44d",
   "metadata": {},
   "outputs": [
    {
     "name": "stdout",
     "output_type": "stream",
     "text": [
      "135 215 29025\n"
     ]
    }
   ],
   "source": [
    "#only have to compare with [[2]] and [[6]] without sorting all lines\n",
    "\n",
    "import ast\n",
    "\n",
    "myfile=open(\"/Users/yang/Desktop/adventofcode/packets_order.txt\",'r')\n",
    "lines=myfile.readlines()\n",
    "new_packets=[]\n",
    "\n",
    "div_1=[[2]]\n",
    "div_2=[[6]]\n",
    "bucket_1=[]\n",
    "bucket_2=[]\n",
    "bucket_3=[]\n",
    "\n",
    "\n",
    "for i in range(0,len(lines)):\n",
    "    #print(lines[i])\n",
    "    if lines[i] != \"\\n\":\n",
    "        newline=ast.literal_eval(lines[i].strip())\n",
    "        result=compare_func(newline,div_1)\n",
    "        if result == \"True\":\n",
    "            bucket_1.append(newline)\n",
    "        else:\n",
    "            result=compare_func(newline,div_2)\n",
    "            if result == \"True\":\n",
    "                bucket_2.append(newline)\n",
    "            else:\n",
    "                bucket_3.append(newline)\n",
    "\n",
    "#new_packets=bucket_1+[div_1]+bucket_2+[div_2]+bucket_3\n",
    "#new_packets=[*bucket_1,div_1,*bucket_2,div_2,*bucket_3]\n",
    "\n",
    "#print(new_packets.index(div_1))\n",
    "\n",
    "div_1_ord=len(bucket_1)+1\n",
    "div_2_ord=len(bucket_1)+len(bucket_2)+2\n",
    "print(div_1_ord,div_2_ord,div_1_ord*div_2_ord)"
   ]
  },
  {
   "cell_type": "markdown",
   "id": "cec9cb72-0460-458a-9259-83bc0a590a43",
   "metadata": {},
   "source": [
    "### note "
   ]
  },
  {
   "cell_type": "code",
   "execution_count": 22,
   "id": "6ed17f66-ccbb-4755-aa60-b8745d2c2a0d",
   "metadata": {},
   "outputs": [
    {
     "name": "stdout",
     "output_type": "stream",
     "text": [
      "True\n",
      "1\n",
      "0\n",
      "[3]\n"
     ]
    }
   ],
   "source": [
    "x = [0]\n",
    "type(x) == int # False\n",
    "isinstance(x, int) # True\n",
    "\n",
    "y=[[]]\n",
    "if y:\n",
    "    print(\"True\")\n",
    "    print(len(y))\n",
    "    print(len(y[0]))\n",
    "a=3\n",
    "a=[a]\n",
    "print(a)\n"
   ]
  },
  {
   "cell_type": "code",
   "execution_count": 22,
   "id": "b910cc9e-e9b0-4a72-a792-0eba6b4d444e",
   "metadata": {},
   "outputs": [
    {
     "name": "stdout",
     "output_type": "stream",
     "text": [
      "<class 'list'> ['[1,1,3,1,1]']\n"
     ]
    }
   ],
   "source": [
    "a=\"[1,1,3,1,1]\\n\"\n",
    "a=a.split()\n",
    "print(type(a),a)"
   ]
  },
  {
   "cell_type": "code",
   "execution_count": 75,
   "id": "05b6e9b8-c62b-4352-8903-a5b70a6b7c12",
   "metadata": {},
   "outputs": [
    {
     "name": "stdout",
     "output_type": "stream",
     "text": [
      "Merged List:\n",
      "['This', 'is', 'a', 'sample', 'program', 10, 2, 45, 3, 5, 7, 8, 10]\n"
     ]
    }
   ],
   "source": [
    "list_1 = [\"This\" , \"is\", \"a\", \"sample\", \"program\"]\n",
    "\n",
    "list_2 = [10, 2, 45, 3, 5, 7, 8, 10]\n",
    "\n",
    "list_1.extend(list_2)\n",
    "print('Merged List:')\n",
    "print(list_1)"
   ]
  },
  {
   "cell_type": "code",
   "execution_count": 81,
   "id": "e3edaa53-ec6c-405f-9667-aefc82bca558",
   "metadata": {},
   "outputs": [
    {
     "name": "stdout",
     "output_type": "stream",
     "text": [
      "Merged List:\n",
      "['This', 'is', 'a', 'sample', 'program', 10, 2, 45, 3, 5, 7, 8, 10]\n"
     ]
    }
   ],
   "source": [
    "list_1 = [\"This\" , \"is\", \"a\", \"sample\", \"program\"]\n",
    "\n",
    "list_2 = [10, 2, 45, 3, 5, 7, 8, 10]\n",
    "\n",
    "final_list = [*list_1, *list_2]\n",
    "print('Merged List:')\n",
    "print(final_list)"
   ]
  },
  {
   "cell_type": "code",
   "execution_count": 82,
   "id": "a958bab4-a65f-4c36-9921-aa4803318e22",
   "metadata": {},
   "outputs": [
    {
     "name": "stdout",
     "output_type": "stream",
     "text": [
      "Merged List:\n",
      "['This', 'is', 'a', 'sample', 'program', 10, 2, 45, 3, 5, 7, 8, 10, 11, 12, 13]\n"
     ]
    }
   ],
   "source": [
    "list_1 = [\"This\" , \"is\", \"a\", \"sample\", \"program\"]\n",
    "list_2 = [10, 2, 45, 3, 5, 7, 8, 10]\n",
    "list_3 = [11, 12, 13]\n",
    "  \n",
    "merged_list = list_1 + list_2 + list_3\n",
    "print('Merged List:')\n",
    "print(merged_list)"
   ]
  },
  {
   "cell_type": "code",
   "execution_count": 6,
   "id": "3acd6896-f392-4bf4-8154-e09857140538",
   "metadata": {},
   "outputs": [
    {
     "name": "stdout",
     "output_type": "stream",
     "text": [
      "Python 3.10.9\n"
     ]
    }
   ],
   "source": [
    "!python --version"
   ]
  }
 ],
 "metadata": {
  "kernelspec": {
   "display_name": "Python 3 (ipykernel)",
   "language": "python",
   "name": "python3"
  },
  "language_info": {
   "codemirror_mode": {
    "name": "ipython",
    "version": 3
   },
   "file_extension": ".py",
   "mimetype": "text/x-python",
   "name": "python",
   "nbconvert_exporter": "python",
   "pygments_lexer": "ipython3",
   "version": "3.10.9"
  }
 },
 "nbformat": 4,
 "nbformat_minor": 5
}
