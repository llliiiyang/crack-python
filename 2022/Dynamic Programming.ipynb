{
 "cells": [
  {
   "cell_type": "code",
   "execution_count": null,
   "id": "a8906ec6-ec15-4c39-a7b8-0ae78a9b107b",
   "metadata": {
    "tags": []
   },
   "outputs": [],
   "source": [
    "def coinChange(self, coins, amount):\n",
    "        \"\"\"\n",
    "        :type coins: List[int]\n",
    "        :type amount: int\n",
    "        :rtype: int\n",
    "        \"\"\"\n",
    "        coins=[1,4,2,6] \n",
    "        coins.sort()\n",
    "        coins.reverse()\n",
    "        print(coins)"
   ]
  },
  {
   "cell_type": "code",
   "execution_count": 70,
   "id": "41ea6a7a-9c42-4715-bfa9-51283e7d530d",
   "metadata": {
    "tags": []
   },
   "outputs": [
    {
     "name": "stdout",
     "output_type": "stream",
     "text": [
      "4\n"
     ]
    }
   ],
   "source": [
    "#https://blog.csdn.net/weixin_50666824/article/details/122957626\n",
    "\n",
    "class Solution:\n",
    "    def change(self, amount: int, coins: list[int]) -> int:\n",
    "        dp = [0]*(amount + 1)\n",
    "        dp[0] = 1\n",
    "        # 遍历物品\n",
    "        for i in range(len(coins)):\n",
    "            # 遍历背包\n",
    "            for j in range(coins[i], amount + 1):\n",
    "                dp[j] += dp[j - coins[i]]\n",
    "        return dp[amount]\n",
    "    \n",
    "case1 = Solution()\n",
    "print (case1.change(5,[1,2,5]))"
   ]
  },
  {
   "cell_type": "code",
   "execution_count": 61,
   "id": "450662f7-0796-418b-819a-a7ed4690ce71",
   "metadata": {},
   "outputs": [
    {
     "name": "stdout",
     "output_type": "stream",
     "text": [
      "30\n"
     ]
    }
   ],
   "source": [
    "#Dynamic Programming\n",
    "#https://blog.csdn.net/baidu_28312631/article/details/47418773?ops_request_misc=%257B%2522request%255Fid%2522%253A%2522167898844316800225523339%2522%252C%2522scm%2522%253A%252220140713.130102334..%2522%257D&request_id=167898844316800225523339&biz_id=0&utm_medium=distribute.pc_search_result.none-task-blog-2~all~top_positive~default-2-47418773-null-null.142^v74^wechat,201^v4^add_ask,239^v2^insert_chatgpt&utm_term=%E5%8A%A8%E6%80%81%E8%A7%84%E5%88%92&spm=1018.2226.3001.4187\n",
    "D=[\n",
    "    [7],\n",
    "    [3,8],\n",
    "    [8,1,0],\n",
    "    [2,7,4,4],\n",
    "    [4,5,2,6,5]]\n",
    "\n",
    "n=len(D)\n",
    "\n",
    "tri_array=[[False]*len(row) for row in D]\n",
    "#print(tri_array)\n",
    "\n",
    "def MaxSum(i,j):\n",
    "    if tri_array[i][j]!= False:\n",
    "        return tri_array[i][j]\n",
    "\n",
    "    elif i==n-1:\n",
    "        tri_array[i][j]=D[i][j]\n",
    "        return D[i][j]\n",
    "    else:\n",
    "        tri_array[i][j]=max(MaxSum(i+1,j),MaxSum(i+1,j+1))+D[i][j]\n",
    "        #print (\"tri_array\",i,j,tri_array[i][j])\n",
    "        return tri_array[i][j]\n",
    "\n",
    "print(MaxSum(0,0))\n"
   ]
  },
  {
   "cell_type": "code",
   "execution_count": 14,
   "id": "74137128-6512-4aea-85be-3a0229416337",
   "metadata": {
    "tags": []
   },
   "outputs": [
    {
     "name": "stdout",
     "output_type": "stream",
     "text": [
      "30\n"
     ]
    }
   ],
   "source": [
    "#chatGPT's solution\n",
    "def MaxSum(D):\n",
    "    n = len(D)\n",
    "    # start from the last row and work our way up to the top\n",
    "    for i in range(n-2, -1, -1):\n",
    "        for j in range(i+1):\n",
    "            D[i][j] += max(D[i+1][j], D[i+1][j+1])\n",
    "    return D[0][0]\n",
    "\n",
    "# sample input\n",
    "D = [\n",
    " [7],\n",
    " [3, 8],\n",
    " [8, 1, 0],\n",
    " [2, 7, 4, 4],\n",
    " [4, 5, 2, 6, 5]\n",
    "]\n",
    "\n",
    "print(MaxSum(D))"
   ]
  },
  {
   "cell_type": "code",
   "execution_count": 9,
   "id": "f48b8afa-f52c-45e4-b1b9-426667d4bb87",
   "metadata": {
    "tags": []
   },
   "outputs": [
    {
     "name": "stdout",
     "output_type": "stream",
     "text": [
      "5\n",
      "21\n"
     ]
    }
   ],
   "source": [
    "# triangle problem: exponential solution\n",
    "D=[\n",
    "    [7],\n",
    "    [3,8],\n",
    "    [8,1,0],\n",
    "    [2,7,4,4],\n",
    "    [4,5,2,6,5]]\n",
    "\n",
    "n=len(D)\n",
    "print(n)\n",
    "\n",
    "#Max=5\n",
    "#D = [[0 for j in range(MAX)] for i in range(MAX)]\n",
    "#n = int(input())\n",
    "\n",
    "def MaxSum(i, j):\n",
    "    if i == n-1:\n",
    "        return D[i][j]\n",
    "    else:\n",
    "        x = MaxSum(i+1, j)\n",
    "        y = MaxSum(i+1, j+1)\n",
    "        return (max(x, y) + D[i][j])\n",
    "\n",
    "#for i in range(1, n+1):\n",
    " #   for j in range(1, i+1):\n",
    "  #      D[i][j] = int(input())\n",
    "\n",
    "print(MaxSum(1, 1))\n"
   ]
  },
  {
   "cell_type": "markdown",
   "id": "3666115b-abe5-4825-9108-43af16a83a48",
   "metadata": {
    "tags": []
   },
   "source": [
    "# Fibonacci problem "
   ]
  },
  {
   "cell_type": "code",
   "execution_count": 3,
   "id": "f47ba7e6-f4bc-4270-bd82-eb2f929dd0c7",
   "metadata": {
    "tags": []
   },
   "outputs": [
    {
     "name": "stdout",
     "output_type": "stream",
     "text": [
      "34\n"
     ]
    }
   ],
   "source": [
    "#method 1: recursion\n",
    "#exponentail\n",
    "def Fibonacci(n):\n",
    "\n",
    "    if n < 0:\n",
    "        print(\"Incorrect input\")\n",
    "\n",
    "    elif n == 0:\n",
    "        return 0\n",
    "    \n",
    "    elif n == 1 or n == 2:\n",
    "        return 1\n",
    "    \n",
    "    else:\n",
    "        return Fibonacci(n-1) + Fibonacci(n-2)\n",
    " \n",
    "# Driver Program\n",
    "print(Fibonacci(9))"
   ]
  },
  {
   "cell_type": "code",
   "execution_count": 7,
   "id": "6f433c4d-763e-48ee-90de-efdbd0a5e159",
   "metadata": {
    "tags": []
   },
   "outputs": [
    {
     "name": "stdout",
     "output_type": "stream",
     "text": [
      "34\n"
     ]
    }
   ],
   "source": [
    "#method 2: dynamic programming\n",
    "FibArray = [0, 1]\n",
    " \n",
    "def fibonacci(n):\n",
    "   \n",
    "    if n < 0:\n",
    "        print(\"Incorrect input\")\n",
    "         \n",
    "    elif n < len(FibArray):\n",
    "        return FibArray[n]\n",
    "    else:       \n",
    "        FibArray.append(fibonacci(n - 1) + fibonacci(n - 2))\n",
    "        return FibArray[n]\n",
    " \n",
    "# Driver Program\n",
    "print(fibonacci(9))"
   ]
  },
  {
   "cell_type": "code",
   "execution_count": 12,
   "id": "0b21d28f-d7eb-42fe-9ce7-689d236fb93c",
   "metadata": {
    "tags": []
   },
   "outputs": [
    {
     "name": "stdout",
     "output_type": "stream",
     "text": [
      "34\n"
     ]
    }
   ],
   "source": [
    "#method 3: calculate from beginning \n",
    "#I wrote it myself\n",
    "FibArray = [0, 1]\n",
    " \n",
    "def fibonacci(n):\n",
    "    if n < 0:\n",
    "        print(\"Incorrect input\")\n",
    "    else:\n",
    "        for i in range(2,n+1):\n",
    "            FibArray.append(\"\")\n",
    "            FibArray[i]=(FibArray[i-1]+FibArray[i-2])\n",
    "    return FibArray[n]\n",
    "\n",
    "print(fibonacci(9))\n",
    "            "
   ]
  },
  {
   "cell_type": "code",
   "execution_count": 13,
   "id": "80198161-1f57-4925-b987-be9829295231",
   "metadata": {
    "tags": []
   },
   "outputs": [
    {
     "name": "stdout",
     "output_type": "stream",
     "text": [
      "34\n",
      "{1: 'hey'}\n"
     ]
    }
   ],
   "source": [
    "#method 4: using backtracking\n",
    "#is it similar to dynamic programming?\n",
    "def fibonacci(n, memo={}):\n",
    "    if n <= 0:\n",
    "        return 0\n",
    "    elif n == 1:\n",
    "        return 1\n",
    "    elif n in memo:\n",
    "        return memo[n]\n",
    "    else:\n",
    "        memo[n] = fibonacci(n-1) + fibonacci(n-2)\n",
    "        return memo[n]\n",
    " \n",
    "# Driver Program\n",
    "print(fibonacci(9))\n",
    "\n",
    "mydict={}\n",
    "mydict[1]=\"hey\"\n",
    "print(mydict)"
   ]
  },
  {
   "cell_type": "markdown",
   "id": "81fcf990-ca47-40a8-8016-74f3df003765",
   "metadata": {
    "tags": []
   },
   "source": [
    "# Day 8 problem test"
   ]
  },
  {
   "cell_type": "code",
   "execution_count": null,
   "id": "57e24917-fbab-4e6f-a07d-2c7d3ead5bbd",
   "metadata": {},
   "outputs": [],
   "source": [
    "#Day-8 problem: test jing's method\n",
    "myfile=open(\"/Users/yang/Desktop/adventofcode/treematrix.txt\",'r')\n",
    "lines=myfile.readlines()\n",
    "trees=[]\n",
    "\n",
    "#lines=[\n",
    " #   \"30373\",\n",
    "  #  \"25512\",\n",
    "   # \"65332\",\n",
    "    #\"33549\",\n",
    "    #\"35390\"]\n",
    "\n",
    "trees=[]\n",
    "for line in lines:\n",
    "    row=[]\n",
    "    for c in line.strip():\n",
    "        row.append(int(c))\n",
    "    trees.append(row)\n",
    "    \n",
    "visible=[[False] * len(row) for row in trees]\n",
    "\n",
    "h,w =len(trees),len(trees[0])\n",
    "for i in range(h):\n",
    "    for j in range(w):\n",
    "        if j==0 or trees[i][j-1]<trees[i][j]:\n",
    "            visible[i][j] = True\n",
    "        else:\n",
    "            break\n",
    "    \n",
    "for i in range(h):\n",
    "    for j in range(w):\n",
    "        if j==0 or trees[h-i-1][w-j]<trees[h-i-1][w-j-1]:\n",
    "            visible[h-i-1][w-j-1] = True\n",
    "        else:\n",
    "            break\n",
    "        \n",
    "for j in range(w):\n",
    "    for i in range(h):\n",
    "        if i==0 or trees[i-1][j]<trees[i][j]:\n",
    "            visible[i][j] = True\n"
   ]
  }
 ],
 "metadata": {
  "kernelspec": {
   "display_name": "Python 3 (ipykernel)",
   "language": "python",
   "name": "python3"
  },
  "language_info": {
   "codemirror_mode": {
    "name": "ipython",
    "version": 3
   },
   "file_extension": ".py",
   "mimetype": "text/x-python",
   "name": "python",
   "nbconvert_exporter": "python",
   "pygments_lexer": "ipython3",
   "version": "3.10.9"
  }
 },
 "nbformat": 4,
 "nbformat_minor": 5
}
