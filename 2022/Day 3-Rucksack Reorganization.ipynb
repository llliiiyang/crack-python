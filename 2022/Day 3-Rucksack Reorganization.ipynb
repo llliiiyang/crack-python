{
 "cells": [
  {
   "cell_type": "markdown",
   "id": "7a16dc9d",
   "metadata": {},
   "source": [
    "# --Part 1--\n",
    "    "
   ]
  },
  {
   "cell_type": "raw",
   "id": "f22d80ac",
   "metadata": {},
   "source": [
    "#item_dict={\n",
    "    \"a\":1,\n",
    "    \"b\":2,\n",
    "    \"c\":3,\n",
    "    \"d\":4,\n",
    "    "
   ]
  },
  {
   "cell_type": "code",
   "execution_count": 138,
   "id": "2a57bcb0",
   "metadata": {},
   "outputs": [
    {
     "name": "stdout",
     "output_type": "stream",
     "text": [
      "300\n",
      "<class 'list'>\n"
     ]
    }
   ],
   "source": [
    "myfile=open(\"/Users/yang/Desktop/adventofcode/rucksack.txt\",'r')\n",
    "lines=myfile.readlines()\n",
    "item_list=[]\n",
    "for line in lines:\n",
    "    line=line.strip()\n",
    "    llength=len(line)  \n",
    "    list1=line[:int(llength/2)]\n",
    "    list2=line[int(llength/2):]\n",
    "    #print(len(list1))\n",
    "    #print(len(list2))\n",
    "    dup_item=[]\n",
    "    for item in list1:    \n",
    "        if item in list2:\n",
    "            dup_item.append(item)\n",
    "    dup_item=list(set(dup_item))\n",
    "    item_list.extend(dup_item)\n",
    "    #dup_item=str(*set(dup_item))\n",
    "    #item_list.append(dup_item)\n",
    "            \n",
    "#print(item_list)           "
   ]
  },
  {
   "cell_type": "code",
   "execution_count": 89,
   "id": "c78e0b15",
   "metadata": {},
   "outputs": [
    {
     "name": "stdout",
     "output_type": "stream",
     "text": [
      "8202\n"
     ]
    }
   ],
   "source": [
    "item_sum=0\n",
    "for item in item_list:\n",
    "    if ord(item)<=90:\n",
    "        item_sum+=ord(item)-38\n",
    "    else:\n",
    "        item_sum+=ord(item)-96\n",
    "print(item_sum)"
   ]
  },
  {
   "cell_type": "code",
   "execution_count": 93,
   "id": "754f13cf",
   "metadata": {},
   "outputs": [
    {
     "name": "stdout",
     "output_type": "stream",
     "text": [
      "24\n",
      "<class 'str'>\n",
      "12\n",
      "12\n",
      "65\n",
      "66\n",
      "90\n",
      "97\n",
      "98\n",
      "122\n",
      "15\n"
     ]
    }
   ],
   "source": [
    "text=\"qRQPDqnWFQDtCCBQmQwmGGVG\"\n",
    "print(len(text))\n",
    "print(type(text))\n",
    "print(len(text[:12]))\n",
    "print(len(text[12:]))\n",
    "print(ord(\"A\"))\n",
    "print(ord(\"B\"))\n",
    "print(ord(\"Z\"))\n",
    "print(ord(\"a\"))\n",
    "print(ord(\"b\"))\n",
    "print(ord(\"z\"))\n",
    "item_sum=[1,2,3,4,5]\n",
    "print(sum(item_sum))"
   ]
  },
  {
   "cell_type": "markdown",
   "id": "252c6c44",
   "metadata": {},
   "source": [
    "## get rid of duplicates in list"
   ]
  },
  {
   "cell_type": "markdown",
   "id": "6bf82698",
   "metadata": {},
   "source": [
    "#### using set"
   ]
  },
  {
   "cell_type": "code",
   "execution_count": 114,
   "id": "6aaa7ac2",
   "metadata": {},
   "outputs": [
    {
     "name": "stdout",
     "output_type": "stream",
     "text": [
      "Original List:  [1, 2, 4, 2, 1, 4, 5]\n",
      "{1, 2, 4, 5}\n",
      "1 2 4 5\n",
      "[1, 2, 4, 5]\n",
      "List after removing duplicate elements:  [1, 2, 4, 5]\n"
     ]
    }
   ],
   "source": [
    "l = [1, 2, 4, 2, 1, 4, 5]\n",
    "print(\"Original List: \", l)\n",
    "print(set(l))\n",
    "print(*set(l))\n",
    "res = [*set(l)]\n",
    "print(res)\n",
    "print(\"List after removing duplicate elements: \", res)"
   ]
  },
  {
   "cell_type": "code",
   "execution_count": 115,
   "id": "cecb1a26",
   "metadata": {},
   "outputs": [
    {
     "name": "stdout",
     "output_type": "stream",
     "text": [
      "The original list is : [1, 5, 3, 6, 3, 5, 6, 1]\n",
      "The list after removing duplicates : [1, 3, 5, 6]\n"
     ]
    }
   ],
   "source": [
    "test_list = [1, 5, 3, 6, 3, 5, 6, 1]\n",
    "print (\"The original list is : \"\n",
    "        + str(test_list))\n",
    "\n",
    "test_list = list(set(test_list))\n",
    " \n",
    "print (\"The list after removing duplicates : \"\n",
    "        + str(test_list))"
   ]
  },
  {
   "cell_type": "markdown",
   "id": "be8252e9",
   "metadata": {},
   "source": [
    "#### **using dictionary"
   ]
  },
  {
   "cell_type": "code",
   "execution_count": 100,
   "id": "cca94ef9",
   "metadata": {},
   "outputs": [
    {
     "name": "stdout",
     "output_type": "stream",
     "text": [
      "['a', 'b', 'c']\n",
      "['a', 'b', 'c']\n",
      "dict_values([1, 2, 3])\n",
      "[1, 2, 3]\n"
     ]
    }
   ],
   "source": [
    "mylist = [\"a\", \"b\", \"a\", \"c\", \"c\"]\n",
    "mylist = list(dict.fromkeys(mylist))\n",
    "print(mylist)\n",
    "mydict={'a': 1, 'b': 2, 'c': 3}\n",
    "print(list(mydict))\n",
    "print(mydict.values())\n",
    "print(list(mydict.values()))"
   ]
  },
  {
   "cell_type": "code",
   "execution_count": 133,
   "id": "8ff8105c",
   "metadata": {},
   "outputs": [
    {
     "name": "stdout",
     "output_type": "stream",
     "text": [
      "{'key1': 0, 'key2': 0, 'key3': 0}\n"
     ]
    }
   ],
   "source": [
    "x = ('key1', 'key2', 'key3')\n",
    "y = 0\n",
    "thisdict = dict.fromkeys(x, y)\n",
    "\n",
    "print(thisdict)"
   ]
  },
  {
   "cell_type": "markdown",
   "id": "03bbd96b",
   "metadata": {},
   "source": [
    "#### make new list"
   ]
  },
  {
   "cell_type": "code",
   "execution_count": 110,
   "id": "f74da9f6",
   "metadata": {},
   "outputs": [
    {
     "name": "stdout",
     "output_type": "stream",
     "text": [
      "The original list is : [1, 3, 5, 6, 3, 5, 6, 1]\n",
      "The list after removing duplicates : [1, 3, 5, 6]\n",
      "[1, 3, 5, 6]\n"
     ]
    }
   ],
   "source": [
    "test_list = [1, 3, 5, 6, 3, 5, 6, 1]\n",
    "print(\"The original list is : \"\n",
    "      + str(test_list))\n",
    "res = []\n",
    "[res.append(x) for x in test_list if x not in res]\n",
    " \n",
    "print (\"The list after removing duplicates : \"\n",
    "       + str(res))\n",
    "\n",
    "\n",
    "res=[]\n",
    "for x in test_list:\n",
    "    if x not in res:\n",
    "        res.append(x) \n",
    "print(res)\n"
   ]
  },
  {
   "cell_type": "markdown",
   "id": "01d1b90b",
   "metadata": {},
   "source": [
    "# --Part 2--"
   ]
  },
  {
   "cell_type": "raw",
   "id": "05ced7e8",
   "metadata": {},
   "source": [
    "split in group of three:\n",
    "range(0,len(list),3)\n",
    "line[g],line[g+1],line[g+2]"
   ]
  },
  {
   "cell_type": "code",
   "execution_count": 186,
   "id": "577dc277",
   "metadata": {},
   "outputs": [
    {
     "name": "stdout",
     "output_type": "stream",
     "text": [
      "100\n"
     ]
    }
   ],
   "source": [
    "myfile=open(\"/Users/yang/Desktop/adventofcode/rucksack.txt\",'r')\n",
    "lines=myfile.readlines()\n",
    "mygroup=range(0,len(lines),3)\n",
    "target_list=[]\n",
    "count=0\n",
    "\n",
    "for g in mygroup:    \n",
    "    count+=1\n",
    "    for ltr in lines[g].strip():\n",
    "        \n",
    "        if ltr in lines[g+1].strip():\n",
    "            if ltr in lines[g+2].strip():\n",
    "                \n",
    "                if len(target_list)<count:\n",
    "                    target_list.append(ltr)\n",
    "                    break\n",
    "#print(count)\n",
    "#print(target_list)\n",
    "print(len(target_list))\n"
   ]
  },
  {
   "cell_type": "code",
   "execution_count": 182,
   "id": "a08e0310",
   "metadata": {},
   "outputs": [
    {
     "name": "stdout",
     "output_type": "stream",
     "text": [
      "2864\n"
     ]
    }
   ],
   "source": [
    "def item_prior(x):\n",
    "    if ord(x)<=90:\n",
    "        return ord(x)-38\n",
    "    else:\n",
    "        return ord(x)-96\n",
    "    \n",
    "    \n",
    "item_sel=[]\n",
    "for item in target_list:\n",
    "    item_sel.append(item_prior(item))\n",
    "#print(len(item_sel))\n",
    "#print(item_sel)\n",
    "print(sum(item_sel))"
   ]
  },
  {
   "cell_type": "markdown",
   "id": "4e2bee77",
   "metadata": {},
   "source": [
    "### break, continue, pass"
   ]
  },
  {
   "cell_type": "code",
   "execution_count": 187,
   "id": "c4956eac",
   "metadata": {},
   "outputs": [
    {
     "name": "stdout",
     "output_type": "stream",
     "text": [
      "Number is 0\n",
      "Number is 1\n",
      "Number is 2\n",
      "Number is 3\n",
      "Number is 4\n",
      "Number is 6\n",
      "Number is 7\n",
      "Number is 8\n",
      "Number is 9\n",
      "Out of loop\n"
     ]
    }
   ],
   "source": [
    "number = 0\n",
    "\n",
    "for number in range(10):\n",
    "    if number == 5:\n",
    "        continue    # continue here\n",
    "\n",
    "    print('Number is ' + str(number))\n",
    "\n",
    "print('Out of loop')"
   ]
  },
  {
   "cell_type": "code",
   "execution_count": 188,
   "id": "99487045",
   "metadata": {},
   "outputs": [
    {
     "name": "stdout",
     "output_type": "stream",
     "text": [
      "Number is 0\n",
      "Number is 1\n",
      "Number is 2\n",
      "Number is 3\n",
      "Number is 4\n",
      "Number is 5\n",
      "Number is 6\n",
      "Number is 7\n",
      "Number is 8\n",
      "Number is 9\n",
      "Out of loop\n"
     ]
    }
   ],
   "source": [
    "number = 0\n",
    "\n",
    "for number in range(10):\n",
    "    if number == 5:\n",
    "        pass    # pass here\n",
    "\n",
    "    print('Number is ' + str(number))\n",
    "\n",
    "print('Out of loop')"
   ]
  }
 ],
 "metadata": {
  "kernelspec": {
   "display_name": "Python 3 (ipykernel)",
   "language": "python",
   "name": "python3"
  },
  "language_info": {
   "codemirror_mode": {
    "name": "ipython",
    "version": 3
   },
   "file_extension": ".py",
   "mimetype": "text/x-python",
   "name": "python",
   "nbconvert_exporter": "python",
   "pygments_lexer": "ipython3",
   "version": "3.11.2"
  }
 },
 "nbformat": 4,
 "nbformat_minor": 5
}
