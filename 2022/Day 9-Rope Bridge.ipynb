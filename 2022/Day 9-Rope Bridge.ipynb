{
 "cells": [
  {
   "cell_type": "markdown",
   "id": "29520929-28b3-4622-81bd-77f3e269b1e6",
   "metadata": {},
   "source": [
    "# --Part 1--"
   ]
  },
  {
   "cell_type": "code",
   "execution_count": 72,
   "id": "54cd8bfc-953a-4ac5-8c00-58a5769ec877",
   "metadata": {
    "tags": []
   },
   "outputs": [
    {
     "name": "stdout",
     "output_type": "stream",
     "text": [
      "6236\n"
     ]
    }
   ],
   "source": [
    "myfile=open(\"/Users/yang/Desktop/adventofcode/knots_motions.txt\",'r')\n",
    "lines=myfile.readlines()\n",
    "\n",
    "\n",
    "def T_move(dict1={\"x\":0,\"y\":0},dict2={\"x\":0,\"y\":0}):\n",
    "    \n",
    "    if dict1[\"x\"]-1<=dict2[\"x\"]<=dict1[\"x\"]+1 and dict1[\"y\"]-1<=dict2[\"y\"]<=dict1[\"y\"]+1:\n",
    "        #print(dict1,dict2)\n",
    "        return dict2\n",
    "    elif dict1[\"x\"]>dict2[\"x\"] and dict1[\"y\"]==dict2[\"y\"]:\n",
    "        dict2[\"x\"]+=1\n",
    "    elif dict1[\"x\"]<dict2[\"x\"] and dict1[\"y\"]==dict2[\"y\"]:\n",
    "        dict2[\"x\"]-=1  \n",
    "    elif dict1[\"x\"]==dict2[\"x\"] and dict1[\"y\"]>dict2[\"y\"]:\n",
    "        dict2[\"y\"]+=1\n",
    "    elif dict1[\"x\"]==dict2[\"x\"] and dict1[\"y\"]<dict2[\"y\"]:\n",
    "        dict2[\"y\"]-=1\n",
    "    elif dict1[\"x\"]>dict2[\"x\"] and dict1[\"y\"]>dict2[\"y\"]:\n",
    "        dict2[\"x\"]+=1\n",
    "        dict2[\"y\"]+=1\n",
    "    elif dict1[\"x\"]>dict2[\"x\"] and dict1[\"y\"]<dict2[\"y\"]:\n",
    "        dict2[\"x\"]+=1\n",
    "        dict2[\"y\"]-=1\n",
    "    elif dict1[\"x\"]<dict2[\"x\"] and dict1[\"y\"]>dict2[\"y\"]:\n",
    "        dict2[\"x\"]-=1\n",
    "        dict2[\"y\"]+=1\n",
    "    elif dict1[\"x\"]<dict2[\"x\"] and dict1[\"y\"]<dict2[\"y\"]:\n",
    "        dict2[\"x\"]-=1\n",
    "        dict2[\"y\"]-=1\n",
    "        \n",
    "    #print(dict1,dict2)\n",
    "    return dict2\n",
    "\n",
    "def visits_func(mydict,myset):\n",
    "    a=mydict[\"x\"]\n",
    "    b=mydict[\"y\"]\n",
    "    myset.add((a,b))\n",
    "    return myset\n",
    "    \n",
    "\n",
    "H_loc={\"x\":0, \"y\":0}\n",
    "T_loc={\"x\":0,\"y\":0}\n",
    "visit_set=set()\n",
    "\n",
    "for line in lines:\n",
    "    move=line.split()\n",
    "    move[1]=int(move[1])\n",
    "    if move[0]==\"R\":\n",
    "        for i in range(move[1]):\n",
    "            H_loc[\"x\"]+=1\n",
    "            T_move(H_loc,T_loc)\n",
    "            visits_func(T_loc,visit_set)\n",
    "    elif move[0]==\"L\":\n",
    "        for i in range(move[1]):\n",
    "            H_loc[\"x\"]-=1\n",
    "            T_move(H_loc,T_loc)\n",
    "            visits_func(T_loc,visit_set)\n",
    "    elif move[0]==\"U\":\n",
    "        for i in range(move[1]):\n",
    "            H_loc[\"y\"]+=1\n",
    "            T_move(H_loc,T_loc)\n",
    "            visits_func(T_loc,visit_set)\n",
    "    else:\n",
    "        for i in range(move[1]):\n",
    "            H_loc[\"y\"]-=1\n",
    "            T_move(H_loc,T_loc)\n",
    "            visits_func(T_loc,visit_set)\n",
    "    #print(H_loc, T_loc)\n",
    "    \n",
    "#print(visit_set)\n",
    "print(len(visit_set))\n",
    "\n"
   ]
  },
  {
   "cell_type": "markdown",
   "id": "984a8489-e816-48ad-9f20-0521ab9ea80e",
   "metadata": {},
   "source": [
    "### alternative/compact code"
   ]
  },
  {
   "cell_type": "code",
   "execution_count": 59,
   "id": "84a4e0f0-2b55-494f-ae06-3c390065de08",
   "metadata": {
    "tags": []
   },
   "outputs": [
    {
     "name": "stdout",
     "output_type": "stream",
     "text": [
      "6236\n"
     ]
    }
   ],
   "source": [
    "#dry=don't repeat yourself\n",
    "#but here it need to classify more times\n",
    "import math\n",
    "\n",
    "def T_move2(dict1,dict2):\n",
    "    if not (abs(dict1[\"x\"]-dict2[\"x\"])<=1 and abs(dict1[\"y\"]-dict2[\"y\"])<=1):\n",
    "        if dict1[\"x\"]<dict2[\"x\"]:\n",
    "            dict2[\"x\"]-=1\n",
    "        elif dict1[\"x\"]>dict2[\"x\"]:\n",
    "            dict2[\"x\"]+=1\n",
    "        if dict1[\"y\"]<dict2[\"y\"]:\n",
    "            dict2[\"y\"]-=1\n",
    "        elif dict1[\"y\"]>dict2[\"y\"]:\n",
    "            dict2[\"y\"]+=1\n",
    "    return dict2\n",
    "\n",
    "H_loc={\"x\":0, \"y\":0}\n",
    "T_loc={\"x\":0,\"y\":0}\n",
    "visit_set=set()\n",
    "\n",
    "for line in lines:\n",
    "    move=line.split()\n",
    "    move[1]=int(move[1])\n",
    "    for i in range(move[1]):\n",
    "        if move[0]==\"R\":\n",
    "            H_loc[\"x\"]+=1\n",
    "        elif move[0]==\"L\":\n",
    "            H_loc[\"x\"]-=1\n",
    "        elif move[0]==\"U\":\n",
    "            H_loc[\"y\"]+=1\n",
    "        else:\n",
    "            H_loc[\"y\"]-=1\n",
    "       \n",
    "        T_move2(H_loc,T_loc)\n",
    "        visits_func(T_loc,visit_set)\n",
    "\n",
    "#print(visit_set)\n",
    "print(len(visit_set))"
   ]
  },
  {
   "cell_type": "markdown",
   "id": "7d1bc9c5-e924-44fb-8e3e-fd00312157bd",
   "metadata": {},
   "source": [
    "# --Part 2--"
   ]
  },
  {
   "cell_type": "code",
   "execution_count": 88,
   "id": "24390b9d-ecd8-4787-9c3f-dbdb4be7aed4",
   "metadata": {
    "tags": []
   },
   "outputs": [
    {
     "name": "stdout",
     "output_type": "stream",
     "text": [
      "2449\n"
     ]
    }
   ],
   "source": [
    "#recursive\n",
    "\n",
    "import math\n",
    "myfile=open(\"/Users/yang/Desktop/adventofcode/knots_motions.txt\",'r')\n",
    "lines=myfile.readlines()\n",
    "\n",
    "def T_move(dict1,dict2):\n",
    "    if not (abs(dict1[\"x\"]-dict2[\"x\"])<=1 and abs(dict1[\"y\"]-dict2[\"y\"])<=1):\n",
    "        if dict1[\"x\"]<dict2[\"x\"]:\n",
    "            dict2[\"x\"]-=1\n",
    "        elif dict1[\"x\"]>dict2[\"x\"]:\n",
    "            dict2[\"x\"]+=1\n",
    "        if dict1[\"y\"]<dict2[\"y\"]:\n",
    "            dict2[\"y\"]-=1\n",
    "        elif dict1[\"y\"]>dict2[\"y\"]:\n",
    "            dict2[\"y\"]+=1\n",
    "    return dict2\n",
    "\n",
    "\n",
    "def visits_func(mydict={\"x\":0,\"y\":0},myset=set()):\n",
    "    a=mydict[\"x\"]\n",
    "    b=mydict[\"y\"]\n",
    "    myset.add((a,b))\n",
    "    return myset\n",
    "\n",
    "\n",
    "Knot=[]\n",
    "for i in range(10):\n",
    "    Knot.append({\"x\":0, \"y\":0})\n",
    "    \n",
    "visit_set=set()\n",
    "\n",
    "for line in lines:\n",
    "    move=line.split()\n",
    "    move[1]=int(move[1])\n",
    "    for i in range(move[1]):\n",
    "        if move[0]==\"R\":\n",
    "            Knot[0][\"x\"]+=1\n",
    "        elif move[0]==\"L\":\n",
    "            Knot[0][\"x\"]-=1\n",
    "        elif move[0]==\"U\":\n",
    "            Knot[0][\"y\"]+=1\n",
    "        else:\n",
    "            Knot[0][\"y\"]-=1\n",
    "       \n",
    "        for i in range(len(Knot)-1):\n",
    "            T_move(Knot[i],Knot[i+1])\n",
    "        visits_func(Knot[-1],visit_set)\n",
    "        \n",
    "#print(visit_set)\n",
    "print(len(visit_set))"
   ]
  },
  {
   "cell_type": "code",
   "execution_count": null,
   "id": "c0e95bd1-5909-4e87-95d3-2b7a5a00725f",
   "metadata": {},
   "outputs": [],
   "source": [
    "a = []\n",
    "a.append()\n",
    "  \n",
    "print(\"Values of a:\", a)"
   ]
  }
 ],
 "metadata": {
  "kernelspec": {
   "display_name": "Python 3 (ipykernel)",
   "language": "python",
   "name": "python3"
  },
  "language_info": {
   "codemirror_mode": {
    "name": "ipython",
    "version": 3
   },
   "file_extension": ".py",
   "mimetype": "text/x-python",
   "name": "python",
   "nbconvert_exporter": "python",
   "pygments_lexer": "ipython3",
   "version": "3.11.2"
  }
 },
 "nbformat": 4,
 "nbformat_minor": 5
}
