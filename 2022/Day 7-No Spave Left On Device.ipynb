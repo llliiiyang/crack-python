{
 "cells": [
  {
   "cell_type": "markdown",
   "id": "3fb29955",
   "metadata": {},
   "source": [
    "# --Part 1--"
   ]
  },
  {
   "cell_type": "code",
   "execution_count": 260,
   "id": "9738e689",
   "metadata": {
    "jupyter": {
     "source_hidden": true
    },
    "tags": []
   },
   "outputs": [
    {
     "name": "stdout",
     "output_type": "stream",
     "text": [
      "1490523\n"
     ]
    }
   ],
   "source": [
    "import re \n",
    "\n",
    "myfile=open(\"/Users/yang/Desktop/adventofcode/directory.txt\",'r')\n",
    "lines=myfile.readlines()\n",
    "\n",
    "#pattern0=r\"^$ cd /\"\n",
    "pattern1=r\"cd [\\w]\"\n",
    "pattern2=r\"cd ..\"\n",
    "#pattern3=r\"^$ ls\"\n",
    "pattern4=r\"\\d+\\s\\w\"\n",
    "#pattern5=r\"^dir\"\n",
    "\n",
    "total_addup = [0]\n",
    "def addup_func(mylines,var_total_addup):\n",
    "    total=0\n",
    "    count=0\n",
    "    #depth=0\n",
    "    b=0\n",
    "    for line in mylines:                 \n",
    "        if b>0:\n",
    "            b-=1\n",
    "    \n",
    "        elif re.search(pattern4,line):\n",
    "            item=line.split()\n",
    "            total+=int(item[0])\n",
    "         \n",
    "        #if \"dir\" in line:\n",
    "            \n",
    "        elif re.search(pattern1,line):\n",
    "            #depth+=1\n",
    "            a,b=addup_func(mylines[count+1:],var_total_addup)\n",
    "            total+= a\n",
    "            \n",
    "        elif re.search(pattern2,line):\n",
    "            #depth-=1\n",
    "            #if depth<0:\n",
    "            count+=1\n",
    "            break         \n",
    "        #print(line)\n",
    "        #print(count,total,var_total_addup) \n",
    "        count+=1\n",
    "    \n",
    "    if total<=100000:\n",
    "        var_total_addup[0]+=total\n",
    "       \n",
    "    return [total,count]\n",
    "   \n",
    "addup_func(lines,total_addup)\n",
    "print(total_addup[0])\n"
   ]
  },
  {
   "cell_type": "code",
   "execution_count": 2,
   "id": "eee6b216",
   "metadata": {
    "tags": []
   },
   "outputs": [
    {
     "name": "stdout",
     "output_type": "stream",
     "text": [
      "(49192532, 1135, [1490523])\n"
     ]
    }
   ],
   "source": [
    "#jing's code translated to python\n",
    "#. (a period) -- matches any single character except newline '\\n'\n",
    "\n",
    "myfile=open(\"/Users/yang/Desktop/adventofcode/directory.txt\",'r')\n",
    "lines=myfile.readlines()\n",
    "\n",
    "regex_dir=r\"cd [\\w]\"\n",
    "regex_exit=r\"cd ..$\"\n",
    "regex_size=r\"\\d+\\s\\w\"\n",
    "\n",
    "\n",
    "def addup_func2(mylines,i=0,acc=[0]):\n",
    "    dir_size=0\n",
    "    while i<len(mylines):\n",
    "        line=mylines[i]\n",
    "        i+=1\n",
    "        \n",
    "        if re.search(regex_exit,line):\n",
    "        #if line.startswith(\"$ cd ..\"):\n",
    "            break\n",
    "        \n",
    "        elif re.search(regex_dir,line):\n",
    "            new_size,i,acc=addup_func2(mylines,i,acc)\n",
    "            dir_size+=new_size\n",
    "        \n",
    "        elif re.search(regex_size,line):\n",
    "            dir_size+=int(line.split()[0])\n",
    "            \n",
    "    if dir_size<=100000:\n",
    "        acc[0]+=dir_size\n",
    "    return dir_size,i,acc\n",
    "\n",
    "print(addup_func2(lines))\n"
   ]
  },
  {
   "cell_type": "markdown",
   "id": "279330c0",
   "metadata": {},
   "source": [
    "# --Part 2--"
   ]
  },
  {
   "cell_type": "code",
   "execution_count": 3,
   "id": "271cd091",
   "metadata": {
    "tags": []
   },
   "outputs": [
    {
     "name": "stdout",
     "output_type": "stream",
     "text": [
      "20807468\n",
      "9192532\n",
      "(49192532, 1135, [12390492])\n"
     ]
    }
   ],
   "source": [
    "import re\n",
    "\n",
    "myfile=open(\"/Users/yang/Desktop/adventofcode/directory.txt\",'r')\n",
    "lines=myfile.readlines()\n",
    "\n",
    "total_size, line_counts, acc=addup_func2(lines)\n",
    "left_space=70000000-total_size\n",
    "print(left_space)\n",
    "var_tofreeup=30000000-left_space\n",
    "print(var_tofreeup)\n",
    "\n",
    "\n",
    "def find_dir_func(mylines,mm_var,i=0,ssize=[0]):\n",
    "    dir_size=0\n",
    "    while i <len(mylines):\n",
    "        line=mylines[i]\n",
    "        i+=1\n",
    "        \n",
    "        if re.search(regex_exit,line):\n",
    "            break\n",
    "        elif re.search(regex_dir,line):\n",
    "            new_size,i,ssize=find_dir_func(mylines,mm_var,i,ssize)\n",
    "            dir_size+=new_size\n",
    "        elif re.search(regex_size,line):\n",
    "            dir_size+=int(line.split()[0])\n",
    "        \n",
    "        #print(line)\n",
    "        #print(i,dir_size,ssize)\n",
    "        \n",
    "    if dir_size>=mm_var:\n",
    "        if ssize[0]==0:\n",
    "            ssize[0]=dir_size\n",
    "        elif ssize[0]>0 and dir_size<ssize[0]:         \n",
    "            ssize[0]=dir_size\n",
    "        \n",
    "            \n",
    "    return dir_size,i,ssize\n",
    "\n",
    "print(find_dir_func(lines,var_tofreeup))\n",
    "        \n",
    "\n"
   ]
  },
  {
   "cell_type": "markdown",
   "id": "bdbbc3b7",
   "metadata": {},
   "source": [
    "# note "
   ]
  },
  {
   "cell_type": "code",
   "execution_count": 211,
   "id": "356661dc",
   "metadata": {
    "tags": []
   },
   "outputs": [
    {
     "name": "stdout",
     "output_type": "stream",
     "text": [
      "None\n",
      "<re.Match object; span=(2, 7), match='cd ..'>\n"
     ]
    }
   ],
   "source": [
    "txt=\"$ cd qcznqph\"\n",
    "txt2=\"$ cd ..\"\n",
    "regex=r\"(cd ..$)\"\n",
    "match=re.search(regex,txt)\n",
    "match2=re.search(regex,txt2)\n",
    "print(match)\n",
    "print(match2)"
   ]
  },
  {
   "cell_type": "code",
   "execution_count": 100,
   "id": "3ba35571",
   "metadata": {},
   "outputs": [
    {
     "name": "stdout",
     "output_type": "stream",
     "text": [
      "<re.Match object; span=(2, 6), match='cd e'>\n"
     ]
    }
   ],
   "source": [
    "txt=\"$ cd e\"\n",
    "pattern1=r\"cd [\\w]\"\n",
    "\n",
    "a=re.search(pattern1,txt)\n",
    "print(a)\n"
   ]
  },
  {
   "cell_type": "code",
   "execution_count": 15,
   "id": "ec35e53d",
   "metadata": {},
   "outputs": [
    {
     "name": "stdout",
     "output_type": "stream",
     "text": [
      "['2314', 'dfs.df']\n",
      "['dir', 'fas']\n",
      "['$', 'cd', 'qcznqph']\n"
     ]
    }
   ],
   "source": [
    "txt=\"2314 dfs.df\"\n",
    "txtt=\"dir fas\"\n",
    "ttt=\"$ cd qcznqph\"\n",
    "a=txt.split()\n",
    "b=txtt.split()\n",
    "print(a)\n",
    "print(b)\n"
   ]
  },
  {
   "cell_type": "code",
   "execution_count": 17,
   "id": "e8c46727",
   "metadata": {},
   "outputs": [],
   "source": [
    "#a, X, 9, < -- ordinary characters just match themselves exactly. The meta-characters which do not match themselves because they have special meanings are: . ^ $ * + ? { [ ] \\ | ( ) (details below)\n",
    "#. (a period) -- matches any single character except newline '\\n'\n",
    "#\\w -- (lowercase w) matches a \"word\" character: a letter or digit or underbar [a-zA-Z0-9_]. Note that although \"word\" is the mnemonic for this, it only matches a single word char, not a whole word. \\W (upper case W) matches any non-word character.\n",
    "#\\b -- boundary between word and non-word\n",
    "#\\s -- (lowercase s) matches a single whitespace character -- space, newline, return, tab, form [ \\n\\r\\t\\f]. \\S (upper case S) matches any non-whitespace character.\n",
    "#\\t, \\n, \\r -- tab, newline, return\n",
    "#\\d -- decimal digit [0-9] (some older regex utilities do not support \\d, but they all support \\w and \\s)\n",
    "#^ = start, $ = end -- match the start or end of the string\n",
    "\n"
   ]
  },
  {
   "cell_type": "code",
   "execution_count": null,
   "id": "f71b5176",
   "metadata": {},
   "outputs": [],
   "source": [
    "# Python Primitives (All passed by value)\n",
    "# - Integers.\n",
    "# - Float.\n",
    "# - Strings.\n",
    "# - Boolean.\n",
    "\n",
    "# Python non-Primitives (Passed by reeference)\n",
    "# - Arrays\n",
    "# - Lists\n",
    "# - Tuples\n",
    "# - Dictionary\n",
    "# - Sets\n",
    "# - Files\n"
   ]
  },
  {
   "cell_type": "code",
   "execution_count": null,
   "id": "69b43f6d",
   "metadata": {},
   "outputs": [],
   "source": []
  },
  {
   "cell_type": "code",
   "execution_count": 14,
   "id": "bab90b52",
   "metadata": {},
   "outputs": [
    {
     "name": "stdout",
     "output_type": "stream",
     "text": [
      "<re.Match object; span=(2, 6), match='cd j'>\n",
      "<re.Match object; span=(3, 11), match='8 vmrcqz'>\n"
     ]
    }
   ],
   "source": [
    "pattern1=r\"cd [\\w/]\"\n",
    "pattern4=r\"\\d\\s\\w+\"\n",
    "txt=\"$ cd jlpbbds\"\n",
    "txt2=\"7058 vmrcqz\"\n",
    "\n",
    "a=re.search(pattern1,txt)\n",
    "b=re.search(pattern4,txt2)\n",
    "print(a)\n",
    "print(b)"
   ]
  },
  {
   "cell_type": "code",
   "execution_count": 33,
   "id": "08bcc875",
   "metadata": {},
   "outputs": [
    {
     "name": "stdout",
     "output_type": "stream",
     "text": [
      "1\n",
      "2\n",
      "2\n"
     ]
    }
   ],
   "source": [
    "def example2(a): # Passed by refer\n",
    "  a[0]+=1\n",
    "  print(a[0]) # ????? 2\n",
    "  \n",
    "x = [1]\n",
    "print(x[0]) # ???? 1\n",
    "example2(x)\n",
    "print(x[0])"
   ]
  },
  {
   "cell_type": "markdown",
   "id": "22736e2c",
   "metadata": {},
   "source": [
    "# Draft-Failed "
   ]
  },
  {
   "cell_type": "code",
   "execution_count": null,
   "id": "aeb235ef",
   "metadata": {},
   "outputs": [],
   "source": [
    "import re\n",
    "\n",
    "#make dictionary (a directory is a set in set)\n",
    "#a set looks like:\n",
    "#{sdf:2342132, dfa:423523 , cvr={}, gag={}, gha:4324,...}\n",
    "\n",
    "{file_a,file_b,set_x,....}\n",
    "set_x={file_z,file_w,dict_k,...}\n",
    "\n",
    "{file_a,file_b,x,....}\n",
    "directionary_d:\n",
    "{directory_d[file_a]:size, directory_d[file_b]:size,directionary_d[x]:{},...}\n",
    "directionary_d[x]={}\n",
    "\n",
    "$ cd /\n",
    "$ ls\n",
    "233998 glh.fcb\n",
    "184686 jzn\n",
    "dir qcznqph ==> qcznqph:{}, \n",
    "dir qtbprrq\n",
    "299692 rbssdzm.ccn\n",
    "dir vtb\n",
    "$ cd qcznqph ==> (\\w+)[qcznqph]={}\n",
    "$ ls\n",
    "32148 lhsrj.fnr\n",
    "dir lnj\n",
    "\n",
    "#each item is a dictionary\n",
    "#file_a.values ==> file size #integer\n",
    "\n",
    "#pattern0=r\"^$ cd /\"\n",
    "pattern1=r\"^$ cd \\w\"\n",
    "pattern2=r\"^$ cd ..\"\n",
    "pattern3=r\"^$ ls\"\n",
    "pattern4=r\"\\d\\s\\w+\"\n",
    "pattern5=r\"^dir\"\n",
    "\n",
    "for i in range len(lines):\n",
    "    if line[i]==\"$ cd xxxx\" and lines[i+1]==\"$ ls\" :\n",
    "        set_xxxx={}\n",
    "            for k in lines[i+2:]:\n",
    "                if k=r\"$ cd ..\":\n",
    "                    break\n",
    "                elif k=r\"dir.*\":\n",
    "                    set_xxxx_group(2)={}\n",
    "                else:\n",
    "                    set_xxxx.add(k)\n",
    "    \n",
    "\n",
    "\n",
    "\n",
    "#make function\n",
    "regex=r\"\\d+\"\n",
    "\n",
    "def get_size_func(set_x):\n",
    "    #for item in set:\n",
    "     #   a=int(findall(regex,item))\n",
    "\n",
    "    if set in set_x:\n",
    "        a=get_size_fuc(that_set)\n",
    "        b=list(map(int,finall(regex,set_x)))\n",
    "        return (a+sum(b))\n",
    "    else:\n",
    "        a=list(map(int,finall(regex,set_x)))\n",
    "        return sum(a)\n",
    "  \n",
    "\n",
    "\n",
    "mydict={}\n",
    "for i in range(len(lines)):\n",
    "    if re.search(pattern1,lines[i]) and re.search(pattern3,line[i+1]):\n",
    "        name=line[i].split()[2]\n",
    "        mydict[name]={}\n",
    "        \n",
    "    \n",
    "    if re.search(pattern5,lines[i]):\n",
    "        name=lines[i].split()[1]\n",
    "        print(name)\n",
    "        break\n",
    "        \n",
    "        "
   ]
  },
  {
   "cell_type": "code",
   "execution_count": 53,
   "id": "e0b57a7c",
   "metadata": {},
   "outputs": [
    {
     "name": "stdout",
     "output_type": "stream",
     "text": [
      "None\n"
     ]
    }
   ],
   "source": [
    "import re \n",
    "\n",
    "myfile=open(\"/Users/yang/Desktop/adventofcode/directory.txt\",'r')\n",
    "lines=myfile.readlines()\n",
    "\n",
    "#pattern0=r\"^$ cd /\"\n",
    "pattern1=r\"^$ cd [\\w/]\"\n",
    "pattern2=r\"^$ cd ..\"\n",
    "pattern3=r\"^$ ls\"\n",
    "pattern4=r\"\\d\\s\\w+\"\n",
    "pattern5=r\"^dir\"\n",
    "\n",
    "mydict={}\n",
    "      \n",
    "def make_dict_func(mylines,mydict):\n",
    "    count=0\n",
    "    a=0\n",
    "    \n",
    "    for i in range(len(mylines)):\n",
    "      \n",
    "        if re.search(pattern1,lines[i]) and re.search(pattern3,line[i+1]):\n",
    "            if count>0:\n",
    "                name=lines[i].split()[2]\n",
    "                b=make_dict_func(mylines[i+1:],mydict[name])\n",
    "                #break #should not break for return\n",
    "            else:\n",
    "                count+=1 \n",
    "                \n",
    "        elif re.search(pattern4,lines[i]):\n",
    "            item=lines[i].split()\n",
    "            mydict[item[1]]:int(item[0])\n",
    "            a+=int(item[0])\n",
    "        \n",
    "        elif re.search(pattern5,lines[i]):\n",
    "            item=lines[i].split()\n",
    "            mydict[item[1]]:{}  #make dictionary here?\n",
    "            \n",
    "        elif re.search(pattern2,lines[i]):\n",
    "            return (sum(a)+b)\n",
    "        \n",
    "    \n",
    "    \n",
    "\n",
    "print(make_dict_func(lines,mydict))\n",
    "\n",
    "\n",
    "\n"
   ]
  }
 ],
 "metadata": {
  "kernelspec": {
   "display_name": "Python 3 (ipykernel)",
   "language": "python",
   "name": "python3"
  },
  "language_info": {
   "codemirror_mode": {
    "name": "ipython",
    "version": 3
   },
   "file_extension": ".py",
   "mimetype": "text/x-python",
   "name": "python",
   "nbconvert_exporter": "python",
   "pygments_lexer": "ipython3",
   "version": "3.11.2"
  }
 },
 "nbformat": 4,
 "nbformat_minor": 5
}
