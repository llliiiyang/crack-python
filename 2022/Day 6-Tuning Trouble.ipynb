{
 "cells": [
  {
   "cell_type": "markdown",
   "id": "f066c049",
   "metadata": {},
   "source": [
    "# --Part 1--"
   ]
  },
  {
   "cell_type": "code",
   "execution_count": 24,
   "id": "cd49a310",
   "metadata": {},
   "outputs": [
    {
     "name": "stdout",
     "output_type": "stream",
     "text": [
      "<class 'str'>\n",
      "4095\n"
     ]
    },
    {
     "data": {
      "text/plain": [
       "1802"
      ]
     },
     "execution_count": 24,
     "metadata": {},
     "output_type": "execute_result"
    }
   ],
   "source": [
    "myfile=open(\"/Users/yang/Desktop/adventofcode/buffermarker.txt\",'r')\n",
    "content=myfile.read()\n",
    "print(type(content))\n",
    "print(len(content))\n",
    "\n",
    "#i asked chatgpt to write the following function and only add the \"+4\"\n",
    "\n",
    "def find_four_different_chars(string):\n",
    "    for i in range(len(string) - 3):\n",
    "        if len(set(string[i:i+4])) == 4:\n",
    "            return i+4\n",
    "    return -1\n",
    "\n",
    "find_four_different_chars(content)\n"
   ]
  },
  {
   "cell_type": "markdown",
   "id": "42a85c90",
   "metadata": {},
   "source": [
    "# --Part 2-- "
   ]
  },
  {
   "cell_type": "code",
   "execution_count": 1,
   "id": "a8ab84c4",
   "metadata": {},
   "outputs": [
    {
     "data": {
      "text/plain": [
       "3551"
      ]
     },
     "execution_count": 1,
     "metadata": {},
     "output_type": "execute_result"
    }
   ],
   "source": [
    "myfile=open(\"/Users/yang/Desktop/adventofcode/buffermarker.txt\",'r')\n",
    "content=myfile.read()\n",
    "\n",
    "def find_14_different_chars(string):\n",
    "    for i in range(len(string) - 13):\n",
    "        if len(set(string[i:i+14])) == 14:\n",
    "            return i+14\n",
    "    return -1\n",
    "\n",
    "find_14_different_chars(content)"
   ]
  },
  {
   "cell_type": "markdown",
   "id": "aa0d14f7",
   "metadata": {},
   "source": [
    "### set(string) => {\".\",\".\"...}"
   ]
  },
  {
   "cell_type": "code",
   "execution_count": 68,
   "id": "b0a52277",
   "metadata": {},
   "outputs": [
    {
     "name": "stdout",
     "output_type": "stream",
     "text": [
      "8\n",
      "{'f', 's', 'd', 'a', 'g'}\n",
      "5\n",
      "['d', 'f', 'd', 'g', 'a', 's', 'd', 'g']\n"
     ]
    }
   ],
   "source": [
    "string=\"dfdgasdg\"\n",
    "print(len(string))\n",
    "print(set(string))\n",
    "print(len(set(string)))\n",
    "print(list(string))"
   ]
  },
  {
   "cell_type": "code",
   "execution_count": 43,
   "id": "9dfc2638",
   "metadata": {},
   "outputs": [
    {
     "name": "stdout",
     "output_type": "stream",
     "text": [
      "['dma', '12', 'm', '542', 'dd']\n",
      "[12, 542]\n",
      "['dma', '12', 'm', '542', 'dd']\n"
     ]
    }
   ],
   "source": [
    "txt=\"dma 12 m 542 dd\"\n",
    "a=[int(s) for s in txt.split() if s.isdigit()]\n",
    "b=[s for s in txt.split()]\n",
    "print(txt.split())\n",
    "print(a)\n",
    "print(b)"
   ]
  },
  {
   "cell_type": "code",
   "execution_count": 48,
   "id": "de300689",
   "metadata": {},
   "outputs": [
    {
     "name": "stdout",
     "output_type": "stream",
     "text": [
      "[12, 34, 56]\n"
     ]
    }
   ],
   "source": [
    "def extract_numbers(string):\n",
    "    numbers = []\n",
    "    temp = \"\"\n",
    "    for char in string:\n",
    "        if char.isdigit():\n",
    "            temp += char\n",
    "        else:\n",
    "            if temp:\n",
    "                numbers.append(int(temp))\n",
    "                temp = \"\"\n",
    "    if temp:\n",
    "        numbers.append(int(temp))\n",
    "    return numbers\n",
    "\n",
    "string = \"ab12cd34 ef56gh\"\n",
    "numbers = extract_numbers(string)\n",
    "print(numbers)\n"
   ]
  },
  {
   "cell_type": "markdown",
   "id": "1c62ef28",
   "metadata": {},
   "source": [
    "### r-string "
   ]
  },
  {
   "cell_type": "code",
   "execution_count": 64,
   "id": "3e6cda56",
   "metadata": {},
   "outputs": [
    {
     "name": "stdout",
     "output_type": "stream",
     "text": [
      "My number is 3.\n",
      "My number is 3.\n",
      "My number is yang.\n",
      "YANG\n"
     ]
    }
   ],
   "source": [
    "#r”<something>” - python regular expression string\n",
    "#f”<something>” python “f-string”\n",
    "#r“^” means beginning of the string\n",
    "#r”abc.*123”=> This would match “abc_whatever_in_the_middle_123”\n",
    "#But would not match “ab_whatever_123”\n",
    "\n",
    "x=3\n",
    "name=\"yang\"\n",
    "print(\"My number is {}.\".format(x)) # “My number is 3.”\n",
    "print(\"My number is %d.\"%x)# “My number is 3.”\n",
    "print(f\"My number is {name}.\") # “My number is 3.”\n",
    "print(f\"{name.upper()}\") # “YANG”"
   ]
  },
  {
   "cell_type": "code",
   "execution_count": 67,
   "id": "1e99a033",
   "metadata": {},
   "outputs": [
    {
     "name": "stdout",
     "output_type": "stream",
     "text": [
      "<map object at 0x110deb940>\n",
      "[2, 4, 6, 8]\n",
      "[5, 7, 9]\n"
     ]
    }
   ],
   "source": [
    "numbers = (1, 2, 3, 4)\n",
    "result = map(lambda x: x + x, numbers)\n",
    "print(result)\n",
    "print(list(result))\n",
    "\n",
    "numbers1 = [1, 2, 3]\n",
    "numbers2 = [4, 5, 6]\n",
    "result = map(lambda x,y: x+y, numbers1, numbers2)\n",
    "print(list(result))"
   ]
  }
 ],
 "metadata": {
  "kernelspec": {
   "display_name": "Python 3 (ipykernel)",
   "language": "python",
   "name": "python3"
  },
  "language_info": {
   "codemirror_mode": {
    "name": "ipython",
    "version": 3
   },
   "file_extension": ".py",
   "mimetype": "text/x-python",
   "name": "python",
   "nbconvert_exporter": "python",
   "pygments_lexer": "ipython3",
   "version": "3.11.2"
  }
 },
 "nbformat": 4,
 "nbformat_minor": 5
}
