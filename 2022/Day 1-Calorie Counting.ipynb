{
 "cells": [
  {
   "cell_type": "markdown",
   "id": "3274cf8f",
   "metadata": {},
   "source": [
    "在男友的远程指导下安装jupyter-lab， jupyter notebook, python等等，真的是一头雾水：Jupyter到底是什么平台？为什么可以通过它安装python？为什么我安装不了pip？为什么pip又可以了？Conda又是干嘛的？那个清华大学开源软件镜像站的镜像为什么又让我可以用pip了？\n",
    "\n",
    "然后我好歹通过youtube的walkthrough学习了一下怎么用jupyter notebook。那就先记下来吧，整理一下思路。\n",
    "\n",
    "**Installing Jupyter lab and Jupyter notebook through terminal**\n",
    "\n",
    "#pip install jupterlab \n",
    "\n",
    "#jupter-lab\n",
    "\n",
    "#pip install notebook\n",
    "\n",
    "#jupyter notebook.  \n",
    "\n",
    "Ctl+c: close action\n",
    "\n",
    "\n",
    "**Pip or pip3? What’s the difference**\n",
    "\n",
    "**Why do i need mirror?**\n",
    "\n",
    "学习平台逻辑的同时还是学习解决问题吧。从几个网站开始，争取自力更生：\n",
    "https://adventofcode.com n/\n",
    "https://d2l.ai/chapter_preliminaries/ndarray.html#getting-started\n",
    "\n"
   ]
  },
  {
   "cell_type": "markdown",
   "id": "5aec0865",
   "metadata": {},
   "source": [
    "# Day 1: Calorie counting "
   ]
  },
  {
   "cell_type": "markdown",
   "id": "09c18f74",
   "metadata": {},
   "source": [
    "### Method1: Go through list"
   ]
  },
  {
   "cell_type": "code",
   "execution_count": 1,
   "id": "264a81b6",
   "metadata": {},
   "outputs": [
    {
     "name": "stdout",
     "output_type": "stream",
     "text": [
      "Elf178:69310\n"
     ]
    }
   ],
   "source": [
    "myfile=open(\"/Users/yang/Desktop/adventofcode/elves.txt\",'r')\n",
    "lines=myfile.readlines()\n",
    "#mylist=()\n",
    "k=0\n",
    "#count=0\n",
    "kMax=1\n",
    "vMax=0\n",
    "vEnergy=0\n",
    "for line in lines:\n",
    "    if line!=\"\\n\":\n",
    "        #lines[count]=int(line)\n",
    "        vEnergy+=int(line)\n",
    "        #print(vEnergy)\n",
    "    else:\n",
    "        if vEnergy>vMax:\n",
    "            vMax=vEnergy\n",
    "            kMax=k+1\n",
    "        vEnergy=0\n",
    "        k+=1\n",
    "print(\"Elf{}:{}\".format(kMax,vMax))\n",
    "#update lines everytime some items are consumed\n"
   ]
  },
  {
   "cell_type": "code",
   "execution_count": 16,
   "id": "013d2197",
   "metadata": {},
   "outputs": [
    {
     "name": "stdout",
     "output_type": "stream",
     "text": [
      "TopThreeTotal:206104\n"
     ]
    }
   ],
   "source": [
    "myfile=open(\"/Users/yang/Desktop/adventofcode/elves.txt\",'r')\n",
    "lines=myfile.readlines()\n",
    "elflist=[]\n",
    "k=0\n",
    "#count=0\n",
    "vEnergy=0\n",
    "for line in lines:\n",
    "    if line!=\"\\n\":\n",
    "        #lines[count]=int(line)\n",
    "        vEnergy+=int(line)\n",
    "        #print(vEnergy)\n",
    "    else:\n",
    "        elflist.append(vEnergy)\n",
    "        #if vEnergy>vMax:\n",
    "         #   vMax=vEnergy\n",
    "          #  kMax=k+1\n",
    "        vEnergy=0\n",
    "        k+=1\n",
    "elflist.sort(reverse=True)\n",
    "vMax=elflist[0]+elflist[1]+elflist[2]\n",
    "print(\"TopThreeTotal:{}\".format(vMax))\n",
    "#update lines everytime some items are consumed"
   ]
  },
  {
   "cell_type": "markdown",
   "id": "09baf1a5",
   "metadata": {},
   "source": [
    "### list update"
   ]
  },
  {
   "cell_type": "code",
   "execution_count": 4,
   "id": "067c15de",
   "metadata": {},
   "outputs": [
    {
     "name": "stdout",
     "output_type": "stream",
     "text": [
      "<class 'list'>\n",
      "<class 'str'>\n"
     ]
    }
   ],
   "source": [
    "print(type(lines))\n",
    "print (type(lines[0]))"
   ]
  },
  {
   "cell_type": "markdown",
   "id": "22edc916",
   "metadata": {},
   "source": [
    "### Method2: dictionary\n",
    "\n",
    "\n"
   ]
  },
  {
   "cell_type": "code",
   "execution_count": 18,
   "id": "e041f76a",
   "metadata": {
    "scrolled": true
   },
   "outputs": [
    {
     "name": "stdout",
     "output_type": "stream",
     "text": [
      "Elf178:69310\n"
     ]
    }
   ],
   "source": [
    "myfile=open(\"/Users/yang/Desktop/adventofcode/elves.txt\",'r')\n",
    "lines=myfile.readlines()\n",
    "#count=0\n",
    "k=1\n",
    "myDict={}\n",
    "myDict[\"Elf1\"]=0\n",
    "vMax=0\n",
    "vElve=0\n",
    "for line in lines:\n",
    "    #count+=1\n",
    "    #print (\"Line{}:{}\".format(count,type(int(line))) )\n",
    "    \n",
    "    if line!= \"\\n\":\n",
    "        myDict[\"Elf{}\".format(k)]+=int(line) \n",
    "        temp=myDict[\"Elf{}\".format(k)]\n",
    "        \n",
    "        \n",
    "        #myDict[\"Elve{}\".format(k)].append(line)\n",
    "        #make a dictionary of lists then add up is another option\n",
    "    else:\n",
    "        if temp>vMax:\n",
    "            vMax=temp\n",
    "            vElve=k\n",
    "        k+=1\n",
    "        myDict[\"Elf{}\".format(k)]=0\n",
    "print(\"Elf{}:{}\".format(vElve,vMax)) \n",
    "        "
   ]
  },
  {
   "cell_type": "code",
   "execution_count": 1,
   "id": "b42b7dc2",
   "metadata": {},
   "outputs": [
    {
     "name": "stdout",
     "output_type": "stream",
     "text": [
      "206104\n"
     ]
    }
   ],
   "source": [
    "myfile=open(\"/Users/yang/Desktop/adventofcode/elves.txt\",'r')\n",
    "lines=myfile.readlines()\n",
    "#count=0\n",
    "k=1\n",
    "myDict={}\n",
    "myDict[\"Elf1\"]=0\n",
    "vMax=0\n",
    "vElve=0\n",
    "for line in lines:\n",
    "    #count+=1\n",
    "    #print (\"Line{}:{}\".format(count,type(int(line))) )\n",
    "    \n",
    "    if line!= \"\\n\":\n",
    "        myDict[\"Elf{}\".format(k)]+=int(line) \n",
    "        temp=myDict[\"Elf{}\".format(k)]\n",
    "    \n",
    "        #myDict[\"Elve{}\".format(k)].append(line)\n",
    "        #make a dictionary of lists then add up is another option\n",
    "    else:\n",
    "        if temp>vMax:\n",
    "            vMax=temp\n",
    "            vElve=k\n",
    "        k+=1\n",
    "        myDict[\"Elf{}\".format(k)]=0\n",
    "#print(myDict.values())\n",
    "mylist=list(myDict.values())\n",
    "mylist.sort(reverse=True)\n",
    "print(mylist[0]+mylist[1]+mylist[2])"
   ]
  },
  {
   "cell_type": "markdown",
   "id": "c384d77c",
   "metadata": {},
   "source": [
    "### manipulating files, print "
   ]
  },
  {
   "cell_type": "code",
   "execution_count": 68,
   "id": "75b35a7d",
   "metadata": {},
   "outputs": [
    {
     "name": "stdout",
     "output_type": "stream",
     "text": [
      "['Geeks\\n', 'for\\n', 'Geeks\\n']\n",
      "L['Geeks\\n', 'for\\n', 'Geeks\\n']\n",
      "Geeks\n",
      "\n",
      "for\n",
      "\n",
      "Geeks\n",
      "\n"
     ]
    }
   ],
   "source": [
    "L = [\"Geeks\\n\", \"for\\n\", \"Geeks\\n\"]\n",
    "print(L)\n",
    "print(\"L{}\".format(L))\n",
    "for line in L:\n",
    "    print(line)"
   ]
  },
  {
   "cell_type": "code",
   "execution_count": 61,
   "id": "ef92d49a",
   "metadata": {},
   "outputs": [
    {
     "name": "stdout",
     "output_type": "stream",
     "text": [
      "['1000\\n', '2000\\n', '3000\\n', '\\n', '4000\\n', '\\n', '5000\\n', '6000\\n', '\\n', '7000\\n', '8000\\n', '9000\\n', '\\n', '10000']\n"
     ]
    }
   ],
   "source": [
    "print (lines)"
   ]
  },
  {
   "cell_type": "code",
   "execution_count": 1,
   "id": "2501d9e4",
   "metadata": {},
   "outputs": [
    {
     "data": {
      "text/plain": [
       "'/Users/yang/Jupyter Notebook'"
      ]
     },
     "execution_count": 1,
     "metadata": {},
     "output_type": "execute_result"
    }
   ],
   "source": [
    "%pwd"
   ]
  }
 ],
 "metadata": {
  "kernelspec": {
   "display_name": "Python 3 (ipykernel)",
   "language": "python",
   "name": "python3"
  },
  "language_info": {
   "codemirror_mode": {
    "name": "ipython",
    "version": 3
   },
   "file_extension": ".py",
   "mimetype": "text/x-python",
   "name": "python",
   "nbconvert_exporter": "python",
   "pygments_lexer": "ipython3",
   "version": "3.11.3"
  }
 },
 "nbformat": 4,
 "nbformat_minor": 5
}
