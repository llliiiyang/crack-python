{
 "cells": [
  {
   "cell_type": "markdown",
   "id": "e7a69192-f938-4b2c-a4bf-8814bab486e1",
   "metadata": {
    "tags": []
   },
   "source": [
    "# --Part 1-- "
   ]
  },
  {
   "cell_type": "raw",
   "id": "f11f4543-7d24-4ce1-adc9-75987f3e09d6",
   "metadata": {},
   "source": [
    "1. matrix==>matrix flip\n",
    "\n",
    "2. list [[],[],[],..]\n",
    "list[0]=[1:4,2:4,3:4,4:4,5:4,...]\n",
    "for i in range(len(list)):\n",
    "    list[i]\n",
    "    \n",
    "    \n",
    "dictionary: {0:[], 1:[], 2:[],.....}\n",
    "loop through dictionary[y]\n",
    "for i in lenth(list(dictionary.keys ))\n",
    "   ...\n",
    "for k in \n",
    "dictionary[i][k] "
   ]
  },
  {
   "cell_type": "code",
   "execution_count": 80,
   "id": "4305ead5-48ba-4626-bade-9dbf1bf979f1",
   "metadata": {
    "tags": []
   },
   "outputs": [
    {
     "name": "stdout",
     "output_type": "stream",
     "text": [
      "8255\n",
      "1546\n"
     ]
    }
   ],
   "source": [
    "myfile=open(\"/Users/yang/Desktop/adventofcode/treematrix.txt\",'r')\n",
    "lines=myfile.readlines()\n",
    "treelist=[]\n",
    "#column_list=[]\n",
    "\n",
    "for y in range(len(lines)):\n",
    "    treelist.append(\"\")\n",
    "    treelist[y]=[]\n",
    "    for x in range(len(lines[y].strip())):\n",
    "        this_key=lines[y][x]\n",
    "        this_dict={this_key:4}\n",
    "        #this_dict=dict.fromkeys(lines[y][x],4)\n",
    "        treelist[y].append(this_dict)\n",
    "\n",
    "#print(treelist)\n",
    "\n",
    "hidden=0\n",
    "\n",
    "for y in range(len(treelist)):\n",
    "    x=0\n",
    "    v_max=0\n",
    "    while x < len(treelist[0])-1:\n",
    "        trh=int(list(treelist[y][x])[0])\n",
    "        if trh>v_max:\n",
    "            v_max=trh\n",
    "        else:\n",
    "            treelist[y][x].update((j,k-1) for j,k in treelist[y][x].items())\n",
    "        #print(y,x,treelist[y][x])\n",
    "        x+=1\n",
    "    \n",
    "    x=len(treelist[0])-1\n",
    "    v_max=0\n",
    "    while x>0:\n",
    "        trh=int(list(treelist[y][x])[0])   \n",
    "        if trh>v_max:\n",
    "            v_max=trh\n",
    "        else:\n",
    "            treelist[y][x].update((j,k-1) for j,k in treelist[y][x].items())\n",
    "        #print(y,x,treelist[y][x])\n",
    "        x-=1\n",
    "                \n",
    "for x in range(len(treelist[0])):\n",
    "    y=0\n",
    "    v_max=0\n",
    "    while y < len(treelist)-1:\n",
    "        trh=int(list(treelist[y][x])[0])\n",
    "        if trh>v_max:\n",
    "            v_max=trh\n",
    "        else:\n",
    "            treelist[y][x].update((j,k-1) for j,k in treelist[y][x].items())\n",
    "        #print(x,y,treelist[y][x])\n",
    "        y+=1\n",
    "       \n",
    "    y=len(treelist)-1\n",
    "    v_max=0\n",
    "    while y>0:\n",
    "        trh=int(list(treelist[y][x])[0])\n",
    "        if trh>v_max:\n",
    "            v_max=trh\n",
    "        else:\n",
    "            treelist[y][x].update((j,k-1) for j,k in treelist[y][x].items())\n",
    "            if list(treelist[y][x].values())[0] ==0:\n",
    "                hidden+=1\n",
    "        #print(x,y,treelist[y][x])\n",
    "        y-=1\n",
    "\n",
    "print(hidden)\n",
    "acc=len(treelist)*len(treelist[0])\n",
    "visible=acc-hidden\n",
    "print(visible)\n"
   ]
  },
  {
   "cell_type": "code",
   "execution_count": null,
   "id": "981ae505-95c0-4aa5-a7c6-a63b68ddd734",
   "metadata": {},
   "outputs": [],
   "source": []
  },
  {
   "cell_type": "markdown",
   "id": "75f16471-e4d2-4686-8844-af3abe1b73a0",
   "metadata": {},
   "source": [
    "# --Part 2--"
   ]
  },
  {
   "cell_type": "code",
   "execution_count": 5,
   "id": "52d74fbd-364c-4330-9194-6fd188586d81",
   "metadata": {},
   "outputs": [],
   "source": [
    "def treeview_func(x,y,mylist):\n",
    "    view=1\n",
    "    add=0\n",
    "    i=x\n",
    "    a=mylist[y][x]\n",
    "    while i>0:\n",
    "        b=mylist[y][i-1]\n",
    "        #print(\"a:\",a,\"b:\",b)\n",
    "        add+=1\n",
    "        if a<=b:\n",
    "            break\n",
    "        i-=1\n",
    "    view=view*add\n",
    "    #print(\"add:\",add,\"view:\",view)\n",
    "    \n",
    "    i=x\n",
    "    add=0\n",
    "    while i<len(mylist[0])-1:\n",
    "        b=mylist[y][i+1]\n",
    "        #print(\"a:\",a,\"b:\",b)\n",
    "        add+=1\n",
    "        if a<=b:\n",
    "            break\n",
    "        i+=1\n",
    "    view=view*add\n",
    "    #print(\"add:\",add,\"view:\",view)\n",
    "    \n",
    "    j=y\n",
    "    add=0\n",
    "    while j>0:\n",
    "        b=mylist[j-1][x]\n",
    "        #print(\"a:\",a,\"b:\",b)\n",
    "        add+=1\n",
    "        if a<=b:\n",
    "            break\n",
    "        j-=1\n",
    "    view=view*add\n",
    "    #print(\"add:\",add,\"view:\",view)\n",
    "    \n",
    "    j=y\n",
    "    add=0\n",
    "    while j<len(mylist)-1:\n",
    "        b=mylist[j+1][x]\n",
    "        #print(\"a:\",a,\"b:\",b)\n",
    "        add+=1\n",
    "        if a<=b:\n",
    "            break\n",
    "        j+=1\n",
    "    view=view*add\n",
    "    #print(\"add:\",add,\"view:\",view)\n",
    "    \n",
    "    return view\n"
   ]
  },
  {
   "cell_type": "code",
   "execution_count": 6,
   "id": "fa7b9e4a-2609-47fd-adc6-bed6acf96d6d",
   "metadata": {
    "tags": []
   },
   "outputs": [
    {
     "name": "stdout",
     "output_type": "stream",
     "text": [
      "7 46 519064\n"
     ]
    }
   ],
   "source": [
    "myfile=open(\"/Users/yang/Desktop/adventofcode/treematrix.txt\",'r')\n",
    "lines=myfile.readlines()\n",
    "treelist=[]\n",
    "#column_list=[]\n",
    "\n",
    "for y in range(len(lines)):\n",
    "    treelist.append(\"\")\n",
    "    treelist[y]=[]\n",
    "    for x in range(len(lines[y].strip())):\n",
    "        treeheight=int(lines[y][x])\n",
    "        treelist[y].append(treeheight)\n",
    "\n",
    "        \n",
    "x_loc=\"\"\n",
    "y_loc=\"\"\n",
    "max_view=0\n",
    "for y in range(len(treelist)):\n",
    "    for x in range(len(treelist[0])):\n",
    "        view=treeview_func(x,y,treelist)\n",
    "        if view>max_view:\n",
    "            max_view=view\n",
    "            x_loc=x\n",
    "            y_loc=y\n",
    "\n",
    "print(x_loc,y_loc,max_view)"
   ]
  },
  {
   "cell_type": "markdown",
   "id": "f958872e-3534-44b8-a6cd-242d401a10c6",
   "metadata": {},
   "source": [
    "### Method 2"
   ]
  },
  {
   "cell_type": "code",
   "execution_count": 25,
   "id": "0d10b286-9daa-44b3-a697-7c7895468fde",
   "metadata": {
    "tags": []
   },
   "outputs": [
    {
     "name": "stdout",
     "output_type": "stream",
     "text": [
      "[[0, 0, 0, 0, 0], [0, 0, 0, 0, 0], [0, 0, 0, 0, 0], [0, 0, 0, 0, 0], [0, 0, 0, 0, 0]]\n"
     ]
    }
   ],
   "source": [
    "#make 4 list of lists to multiply by end\n",
    "# ===>\n",
    "#<===\n",
    "# top=>down\n",
    "# down=>top\n",
    "\n",
    "lines=[\n",
    "    \"30373\",\n",
    "    \"25512\",\n",
    "    \"65332\",\n",
    "    \"33549\",\n",
    "    \"35390\"]\n",
    "\n",
    "trees=[]\n",
    "for line in lines:\n",
    "    row=[]\n",
    "    for height in line:\n",
    "        row.append(int(height))\n",
    "    trees.append(row)\n",
    "    \n",
    "v_left=[[0]*len(x) for x in trees]\n",
    "\n",
    "#not working yet"
   ]
  },
  {
   "cell_type": "markdown",
   "id": "aacddcfa-7bf2-419d-8b0d-581641cbc5d1",
   "metadata": {},
   "source": [
    "### create empty list of lists"
   ]
  },
  {
   "cell_type": "code",
   "execution_count": 11,
   "id": "90f42edd-2d24-4800-9745-3aa627043823",
   "metadata": {
    "tags": []
   },
   "outputs": [
    {
     "name": "stdout",
     "output_type": "stream",
     "text": [
      "[3, 0, 3, 7, 3]\n",
      "[2, 5, 5, 1, 2]\n",
      "[6, 5, 3, 3, 2]\n",
      "[3, 3, 5, 4, 9]\n",
      "[[False, False, False, False, False], [False, False, False, False, False], [False, False, False, False, False], [False, False, False, False, False]]\n"
     ]
    }
   ],
   "source": [
    "lines=[\n",
    "    \"30373\",\n",
    "    \"25512\",\n",
    "    \"65332\",\n",
    "    \"33549\",\n",
    "    \"35390\"]\n",
    "\n",
    "trees=[]\n",
    "for line in lines:\n",
    "    row=[]\n",
    "    for c in line:\n",
    "        row.append(int(c))\n",
    "    trees.append(row)\n",
    "\n",
    "for row in trees:\n",
    "    print(row)\n",
    "    \n",
    "mylist=[[False]*len(row) for row in trees]\n",
    "print(mylist)"
   ]
  },
  {
   "cell_type": "markdown",
   "id": "a06171ce-7578-44e9-970c-066b4da364a6",
   "metadata": {},
   "source": [
    "### dictionary"
   ]
  },
  {
   "cell_type": "code",
   "execution_count": 74,
   "id": "bc5971c1-bc1b-4fdd-bb5b-fde9b86bd4cc",
   "metadata": {
    "tags": []
   },
   "outputs": [
    {
     "name": "stdout",
     "output_type": "stream",
     "text": [
      "15\n"
     ]
    }
   ],
   "source": [
    "a = {'number': 5}\n",
    "b = a.values()\n",
    "c = list(b)[0]*3\n",
    "print(c)"
   ]
  },
  {
   "cell_type": "code",
   "execution_count": 4,
   "id": "68b39b77-e1b7-4e8c-842b-67c86d9fc1df",
   "metadata": {
    "tags": []
   },
   "outputs": [
    {
     "name": "stdout",
     "output_type": "stream",
     "text": [
      "15\n",
      "4\n"
     ]
    }
   ],
   "source": [
    "mydict={2:5,3:8}\n",
    "a=list(mydict.values())[0]*3\n",
    "print(a)\n",
    "\n",
    "b=list(mydict)[0]*2\n",
    "print(b)\n"
   ]
  },
  {
   "cell_type": "code",
   "execution_count": 8,
   "id": "9280a14b-3771-4185-bfec-5f7d2d24b965",
   "metadata": {
    "tags": []
   },
   "outputs": [
    {
     "name": "stdout",
     "output_type": "stream",
     "text": [
      "{15: 6, 4: 10}\n"
     ]
    }
   ],
   "source": [
    "mylist={a:3,b:5}\n",
    "mylist.update((j,k*2) for j,k in mylist.items())\n",
    "print(mylist)\n",
    "#cannot change dictionary keys"
   ]
  }
 ],
 "metadata": {
  "kernelspec": {
   "display_name": "Python 3 (ipykernel)",
   "language": "python",
   "name": "python3"
  },
  "language_info": {
   "codemirror_mode": {
    "name": "ipython",
    "version": 3
   },
   "file_extension": ".py",
   "mimetype": "text/x-python",
   "name": "python",
   "nbconvert_exporter": "python",
   "pygments_lexer": "ipython3",
   "version": "3.11.2"
  }
 },
 "nbformat": 4,
 "nbformat_minor": 5
}
