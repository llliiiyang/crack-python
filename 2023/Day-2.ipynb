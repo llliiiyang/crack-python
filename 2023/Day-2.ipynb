{
 "cells": [
  {
   "cell_type": "code",
   "execution_count": 73,
   "metadata": {},
   "outputs": [],
   "source": [
    "myfile=open(\"/Users/yang/Library/CloudStorage/OneDrive-Personal/00_Advent of Code/2023/input/day2.txt\",'r')\n",
    "lines=myfile.readlines()\n"
   ]
  },
  {
   "cell_type": "markdown",
   "metadata": {},
   "source": [
    "# Part 1"
   ]
  },
  {
   "cell_type": "code",
   "execution_count": 37,
   "metadata": {},
   "outputs": [
    {
     "name": "stdout",
     "output_type": "stream",
     "text": [
      "[' 3 blue, 4 red', ' 1 red, 12 green, 6 blue', ' 2 green'] 90\n"
     ]
    }
   ],
   "source": [
    "txt = \"Game 90: 3 blue, 4 red; 1 red, 12 green, 6 blue; 2 green\"\n",
    "\n",
    "x = txt.split(\":\")\n",
    "y = int(x[0].split(\" \")[-1])\n",
    "x = x[-1].split(\";\")\n",
    "\n",
    "print(x, y)"
   ]
  },
  {
   "cell_type": "code",
   "execution_count": 38,
   "metadata": {},
   "outputs": [
    {
     "name": "stdout",
     "output_type": "stream",
     "text": [
      "['4 red'] [] ['3 blue']\n",
      "['1 red'] ['12 green'] ['6 blue']\n",
      "[] ['2 green'] []\n",
      "90 91\n"
     ]
    }
   ],
   "source": [
    "##########################  op1 ############################  # this method is wrong, don't need to add up\n",
    "# r = 0\n",
    "# g = 0\n",
    "# b = 0\n",
    "\n",
    "# for i in range(len(x)):\n",
    "#     # find index of \"red\" in x[i]\n",
    "#     index_r = x[i].find(\"red\")\n",
    "#     index_g = x[i].find(\"green\")\n",
    "#     index_b = x[i].find(\"blue\")\n",
    "\n",
    "#     # find the digits before \"red\"\n",
    "#     if index_r != -1:\n",
    "#         n = int(x[i][index_r-3]+x[i][index_r-2])\n",
    "#         r += n\n",
    "#     if index_g != -1:\n",
    "#         n = int(x[i][index_g-3]+x[i][index_g-2])\n",
    "#         g += n\n",
    "#     if index_b != -1:\n",
    "#         n = int(x[i][index_b-3]+x[i][index_b-2])\n",
    "#         b += n\n",
    "\n",
    "# print(r,g,b)\n",
    "\n",
    "\n",
    "##########################  op2 ############################\n",
    "import re \n",
    "# make pattern to find \\d+ space +\"red\"\n",
    "pattern_r = re.compile(r\"\\d+ red\")\n",
    "pattern_g = re.compile(r\"\\d+ green\")\n",
    "pattern_b = re.compile(r\"\\d+ blue\")\n",
    "\n",
    "r_max = 12\n",
    "g_max = 13\n",
    "b_max = 14\n",
    "\n",
    "sum = 1\n",
    "\n",
    "for i in range(len(x)):\n",
    "    # find index of \"red\" in x[i]\n",
    "    check = 1\n",
    "    r = 0\n",
    "    g = 0\n",
    "    b = 0\n",
    "    x_r = pattern_r.findall(x[i])\n",
    "    x_g = pattern_g.findall(x[i])\n",
    "    x_b = pattern_b.findall(x[i])\n",
    "    \n",
    "    print(x_r, x_g, x_b)\n",
    "    # find the digits before \"red\"\n",
    "    if x_r:\n",
    "        r = int(x_r[0].split()[0])\n",
    "    if x_g:\n",
    "        g = int(x_g[0].split()[0])\n",
    "    if x_b:\n",
    "        b = int(x_b[0].split()[0])\n",
    "    if not r<=r_max or not g<=g_max or not b<=b_max:\n",
    "        check = 0\n",
    "        break\n",
    "# add to sum if valid\n",
    "if check == 1:\n",
    "    sum += y\n",
    "\n",
    "print(y, sum)"
   ]
  },
  {
   "cell_type": "code",
   "execution_count": 68,
   "metadata": {},
   "outputs": [
    {
     "name": "stdout",
     "output_type": "stream",
     "text": [
      "2207\n"
     ]
    }
   ],
   "source": [
    "#updated\n",
    "def f1(line):\n",
    "    bag1 = {\"red\":0, \"green\":0, \"blue\":0}\n",
    "    for num, col in re.findall(r\"(\\d+) (\\w+)\", line):\n",
    "        bag1[col] = max(bag1[col], int(num))\n",
    "    return bag1.values()\n",
    "\n",
    "sum = 0\n",
    "\n",
    "for line in lines:\n",
    "    r, g, b = f1(line)\n",
    "    if r<=12 and g<=13 and b<=14:\n",
    "        y = line.split(\":\")[0].split()[-1]\n",
    "        sum += int(y)\n",
    "\n",
    "print(sum)"
   ]
  },
  {
   "cell_type": "code",
   "execution_count": null,
   "metadata": {},
   "outputs": [],
   "source": []
  },
  {
   "cell_type": "code",
   "execution_count": 42,
   "metadata": {},
   "outputs": [
    {
     "name": "stdout",
     "output_type": "stream",
     "text": [
      "2207\n"
     ]
    }
   ],
   "source": [
    "# original try\n",
    "import re\n",
    "# make function \n",
    "\n",
    "pattern_r = re.compile(r\"\\d+ red\")\n",
    "pattern_g = re.compile(r\"\\d+ green\")\n",
    "pattern_b = re.compile(r\"\\d+ blue\")\n",
    "\n",
    "r_max = 12\n",
    "g_max = 13\n",
    "b_max = 14\n",
    "\n",
    "def count_color(txt):\n",
    "    txt = txt.split(\":\")\n",
    "    y = int(txt[0].split(\" \")[-1])\n",
    "    x = txt[-1].split(\";\")\n",
    "\n",
    "    check = 1\n",
    "    for i in range(len(x)):\n",
    "        r = 0\n",
    "        g = 0\n",
    "        b = 0\n",
    "        \n",
    "        # find index of \"red\" in x[i]\n",
    "        x_r = pattern_r.findall(x[i])\n",
    "        x_g = pattern_g.findall(x[i])\n",
    "        x_b = pattern_b.findall(x[i])\n",
    "        \n",
    "        # find the digits before \"red\"\n",
    "        if x_r:\n",
    "            r = int(x_r[0].split()[0])\n",
    "        if x_g:\n",
    "            g = int(x_g[0].split()[0])\n",
    "        if x_b:\n",
    "            b = int(x_b[0].split()[0])\n",
    "        if not r<=r_max or not g<=g_max or not b<=b_max:\n",
    "            check = 0\n",
    "            break\n",
    "    \n",
    "    return r,g,b,y, check\n",
    "\n",
    "index_sum = 0\n",
    "\n",
    "\n",
    "for line in lines:\n",
    "    r,g,b,y, check = count_color(line)\n",
    "    if check == 1:\n",
    "        # print(r, g, b, y)\n",
    "        index_sum += y\n",
    "\n",
    "print(index_sum)\n"
   ]
  },
  {
   "cell_type": "markdown",
   "metadata": {},
   "source": [
    "# Part 2"
   ]
  },
  {
   "cell_type": "code",
   "execution_count": 74,
   "metadata": {},
   "outputs": [
    {
     "name": "stdout",
     "output_type": "stream",
     "text": [
      "62241\n"
     ]
    }
   ],
   "source": [
    "import re, math \n",
    "\n",
    "def f2(line):\n",
    "    bag2 = {\"red\":0, \"green\":0, \"blue\":0}\n",
    "    for num, col in re.findall(r\"(\\d+) (\\w+)\", line):\n",
    "        bag2[col] = max(bag2[col], int(num))\n",
    "    return math.prod(bag2.values())\n",
    "\n",
    "sum = 0\n",
    "\n",
    "for line in lines:\n",
    "    sum += f2(line)\n",
    "\n",
    "print(sum)"
   ]
  },
  {
   "cell_type": "code",
   "execution_count": 57,
   "metadata": {},
   "outputs": [
    {
     "name": "stdout",
     "output_type": "stream",
     "text": [
      "288\n"
     ]
    }
   ],
   "source": [
    "import math, re\n",
    "\n",
    "txt = \"Game 90: 3 blue, 4 red; 1 red, 12 green, 6 blue; 2 green\"\n",
    "\n",
    "bag = {'r':0, 'g':0, 'b':0}\n",
    "for num, col in re.findall(r'(\\d+) (\\w)', txt):\n",
    "    bag[col] = max(bag[col], int(num))\n",
    "\n",
    "print(math.prod(bag.values())) "
   ]
  }
 ],
 "metadata": {
  "kernelspec": {
   "display_name": "Python 3",
   "language": "python",
   "name": "python3"
  },
  "language_info": {
   "codemirror_mode": {
    "name": "ipython",
    "version": 3
   },
   "file_extension": ".py",
   "mimetype": "text/x-python",
   "name": "python",
   "nbconvert_exporter": "python",
   "pygments_lexer": "ipython3",
   "version": "3.11.3"
  }
 },
 "nbformat": 4,
 "nbformat_minor": 2
}
