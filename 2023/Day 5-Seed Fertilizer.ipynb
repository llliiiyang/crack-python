{
 "cells": [
  {
   "cell_type": "code",
   "execution_count": 18,
   "metadata": {},
   "outputs": [],
   "source": [
    "# Open the file and read the lines into a list\n",
    "# lines: List[str] = open(\"./input.txt\").read().splitlines()\n",
    "\n",
    "# myfile=open(\"./input.txt\",'r')\n",
    "# lines=myfile.readlines()\n",
    "\n",
    "# with open('Advent_of_Code/2023/puzzle_input/05.txt', 'r') as f:\n",
    "#     puzzle_input = f.read()"
   ]
  },
  {
   "cell_type": "code",
   "execution_count": 19,
   "metadata": {},
   "outputs": [],
   "source": [
    "# clean data\n",
    "\n",
    "with open('/Users/yang/Library/CloudStorage/OneDrive-Personal/00_Advent of Code/2023/input/day5.txt', 'r') as f:\n",
    "    puzzle_input = f.read()\n",
    "\n",
    "import re\n",
    "segments = puzzle_input.split('\\n\\n')\n",
    "seeds = list(map(int, re.findall(r'\\d+', segments[0])))"
   ]
  },
  {
   "cell_type": "markdown",
   "metadata": {},
   "source": [
    "# Part 1"
   ]
  },
  {
   "cell_type": "code",
   "execution_count": 20,
   "metadata": {},
   "outputs": [
    {
     "name": "stdout",
     "output_type": "stream",
     "text": [
      "324724204\n"
     ]
    }
   ],
   "source": [
    "def make_dict(segment, my_dict={}):\n",
    "    my_dict = {}  # empty dictionary, otherwise my_dict will be updated upon each call\n",
    "    lines = segment.split('\\n')\n",
    "    lines.pop(0)\n",
    "    for line in lines:\n",
    "        n = list(map(int, re.findall(r'\\d+', line)))\n",
    "        my_dict[(n[1], n[1]+n[2])] = (n[0], n[0]+n[2])\n",
    "    return my_dict\n",
    "\n",
    "\n",
    "\n",
    "seed_soil_dict = make_dict(segments[1])\n",
    "soil_fert_dict = make_dict(segments[2])\n",
    "fert_water_dict = make_dict(segments[3])\n",
    "water_light_dict = make_dict(segments[4])\n",
    "light_temp_dict = make_dict(segments[5])\n",
    "temp_humid_dict = make_dict(segments[6])\n",
    "humid_loc_dict = make_dict(segments[7])\n",
    "\n",
    "\n",
    "\n",
    "def pass_list(input_list, my_dict={}):\n",
    "    output_list = []\n",
    "    for i, input in enumerate(input_list):\n",
    "        temp = False\n",
    "        for r in my_dict.keys():\n",
    "            if input in range(r[0], r[1]):\n",
    "                idx = input - r[0] + my_dict[r][0]\n",
    "                output_list.append(idx)\n",
    "                temp = True\n",
    "                break\n",
    "        if not temp:\n",
    "            output_list.append(input)\n",
    "    # print(output_list)\n",
    "            \n",
    "    return output_list\n",
    "\n",
    "soils = pass_list(seeds, seed_soil_dict)\n",
    "ferts = pass_list(soils, soil_fert_dict)\n",
    "waters = pass_list(ferts, fert_water_dict)\n",
    "lights = pass_list(waters, water_light_dict)\n",
    "temps = pass_list(lights, light_temp_dict)\n",
    "humids = pass_list(temps, temp_humid_dict)\n",
    "locs = pass_list(humids, humid_loc_dict)\n",
    "\n",
    "# find the lowest value in locs\n",
    "min_loc = min(locs)\n",
    "print(min_loc)"
   ]
  },
  {
   "cell_type": "code",
   "execution_count": 21,
   "metadata": {},
   "outputs": [
    {
     "name": "stdout",
     "output_type": "stream",
     "text": [
      "324724204\n"
     ]
    }
   ],
   "source": [
    "## continuation of each input without making list of each stage\n",
    "\n",
    "def part1(puzzle_input):\n",
    "    segments = puzzle_input.split('\\n\\n')\n",
    "    seeds = re.findall(r'\\d+', segments[0])\n",
    "\n",
    "    min_location = float('inf')\n",
    "    for x in map(int, seeds):\n",
    "        for seg in segments[1:]:\n",
    "            for conversion in re.findall(r'(\\d+) (\\d+) (\\d+)', seg):\n",
    "                destination, start, delta = map(int, conversion)\n",
    "                if x in range(start, start + delta):\n",
    "                    x += destination - start\n",
    "                    break\n",
    "\n",
    "        min_location = min(x, min_location)\n",
    "\n",
    "    return min_location\n",
    "\n",
    "print(part1(puzzle_input))"
   ]
  },
  {
   "cell_type": "markdown",
   "metadata": {},
   "source": [
    "# Part 2"
   ]
  },
  {
   "cell_type": "code",
   "execution_count": 22,
   "metadata": {},
   "outputs": [],
   "source": [
    "# seeds = ((n0, n1), (n2, n3), ...)\n",
    "# get new seed list\n",
    "\n",
    "seeds = list(map(int, re.findall(r'\\d+', segments[0])))\n",
    "# divide the seeds into 2-tuples\n",
    "seeds = [(seeds[i], seeds[i] + seeds[i+1]) for i in range(0, len(seeds), 2)]\n",
    "\n",
    "\n",
    "\n",
    "def make_dict(segment, my_dict={}):\n",
    "    my_dict = {}  # empty dictionary, otherwise my_dict will be updated upon each call\n",
    "    lines = segment.split('\\n')\n",
    "    lines.pop(0)\n",
    "    for line in lines:\n",
    "        n = list(map(int, re.findall(r'\\d+', line)))\n",
    "        my_dict[(n[1], n[1]+n[2])] = (n[0], n[0]+n[2])\n",
    "    return my_dict\n",
    "\n",
    "\n",
    "\n",
    "seed_soil_dict = make_dict(segments[1])\n",
    "soil_fert_dict = make_dict(segments[2])\n",
    "fert_water_dict = make_dict(segments[3])\n",
    "water_light_dict = make_dict(segments[4])\n",
    "light_temp_dict = make_dict(segments[5])\n",
    "temp_humid_dict = make_dict(segments[6])\n",
    "humid_loc_dict = make_dict(segments[7])\n",
    "\n"
   ]
  },
  {
   "cell_type": "code",
   "execution_count": 23,
   "metadata": {},
   "outputs": [
    {
     "name": "stdout",
     "output_type": "stream",
     "text": [
      "[(4106085912, 4241301479), (529248892, 688786086), (1281459911, 1395782252), (1857095529, 2671679899), (2999858074, 3050246555), (3362084117, 3399829019), (3471634344, 3711767943), (3737494864, 4084110548), (1585884643, 1728157741), (917169654, 1203427094)]\n"
     ]
    }
   ],
   "source": [
    "print(seeds)"
   ]
  },
  {
   "cell_type": "code",
   "execution_count": 24,
   "metadata": {},
   "outputs": [
    {
     "name": "stdout",
     "output_type": "stream",
     "text": [
      "start soil\n",
      "start FERT\n",
      "start WATER\n",
      "start light\n",
      "start temp\n",
      "start humid\n",
      "start loc\n",
      "104070862\n"
     ]
    }
   ],
   "source": [
    "\n",
    "################### add to the end of list without using recursion ############################\n",
    "\n",
    "def pass_list2(list_range, my_dict={}):\n",
    "    output_list = []\n",
    "    new_rg = []\n",
    "    for rg in list_range:\n",
    "        # print('rg', rg)\n",
    "        temp = False\n",
    "        for r in my_dict.keys():\n",
    "            # print('r', r)\n",
    "\n",
    "            '''\n",
    "            overlap = set(range(rg[0], rg[1])) & set(range(r[0], r[1]))  #set is heavey calculation\n",
    "            if overlap:\n",
    "                # print(\"overlap\", overlap)\n",
    "                temp = True\n",
    "                id_1 = min(overlap) \n",
    "                id_2 = max(overlap)+1\n",
    "                # print((id_1, id_2))\n",
    "                print('asfwef')\n",
    "                add_range = (id_1 - r[0] + my_dict[r][0], id_2 - r[0] + my_dict[r][0])\n",
    "                # print(\"add\", add_range)\n",
    "                output_list.append((id_1 - r[0] + my_dict[r][0], id_2 - r[0] + my_dict[r][0]))\n",
    "                print('asdfsafdf')\n",
    "                if not (rg[0] == id_1 and rg[1] == id_2):  \n",
    "                # if set(range(rg[0], rg[1])) != overlap:\n",
    "                    # need to count when rg[0]<id_1 and rg[1]>id_2\n",
    "                    if rg[0] < id_1 and rg[1] > id_2:\n",
    "                        new_rg.append((rg[0], id_1))\n",
    "                        new_rg.append((id_2, rg[1]))\n",
    "                    else:\n",
    "                        remain_set = set(range(rg[0],rg[1])) - overlap\n",
    "                        # print(\"remain_set\", remain_set)\n",
    "                        list_range.append((min(remain_set), max(remain_set)+1)) #list_range.append(remain_rg)\n",
    "                break\n",
    "            '''\n",
    "            r1 = max(r[0], rg[0])\n",
    "            r2 = min(r[1], rg[1])\n",
    "            if r1 >= r2:\n",
    "                pass\n",
    "            else:\n",
    "                output_list.append((r1-r[0]+my_dict[r][0], r2-r[0]+my_dict[r][0]))\n",
    "                temp = True\n",
    "                if rg[0] < r1:\n",
    "                    list_range.append((rg[0], r1))\n",
    "                if r2 < rg[1]:\n",
    "                    list_range.append((r2, rg[1]))\n",
    "                break               \n",
    "\n",
    "        if temp == False:\n",
    "            output_list.append(rg)\n",
    "    \n",
    "    return output_list\n",
    "\n",
    "print('start soil')\n",
    "soil = pass_list2(seeds, seed_soil_dict)\n",
    "print('start FERT')\n",
    "fert = pass_list2(soil, soil_fert_dict)\n",
    "print('start WATER')\n",
    "\n",
    "water = pass_list2(fert, fert_water_dict)\n",
    "print('start light')\n",
    "\n",
    "light = pass_list2(water, water_light_dict)\n",
    "print('start temp')\n",
    "temp = pass_list2(light, light_temp_dict)\n",
    "print('start humid')\n",
    "\n",
    "humid = pass_list2(temp, temp_humid_dict)\n",
    "print('start loc')\n",
    "loc = pass_list2(humid, humid_loc_dict)\n",
    "\n",
    "# print(\"soil:\",soil)\n",
    "# print(\"fert:\", fert)\n",
    "# print(\"water:\", water)\n",
    "\n",
    "# print(\"loc:\", loc)\n",
    "min_loc = min(loc, key=lambda x: x[0])\n",
    "print(min_loc[0])\n"
   ]
  },
  {
   "cell_type": "markdown",
   "metadata": {},
   "source": [
    "# notes"
   ]
  },
  {
   "cell_type": "code",
   "execution_count": 25,
   "metadata": {},
   "outputs": [],
   "source": [
    "# make dictionary\n",
    "\n",
    "# seed_to_soil_dict {}\n",
    "# for i in range(n3):\n",
    "    # seed_to_soil_dict[n2+i] = n1+i\n",
    "\n",
    "\n",
    "\n",
    "# seed_list = [79, 14, 55,13]\n",
    "# soil_list = [seed_to_soil_dict[seed] for seed in seed_list]  # \n",
    "\n",
    "# dictionary too big if one by one\n",
    "\n",
    "\n",
    "# for i in range(len(lines)):\n",
    "#     seed_to_soil_dict[(n2, n2+n3)] = (n1, n1+n3)\n",
    "\n",
    "# for s in seed_list:\n",
    "#     for r in seed_to_soil_dict.keys():\n",
    "#         if s in range(r):\n",
    "#             soil_index = n1 + r - n2\n",
    "#             soil_list.append(soil_index)\n",
    "#             break\n",
    "\n"
   ]
  },
  {
   "cell_type": "code",
   "execution_count": 26,
   "metadata": {},
   "outputs": [],
   "source": [
    "# dict = {1: 2, 3: 4, 5: 6}\n",
    "# test_list = []\n",
    "# for i in range(3,6):\n",
    "#     if i in dict.keys():\n",
    "#         test_list.append(dict[i])\n",
    "#     else:\n",
    "#         test_list.append(i)\n",
    "\n",
    "# print(test_list)"
   ]
  },
  {
   "cell_type": "code",
   "execution_count": null,
   "metadata": {},
   "outputs": [],
   "source": [
    "\n",
    "################################## never stop running ########################################\n",
    "# min_location = float('inf')\n",
    "\n",
    "# for seed_seg in seeds:\n",
    "#     for seed in range(seed_seg[0], seed_seg[0] + seed_seg[1]):\n",
    "#         for seg in segments[1:]:\n",
    "#             for conversion in re.findall(r'(\\d+) (\\d+) (\\d+)', seg):\n",
    "#                 destination, start, delta = map(int, conversion)\n",
    "#                 if seed in range(start, start + delta):\n",
    "#                     seed += destination - start\n",
    "#                     break\n",
    "\n",
    "#         min_location = min(seed, min_location)\n",
    "\n",
    "# print(min_location)\n",
    "\n",
    "\n",
    "################################# using resursion ############################\n",
    "# def pass_list2(list_range, my_dict={}):\n",
    "#     output_list = []\n",
    "#     new_rg = []\n",
    "#     for rg in list_range:\n",
    "#         temp = False\n",
    "#         for r in my_dict.keys():\n",
    "\n",
    "#             overlap = set(range(rg[0], rg[1])) & set(range(r[0], r[1]))\n",
    "#             if overlap:\n",
    "#                 # print(\"overlap\", overlap)\n",
    "#                 temp = True\n",
    "#                 id_1 = min(overlap) \n",
    "#                 id_2 = max(overlap)+1\n",
    "#                 # print((id_1, id_2))\n",
    "                \n",
    "#                 add_range = (id_1 - r[0] + my_dict[r][0], id_2 - r[0] + my_dict[r][0])\n",
    "#                 # print(\"add\", add_range)\n",
    "#                 output_list.append((id_1 - r[0] + my_dict[r][0], id_2 - r[0] + my_dict[r][0]))\n",
    "                \n",
    "#                 if not (rg[0] == id_1 and rg[1] == id_2):  \n",
    "#                 # if set(range(rg[0], rg[1])) != overlap:\n",
    "#                     # need to count when rg[0]<id_1 and rg[1]>id_2\n",
    "#                     if rg[0] < id_1 and rg[1] > id_2:\n",
    "#                         new_rg.append((rg[0], id_1))\n",
    "#                         new_rg.append((id_2, rg[1]))\n",
    "#                     else:\n",
    "#                         remain_set = set(range(rg[0],rg[1])) - overlap\n",
    "#                         # print(\"remain_set\", remain_set)\n",
    "#                         new_rg.append((min(remain_set), max(remain_set)+1)) #list_range.append(remain_rg)\n",
    "#                 break\n",
    "#         if temp == False:\n",
    "#             output_list.append(rg)\n",
    "    \n",
    "#     if new_rg:\n",
    "#         # print(\"new_rg \", new_rg)\n",
    "#         output_list += pass_list2(new_rg, my_dict)\n",
    "#     return output_list\n"
   ]
  }
 ],
 "metadata": {
  "kernelspec": {
   "display_name": "Python 3",
   "language": "python",
   "name": "python3"
  },
  "language_info": {
   "codemirror_mode": {
    "name": "ipython",
    "version": 3
   },
   "file_extension": ".py",
   "mimetype": "text/x-python",
   "name": "python",
   "nbconvert_exporter": "python",
   "pygments_lexer": "ipython3",
   "version": "3.11.3"
  }
 },
 "nbformat": 4,
 "nbformat_minor": 2
}
