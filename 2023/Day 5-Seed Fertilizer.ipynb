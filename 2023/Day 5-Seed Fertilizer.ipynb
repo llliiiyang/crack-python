{
 "cells": [
  {
   "cell_type": "code",
   "execution_count": null,
   "metadata": {},
   "outputs": [],
   "source": [
    "# Open the file and read the lines into a list\n",
    "# lines: List[str] = open(\"./input.txt\").read().splitlines()\n",
    "\n",
    "# myfile=open(\"./input.txt\",'r')\n",
    "# lines=myfile.readlines()\n",
    "\n",
    "# with open('Advent_of_Code/2023/puzzle_input/05.txt', 'r') as f:\n",
    "#     puzzle_input = f.read()"
   ]
  },
  {
   "cell_type": "code",
   "execution_count": null,
   "metadata": {},
   "outputs": [],
   "source": [
    "# list of ranges:\n",
    "## seed_source = ((98, 98+2), (50, 50+48),....)\n",
    "## soil_destination = \n",
    "\n",
    "\n",
    "\n",
    "## soil_source = ((15, 15+37), (52, 52+2),....)\n",
    "## ...\n",
    "\n",
    "\n"
   ]
  },
  {
   "cell_type": "code",
   "execution_count": null,
   "metadata": {},
   "outputs": [],
   "source": [
    "# make dictionary\n",
    "\n",
    "# seed_to_soil_dict {}\n",
    "# for i in range(n3):\n",
    "    # seed_to_soil_dict[n2+i] = n1+i\n",
    "\n",
    "\n",
    "\n",
    "# seed_list = [79, 14, 55,13]\n",
    "# soil_list = [seed_to_soil_dict[seed] for seed in seed_list]  # \n",
    "\n",
    "# dictionary too big if one by one\n",
    "\n",
    "\n",
    "# for i in range(len(lines)):\n",
    "#     seed_to_soil_dict[(n2, n2+n3)] = (n1, n1+n3)\n",
    "\n",
    "# for s in seed_list:\n",
    "#     for r in seed_to_soil_dict.keys():\n",
    "#         if s in range(r):\n",
    "#             soil_index = n1 + r - n2\n",
    "#             soil_list.append(soil_index)\n",
    "#             break\n",
    "\n"
   ]
  },
  {
   "cell_type": "code",
   "execution_count": 3,
   "metadata": {},
   "outputs": [
    {
     "name": "stdout",
     "output_type": "stream",
     "text": [
      "[4, 4, 6]\n"
     ]
    }
   ],
   "source": [
    "dict = {1: 2, 3: 4, 5: 6}\n",
    "test_list = []\n",
    "for i in range(3,6):\n",
    "    if i in dict.keys():\n",
    "        test_list.append(dict[i])\n",
    "    else:\n",
    "        test_list.append(i)\n",
    "\n",
    "print(test_list)"
   ]
  },
  {
   "cell_type": "code",
   "execution_count": 5,
   "metadata": {},
   "outputs": [
    {
     "name": "stdout",
     "output_type": "stream",
     "text": [
      "['seeds: 79 14 55 13', '', 'seed-to-soil map:', '50 98 2', '52 50 48', '', 'soil-to-fertilizer map:', '0 15 37', '37 52 2', '39 0 15', '', 'fertilizer-to-water map:', '49 53 8', '0 11 42', '42 0 7', '57 7 4', '', 'water-to-light map:', '88 18 7', '18 25 70', '', 'light-to-temperature map:', '45 77 23', '81 45 19', '68 64 13', '', 'temperature-to-humidity map:', '0 69 1', '1 0 69', '', 'humidity-to-location map:', '60 56 37', '56 93 4']\n"
     ]
    }
   ],
   "source": [
    "# clean data\n",
    "from typing import List\n",
    "\n",
    "lines: List[str] = open(\"/Users/yang/Library/CloudStorage/OneDrive-Personal/00_Advent of Code/2023/input/day5.txt\").read().splitlines()\n",
    "\n",
    "print(lines)"
   ]
  },
  {
   "cell_type": "code",
   "execution_count": 7,
   "metadata": {},
   "outputs": [
    {
     "data": {
      "text/plain": [
       "str"
      ]
     },
     "execution_count": 7,
     "metadata": {},
     "output_type": "execute_result"
    }
   ],
   "source": [
    "# clean data\n",
    "\n",
    "with open('/Users/yang/Library/CloudStorage/OneDrive-Personal/00_Advent of Code/2023/input/day5.txt', 'r') as f:\n",
    "    puzzle_input = f.read()\n"
   ]
  },
  {
   "cell_type": "code",
   "execution_count": 40,
   "metadata": {},
   "outputs": [],
   "source": [
    "import re\n",
    "\n",
    "segments = puzzle_input.split('\\n\\n')\n",
    "seeds = list(map(int, re.findall(r'\\d+', segments[0])))\n",
    "\n",
    "\n",
    "def make_dict(segment, my_dict={}):\n",
    "    my_dict = {}  # empty dictionary, otherwise my_dict will be updated upon each call\n",
    "    lines = segment.split('\\n')\n",
    "    lines.pop(0)\n",
    "    for line in lines:\n",
    "        n = list(map(int, re.findall(r'\\d+', line)))\n",
    "        my_dict[(n[1], n[1]+n[2])] = (n[0], n[0]+n[2])\n",
    "    return my_dict\n",
    "\n",
    "\n",
    "\n",
    "seed_soil_dict = make_dict(segments[1])\n",
    "soil_fert_dict = make_dict(segments[2])\n",
    "fert_water_dict = make_dict(segments[3])\n",
    "water_light_dict = make_dict(segments[4])\n",
    "light_temp_dict = make_dict(segments[5])\n",
    "temp_humid_dict = make_dict(segments[6])\n",
    "humid_loc_dict = make_dict(segments[7])"
   ]
  },
  {
   "cell_type": "code",
   "execution_count": 41,
   "metadata": {},
   "outputs": [
    {
     "name": "stdout",
     "output_type": "stream",
     "text": [
      "{(69, 70): (0, 1), (0, 69): (1, 70)}\n",
      "{(56, 93): (60, 97), (93, 97): (56, 60)}\n"
     ]
    },
    {
     "data": {
      "text/plain": [
       "[79, 14, 55, 13]"
      ]
     },
     "execution_count": 41,
     "metadata": {},
     "output_type": "execute_result"
    }
   ],
   "source": [
    "print(temp_humid_dict)\n",
    "print(humid_loc_dict)\n",
    "seeds"
   ]
  },
  {
   "cell_type": "code",
   "execution_count": 44,
   "metadata": {},
   "outputs": [
    {
     "name": "stdout",
     "output_type": "stream",
     "text": [
      "35\n"
     ]
    }
   ],
   "source": [
    "def pass_list(input_list, my_dict={}):\n",
    "    output_list = []\n",
    "    for i, input in enumerate(input_list):\n",
    "        temp = False\n",
    "        for r in my_dict.keys():\n",
    "            if input in range(r[0], r[1]):\n",
    "                idx = input - r[0] + my_dict[r][0]\n",
    "                output_list.append(idx)\n",
    "                temp = True\n",
    "                break\n",
    "        if not temp:\n",
    "            output_list.append(input)\n",
    "    # print(output_list)\n",
    "            \n",
    "    return output_list\n",
    "\n",
    "soils = pass_list(seeds, seed_soil_dict)\n",
    "ferts = pass_list(soils, soil_fert_dict)\n",
    "waters = pass_list(ferts, fert_water_dict)\n",
    "lights = pass_list(waters, water_light_dict)\n",
    "temps = pass_list(lights, light_temp_dict)\n",
    "humids = pass_list(temps, temp_humid_dict)\n",
    "locs = pass_list(humids, humid_loc_dict)\n",
    "\n",
    "# find the lowest value in locs\n",
    "min_loc = min(locs)\n",
    "print(min_loc)"
   ]
  }
 ],
 "metadata": {
  "kernelspec": {
   "display_name": "Python 3",
   "language": "python",
   "name": "python3"
  },
  "language_info": {
   "codemirror_mode": {
    "name": "ipython",
    "version": 3
   },
   "file_extension": ".py",
   "mimetype": "text/x-python",
   "name": "python",
   "nbconvert_exporter": "python",
   "pygments_lexer": "ipython3",
   "version": "3.11.3"
  }
 },
 "nbformat": 4,
 "nbformat_minor": 2
}
