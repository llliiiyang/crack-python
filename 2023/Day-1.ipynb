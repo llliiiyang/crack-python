{
 "cells": [
  {
   "cell_type": "code",
   "execution_count": 16,
   "metadata": {},
   "outputs": [
    {
     "name": "stdout",
     "output_type": "stream",
     "text": [
      "[-47, -46, 16, 24, 1, 6, 20]\n"
     ]
    }
   ],
   "source": [
    "print ([ord(char) - 96 for char in (\"12pxaft\").lower()])"
   ]
  },
  {
   "cell_type": "markdown",
   "metadata": {},
   "source": [
    "# Part 1"
   ]
  },
  {
   "cell_type": "code",
   "execution_count": 1,
   "metadata": {},
   "outputs": [],
   "source": [
    "myfile=open(\"/Users/yang/Library/CloudStorage/OneDrive-Personal/00_Advent of Code/2023/input/day1.txt\",'r')\n",
    "lines=myfile.readlines()"
   ]
  },
  {
   "cell_type": "code",
   "execution_count": 3,
   "metadata": {},
   "outputs": [],
   "source": [
    "import re \n",
    "\n",
    "# make function to use re.findall() to find all the numbers in the string, combine first and last digit as a number\n",
    "\n",
    "def get_num(string):\n",
    "    digit =  [int(d) for d in re.findall(r'\\d', string)]\n",
    "    return digit[0]*10 + digit[-1]  #int(digit[0] + digit[-1])\n"
   ]
  },
  {
   "cell_type": "code",
   "execution_count": 46,
   "metadata": {},
   "outputs": [
    {
     "name": "stdout",
     "output_type": "stream",
     "text": [
      "54667\n"
     ]
    }
   ],
   "source": [
    "sum = 0\n",
    "\n",
    "for line in lines:\n",
    "    sum += (get_num(line))\n",
    "\n",
    "print(sum)"
   ]
  },
  {
   "cell_type": "markdown",
   "metadata": {},
   "source": []
  },
  {
   "cell_type": "markdown",
   "metadata": {},
   "source": [
    "# Part 2"
   ]
  },
  {
   "cell_type": "code",
   "execution_count": 14,
   "metadata": {},
   "outputs": [],
   "source": [
    "letter_list = [\"one\", \"two\", \"three\", \"four\", \"five\", \"six\", \"seven\", \"eight\", \"nine\"]\n",
    "num_list = [1, 2, 3, 4, 5, 6, 7, 8, 9]\n",
    "# can make dictionary instead\n",
    "\n",
    "# replace the number in the string\n",
    "# def get_num2(string):\n",
    "#     for i in range(len(letter_list)):\n",
    "#         string = string.replace(letter_list[i], str(num_list[i]))\n",
    "#     return get_num(string)\n",
    "\n",
    "# insert the number in the string\n",
    "def get_num2(string):\n",
    "    for i in range(len(letter_list)):   # for k, v in dictionary.items() \\ string = string.replace(k, v)\n",
    "        string = string.replace(letter_list[i], letter_list[i] + str(num_list[i]) + letter_list[i])\n",
    "    return get_num(string)"
   ]
  },
  {
   "cell_type": "markdown",
   "metadata": {},
   "source": []
  },
  {
   "cell_type": "code",
   "execution_count": 17,
   "metadata": {},
   "outputs": [
    {
     "name": "stdout",
     "output_type": "stream",
     "text": [
      "54203\n"
     ]
    }
   ],
   "source": [
    "myfile=open(\"/Users/yang/Library/CloudStorage/OneDrive-Personal/00_Advent of Code/2023/input/day1.txt\",'r')\n",
    "lines=myfile.readlines()\n",
    "\n",
    "sum2 = 0\n",
    "\n",
    "for line in lines:\n",
    "  \n",
    "    sum2 += (get_num2(line))\n",
    "\n",
    "print(sum2)"
   ]
  }
 ],
 "metadata": {
  "kernelspec": {
   "display_name": "Python 3",
   "language": "python",
   "name": "python3"
  },
  "language_info": {
   "codemirror_mode": {
    "name": "ipython",
    "version": 3
   },
   "file_extension": ".py",
   "mimetype": "text/x-python",
   "name": "python",
   "nbconvert_exporter": "python",
   "pygments_lexer": "ipython3",
   "version": "3.11.3"
  }
 },
 "nbformat": 4,
 "nbformat_minor": 2
}
