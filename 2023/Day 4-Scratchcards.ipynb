{
 "cells": [
  {
   "cell_type": "code",
   "execution_count": null,
   "metadata": {},
   "outputs": [],
   "source": [
    "# Open the file and read the lines into a list\n",
    "# lines: List[str] = open(\"./input.txt\").read().splitlines()\n",
    "\n",
    "# myfile=open(\"./input.txt\",'r')\n",
    "# lines=myfile.readlines()"
   ]
  },
  {
   "cell_type": "markdown",
   "metadata": {},
   "source": [
    "# Part 1"
   ]
  },
  {
   "cell_type": "code",
   "execution_count": 50,
   "metadata": {},
   "outputs": [],
   "source": [
    "from typing import List, Tuple\n",
    "\n",
    "lines: List[str] = open(\"/Users/yang/Library/CloudStorage/OneDrive-Personal/00_Advent of Code/2023/input/day4.txt\").read().splitlines()\n"
   ]
  },
  {
   "cell_type": "code",
   "execution_count": 20,
   "metadata": {},
   "outputs": [
    {
     "name": "stdout",
     "output_type": "stream",
     "text": [
      "['41', '48', '83', '86', '17']\n"
     ]
    }
   ],
   "source": [
    "# a = re.split(r'[:|]', lines[0])\n",
    "# a1 = re.findall(r'\\d+', a[1])\n",
    "# print(a1)"
   ]
  },
  {
   "cell_type": "code",
   "execution_count": 45,
   "metadata": {},
   "outputs": [
    {
     "name": "stdout",
     "output_type": "stream",
     "text": [
      "([41, 48, 83, 86, 17], [83, 86, 6, 31, 17, 9, 48, 53])\n"
     ]
    }
   ],
   "source": [
    "import re\n",
    "\n",
    "def get_numbers(line) :\n",
    "    # split the line into three parts using \":\" and \"|\"\n",
    "    parts = re.split(r'[:|]', line)\n",
    "\n",
    "    l1 = [int(i) for i in re.findall(r'\\d+', parts[1])]\n",
    "    l2 = [int(i) for i in re.findall(r'\\d+', parts[2])]\n",
    "    return l1, l2\n",
    "\n",
    "test_num = get_numbers(lines[0])\n",
    "print(test_num)\n",
    "\n",
    "\n",
    "\n",
    "# check the number of integers in l2 that appear in l1\n",
    "# check the number of integers in l2 that appear in l1\n",
    "def get_points(card_lists) -> int:\n",
    "    l1 = card_lists[0]\n",
    "    l2 = card_lists[1]\n",
    "    n = sum([1 for i in l2 if i in l1])\n",
    "    if n == 0:\n",
    "        return 0\n",
    "    else:\n",
    "        return 2**(n-1)\n",
    "\n",
    "# print(get_points(test_num))"
   ]
  },
  {
   "cell_type": "code",
   "execution_count": 51,
   "metadata": {},
   "outputs": [
    {
     "name": "stdout",
     "output_type": "stream",
     "text": [
      "23028\n"
     ]
    }
   ],
   "source": [
    "total_points = 0\n",
    "\n",
    "for line in lines:\n",
    "    card_lists = get_numbers(line)\n",
    "    total_points += get_points(card_lists)\n",
    "\n",
    "print(total_points)\n"
   ]
  },
  {
   "cell_type": "markdown",
   "metadata": {},
   "source": [
    "# Part 2"
   ]
  },
  {
   "cell_type": "code",
   "execution_count": 12,
   "metadata": {},
   "outputs": [],
   "source": [
    "from typing import List, Tuple\n",
    "\n",
    "lines: List[str] = open(\"/Users/yang/Library/CloudStorage/OneDrive-Personal/00_Advent of Code/2023/input/day4.txt\").read().splitlines()\n"
   ]
  },
  {
   "cell_type": "code",
   "execution_count": null,
   "metadata": {},
   "outputs": [],
   "source": [
    "# card_dict = {}\n",
    "# card_dict[\"card_1\"] = card_num\n",
    "\n"
   ]
  },
  {
   "cell_type": "code",
   "execution_count": 13,
   "metadata": {},
   "outputs": [
    {
     "name": "stdout",
     "output_type": "stream",
     "text": [
      "9236992\n"
     ]
    }
   ],
   "source": [
    "import re\n",
    "\n",
    "def anal_card(line) :\n",
    "    # split the line into three parts using \":\" and \"|\"\n",
    "    parts = re.split(r'[:|]', line)\n",
    "    name = parts[0]\n",
    "    # print(name)\n",
    "    card_index = int(re.search(r'\\d+', name).group(0))\n",
    "    # print(card_index)\n",
    "    l1 = [int(i) for i in re.findall(r'\\d+', parts[1])]\n",
    "    l2 = [int(i) for i in re.findall(r'\\d+', parts[2])]\n",
    "    return card_index, l1, l2\n",
    "\n",
    "\n",
    "def get_cards(line, card_dict) :\n",
    "    card_index, l1, l2 = anal_card(line)\n",
    "    n = card_dict[card_index]\n",
    "    win_num = sum([1 for i in l2 if i in l1])\n",
    "\n",
    "    for i in range(1, win_num+1):\n",
    "        if card_index+i in card_dict.keys():\n",
    "            card_dict[card_index+i] += n\n",
    "            # print(card_index+i, card_dict)\n",
    "    \n",
    "    return n\n",
    "\n",
    "\n",
    "card_dict = {}\n",
    "total_card = 0\n",
    "\n",
    "max_card_num = len(lines)+1\n",
    "\n",
    "for i in range(len(lines)):\n",
    "    card_dict[i+1] = 1\n",
    "\n",
    "# print(card_dict)\n",
    "\n",
    "for line in lines:\n",
    "    n = get_cards(line, card_dict)\n",
    "    total_card += n\n",
    "\n",
    "\n",
    "\n",
    "print(total_card)  \n",
    "# print(card_dict)\n"
   ]
  },
  {
   "cell_type": "code",
   "execution_count": 3,
   "metadata": {},
   "outputs": [
    {
     "name": "stdout",
     "output_type": "stream",
     "text": [
      "{1: 1, 2: 3, 3: 5, 4: 7, 5: 7, 6: 1}\n"
     ]
    }
   ],
   "source": []
  },
  {
   "cell_type": "code",
   "execution_count": 53,
   "metadata": {},
   "outputs": [],
   "source": [
    "for i in range(0):\n",
    "    print(i)"
   ]
  },
  {
   "cell_type": "markdown",
   "metadata": {},
   "source": [
    "### learn"
   ]
  },
  {
   "cell_type": "code",
   "execution_count": 1,
   "metadata": {},
   "outputs": [
    {
     "name": "stdout",
     "output_type": "stream",
     "text": [
      "Part 1: 23028\n",
      "Part 2: 9236992\n"
     ]
    }
   ],
   "source": [
    "import re\n",
    "\n",
    "with open('/Users/yang/Library/CloudStorage/OneDrive-Personal/00_Advent of Code/2023/input/day4.txt', 'r') as f:\n",
    "    puzzle_input = f.read()\n",
    "\n",
    "\n",
    "def part1(puzzle_input):\n",
    "    regex = r':(.*)\\|(.*)'\n",
    "    points = 0\n",
    "    for win_nums, true_nums in re.findall(regex, puzzle_input):\n",
    "        overlap = set(win_nums.split()) & set(true_nums.split())\n",
    "        if overlap:\n",
    "            points += 2 ** (len(overlap) - 1)\n",
    "\n",
    "    return points\n",
    "\n",
    "\n",
    "\n",
    "def part2(puzzle_input):\n",
    "    lines = puzzle_input.split('\\n')\n",
    "    regex = r':(.*)\\|(.*)'\n",
    "    cards = [1] * len(lines)\n",
    "    for i, line in enumerate(lines):\n",
    "        win_nums, actual_nums = re.findall(regex, line)[0]\n",
    "        overlap = set(win_nums.split()) & set(actual_nums.split())\n",
    "        for j in range(len(overlap)):\n",
    "            cards[i+j+1] += cards[i]\n",
    "    \n",
    "    return sum(cards)\n",
    "\n",
    "\n",
    "\n",
    "print('Part 1:', part1(puzzle_input))\n",
    "print('Part 2:', part2(puzzle_input))"
   ]
  }
 ],
 "metadata": {
  "kernelspec": {
   "display_name": "Python 3",
   "language": "python",
   "name": "python3"
  },
  "language_info": {
   "codemirror_mode": {
    "name": "ipython",
    "version": 3
   },
   "file_extension": ".py",
   "mimetype": "text/x-python",
   "name": "python",
   "nbconvert_exporter": "python",
   "pygments_lexer": "ipython3",
   "version": "3.11.3"
  }
 },
 "nbformat": 4,
 "nbformat_minor": 2
}
