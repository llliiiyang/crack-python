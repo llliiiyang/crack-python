{
 "cells": [
  {
   "cell_type": "code",
   "execution_count": null,
   "metadata": {},
   "outputs": [],
   "source": [
    "# Open the file and read the lines into a list\n",
    "# lines: List[str] = open(\"./input.txt\").read().splitlines()\n",
    "\n",
    "# myfile=open(\"./input.txt\",'r')\n",
    "# lines=myfile.readlines()"
   ]
  },
  {
   "cell_type": "markdown",
   "metadata": {},
   "source": [
    "# Part 1"
   ]
  },
  {
   "cell_type": "code",
   "execution_count": 50,
   "metadata": {},
   "outputs": [],
   "source": [
    "from typing import List, Tuple\n",
    "\n",
    "lines: List[str] = open(\"/Users/yang/Library/CloudStorage/OneDrive-Personal/00_Advent of Code/2023/input/day4.txt\").read().splitlines()\n"
   ]
  },
  {
   "cell_type": "code",
   "execution_count": 20,
   "metadata": {},
   "outputs": [
    {
     "name": "stdout",
     "output_type": "stream",
     "text": [
      "['41', '48', '83', '86', '17']\n"
     ]
    }
   ],
   "source": [
    "# a = re.split(r'[:|]', lines[0])\n",
    "# a1 = re.findall(r'\\d+', a[1])\n",
    "# print(a1)"
   ]
  },
  {
   "cell_type": "code",
   "execution_count": 45,
   "metadata": {},
   "outputs": [
    {
     "name": "stdout",
     "output_type": "stream",
     "text": [
      "([41, 48, 83, 86, 17], [83, 86, 6, 31, 17, 9, 48, 53])\n"
     ]
    }
   ],
   "source": [
    "import re\n",
    "\n",
    "def get_numbers(line) :\n",
    "    # split the line into three parts using \":\" and \"|\"\n",
    "    parts = re.split(r'[:|]', line)\n",
    "\n",
    "    l1 = [int(i) for i in re.findall(r'\\d+', parts[1])]\n",
    "    l2 = [int(i) for i in re.findall(r'\\d+', parts[2])]\n",
    "    return l1, l2\n",
    "\n",
    "test_num = get_numbers(lines[0])\n",
    "print(test_num)\n",
    "\n",
    "\n",
    "\n",
    "# check the number of integers in l2 that appear in l1\n",
    "# check the number of integers in l2 that appear in l1\n",
    "def get_points(card_lists) -> int:\n",
    "    l1 = card_lists[0]\n",
    "    l2 = card_lists[1]\n",
    "    n = sum([1 for i in l2 if i in l1])\n",
    "    if n == 0:\n",
    "        return 0\n",
    "    else:\n",
    "        return 2**(n-1)\n",
    "\n",
    "# print(get_points(test_num))"
   ]
  },
  {
   "cell_type": "code",
   "execution_count": 51,
   "metadata": {},
   "outputs": [
    {
     "name": "stdout",
     "output_type": "stream",
     "text": [
      "23028\n"
     ]
    }
   ],
   "source": [
    "total_points = 0\n",
    "\n",
    "for line in lines:\n",
    "    card_lists = get_numbers(line)\n",
    "    total_points += get_points(card_lists)\n",
    "\n",
    "print(total_points)\n"
   ]
  },
  {
   "cell_type": "markdown",
   "metadata": {},
   "source": [
    "# Part 2"
   ]
  },
  {
   "cell_type": "code",
   "execution_count": null,
   "metadata": {},
   "outputs": [],
   "source": [
    "from typing import List, Tuple\n",
    "\n",
    "lines: List[str] = open(\"/Users/yang/Library/CloudStorage/OneDrive-Personal/00_Advent of Code/2023/input/day4.txt\").read().splitlines()\n"
   ]
  },
  {
   "cell_type": "code",
   "execution_count": null,
   "metadata": {},
   "outputs": [],
   "source": [
    "# card_dict = {}\n",
    "# card_dict[\"card_1\"] = card_num\n",
    "\n"
   ]
  },
  {
   "cell_type": "code",
   "execution_count": 59,
   "metadata": {},
   "outputs": [
    {
     "name": "stdout",
     "output_type": "stream",
     "text": [
      "Card   1\n",
      "1\n"
     ]
    },
    {
     "ename": "TypeError",
     "evalue": "'int' object is not callable",
     "output_type": "error",
     "traceback": [
      "\u001b[0;31m---------------------------------------------------------------------------\u001b[0m",
      "\u001b[0;31mTypeError\u001b[0m                                 Traceback (most recent call last)",
      "Cell \u001b[0;32mIn[59], line 37\u001b[0m\n\u001b[1;32m     34\u001b[0m     card_dict[i\u001b[38;5;241m+\u001b[39m\u001b[38;5;241m1\u001b[39m] \u001b[38;5;241m=\u001b[39m \u001b[38;5;241m1\u001b[39m\n\u001b[1;32m     36\u001b[0m \u001b[38;5;28;01mfor\u001b[39;00m line \u001b[38;5;129;01min\u001b[39;00m lines:\n\u001b[0;32m---> 37\u001b[0m     n \u001b[38;5;241m=\u001b[39m \u001b[43mget_cards\u001b[49m\u001b[43m(\u001b[49m\u001b[43mline\u001b[49m\u001b[43m,\u001b[49m\u001b[43m \u001b[49m\u001b[43mcard_dict\u001b[49m\u001b[43m)\u001b[49m\n\u001b[1;32m     38\u001b[0m     total_card \u001b[38;5;241m+\u001b[39m\u001b[38;5;241m=\u001b[39m n\n\u001b[1;32m     40\u001b[0m \u001b[38;5;28mprint\u001b[39m(total_card)  \n",
      "Cell \u001b[0;32mIn[59], line 18\u001b[0m, in \u001b[0;36mget_cards\u001b[0;34m(line, card_dict)\u001b[0m\n\u001b[1;32m     16\u001b[0m card_index, l1, l2 \u001b[38;5;241m=\u001b[39m anal_card(line)\n\u001b[1;32m     17\u001b[0m n \u001b[38;5;241m=\u001b[39m card_dict[card_index]\n\u001b[0;32m---> 18\u001b[0m win_num \u001b[38;5;241m=\u001b[39m \u001b[38;5;28;43msum\u001b[39;49m\u001b[43m(\u001b[49m\u001b[43m[\u001b[49m\u001b[38;5;241;43m1\u001b[39;49m\u001b[43m \u001b[49m\u001b[38;5;28;43;01mfor\u001b[39;49;00m\u001b[43m \u001b[49m\u001b[43mi\u001b[49m\u001b[43m \u001b[49m\u001b[38;5;129;43;01min\u001b[39;49;00m\u001b[43m \u001b[49m\u001b[43ml2\u001b[49m\u001b[43m \u001b[49m\u001b[38;5;28;43;01mif\u001b[39;49;00m\u001b[43m \u001b[49m\u001b[43mi\u001b[49m\u001b[43m \u001b[49m\u001b[38;5;129;43;01min\u001b[39;49;00m\u001b[43m \u001b[49m\u001b[43ml1\u001b[49m\u001b[43m]\u001b[49m\u001b[43m)\u001b[49m\n\u001b[1;32m     20\u001b[0m \u001b[38;5;28;01mfor\u001b[39;00m i \u001b[38;5;129;01min\u001b[39;00m \u001b[38;5;28mrange\u001b[39m(win_num):\n\u001b[1;32m     21\u001b[0m     \u001b[38;5;28;01mif\u001b[39;00m card_index\u001b[38;5;241m+\u001b[39mi\u001b[38;5;241m+\u001b[39m\u001b[38;5;241m1\u001b[39m \u001b[38;5;129;01min\u001b[39;00m card_dict\u001b[38;5;241m.\u001b[39mkeys():\n",
      "\u001b[0;31mTypeError\u001b[0m: 'int' object is not callable"
     ]
    }
   ],
   "source": [
    "import re\n",
    "\n",
    "def anal_card(line) :\n",
    "    # split the line into three parts using \":\" and \"|\"\n",
    "    parts = re.split(r'[:|]', line)\n",
    "    name = parts[0]\n",
    "    print(name)\n",
    "    card_index = int(re.search(r'\\d+', name).group(0))\n",
    "    print(card_index)\n",
    "    l1 = [int(i) for i in re.findall(r'\\d+', parts[1])]\n",
    "    l2 = [int(i) for i in re.findall(r'\\d+', parts[2])]\n",
    "    return card_index, l1, l2\n",
    "\n",
    "\n",
    "def get_cards(line, card_dict) :\n",
    "    card_index, l1, l2 = anal_card(line)\n",
    "    n = card_dict[card_index]\n",
    "    win_num = sum([1 for i in l2 if i in l1])\n",
    "\n",
    "    for i in range(win_num):\n",
    "        if card_index+i+1 in card_dict.keys():\n",
    "            card_dict[card_index+i+1] += 1\n",
    "        card_dict[card_index+1+i] += 1\n",
    "    \n",
    "    return n\n",
    "\n",
    "\n",
    "card_dict = {}\n",
    "total_card = 0\n",
    "\n",
    "max_card_num = len(lines)+1\n",
    "\n",
    "for i in range(len(lines)):\n",
    "    card_dict[i+1] = 1\n",
    "\n",
    "for line in lines:\n",
    "    n = get_cards(line, card_dict)\n",
    "    total_card += n\n",
    "\n",
    "print(total_card)  \n",
    "    \n",
    "    "
   ]
  },
  {
   "cell_type": "code",
   "execution_count": 53,
   "metadata": {},
   "outputs": [],
   "source": [
    "for i in range(0):\n",
    "    print(i)"
   ]
  }
 ],
 "metadata": {
  "kernelspec": {
   "display_name": "Python 3",
   "language": "python",
   "name": "python3"
  },
  "language_info": {
   "codemirror_mode": {
    "name": "ipython",
    "version": 3
   },
   "file_extension": ".py",
   "mimetype": "text/x-python",
   "name": "python",
   "nbconvert_exporter": "python",
   "pygments_lexer": "ipython3",
   "version": "3.11.3"
  }
 },
 "nbformat": 4,
 "nbformat_minor": 2
}
